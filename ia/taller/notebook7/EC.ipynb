{
 "cells": [
  {
   "cell_type": "markdown",
   "metadata": {},
   "source": [
    "<table>\n",
    "    <tr>\n",
    "        <td><img src=\"./imagenes/Macc.png\" width=\"400\"/></td>\n",
    "        <td>&nbsp;</td>\n",
    "        <td>\n",
    "            <h1 style=\"color:blue;text-align:left\">Inteligencia Artificial</h1></td>\n",
    "        <td>\n",
    "            <table><tr>\n",
    "            <tp><p style=\"font-size:150%;text-align:center\">Notebook</p></tp>\n",
    "            <tp><p style=\"font-size:150%;text-align:center\">Cálculo de Eventos</p></tp>\n",
    "            </tr></table>\n",
    "        </td>\n",
    "    </tr>\n",
    "</table>\n",
    "\n",
    "---\n"
   ]
  },
  {
   "cell_type": "markdown",
   "metadata": {},
   "source": [
    "## Objetivo <a class=\"anchor\" id=\"inicio\"></a>\n",
    "\n",
    "En este notebook veremos una manera de implementar el razonamiento de sentido común usando el Cálculo de Eventos Discreto.\n",
    "\n",
    "Basado en Mueller, E. T. (2006). *Commonsense Reasoning*. Morgan Kaufmann/Elsevier, San Francisco. Ver el [sitio web](https://decreasoner.sourceforge.net/) del programa ya implementado.\n",
    "\n",
    "## Secciones\n",
    "\n",
    "Desarrollaremos la explicación en las siguientes secciones:\n",
    "\n",
    "* [Constantes y predicados.](#consts)\n",
    "* [Fluentes, eventos e instantes.](#fluev)\n",
    "* [Situaciones.](#sits)\n",
    "* [Fórmulas.](#forms)\n",
    "* [Cuantificadores.](#cuants)\n",
    "* [Axiomas.](#axs)\n",
    "* [Base de conocimiento.](#base)\n",
    "\n"
   ]
  },
  {
   "cell_type": "code",
   "execution_count": 1,
   "metadata": {},
   "outputs": [],
   "source": [
    "from ec import *"
   ]
  },
  {
   "cell_type": "markdown",
   "metadata": {},
   "source": [
    "# Constantes y predicados \n",
    "<a class=\"anchor\" id=\"consts\"></a>\n",
    "\n",
    "([Volver al inicio](#inicio))\n",
    "\n"
   ]
  },
  {
   "cell_type": "markdown",
   "metadata": {},
   "source": [
    "**Constantes:**"
   ]
  },
  {
   "cell_type": "code",
   "execution_count": 2,
   "metadata": {},
   "outputs": [
    {
     "name": "stdout",
     "output_type": "stream",
     "text": [
      "nombre:pedro, tipo:agente, clase:Constante\n"
     ]
    }
   ],
   "source": [
    "p = Constante(tipo='agente', nombre='pedro')\n",
    "print(f'nombre:{p}, tipo:{p.tipo}, clase:{obtener_type(p)}')"
   ]
  },
  {
   "cell_type": "code",
   "execution_count": 3,
   "metadata": {
    "scrolled": true
   },
   "outputs": [
    {
     "name": "stdout",
     "output_type": "stream",
     "text": [
      "nombre:bogota, tipo:lugar, clase:Constante\n"
     ]
    }
   ],
   "source": [
    "b = Constante(tipo='lugar', nombre='bogota')\n",
    "print(f'nombre:{b}, tipo:{b.tipo}, clase:{obtener_type(b)}')"
   ]
  },
  {
   "cell_type": "markdown",
   "metadata": {},
   "source": [
    "**Predicados:**"
   ]
  },
  {
   "cell_type": "code",
   "execution_count": 4,
   "metadata": {},
   "outputs": [
    {
     "name": "stdout",
     "output_type": "stream",
     "text": [
      "str:Dormido(pedro), nombre:Dormido, \n",
      "tipos:['agente'], argumentos:[<ec.Constante object at 0x7fc6284358b0>], clase:Atomo\n"
     ]
    }
   ],
   "source": [
    "atomo = Atomo(nombre='dormido', tipos_argumentos=['agente'], argumentos=[p])\n",
    "print(f'str:{atomo}, nombre:{atomo.nombre}, \\ntipos:{atomo.predicado.tipos_argumentos}, argumentos:{atomo.argumentos}, clase:{obtener_type(atomo)}')"
   ]
  },
  {
   "cell_type": "markdown",
   "metadata": {},
   "source": [
    "# Fluentes, eventos e instantes \n",
    "<a class=\"anchor\" id=\"fluev\"></a>\n",
    "\n",
    "([Volver al inicio](#inicio))\n",
    "\n"
   ]
  },
  {
   "cell_type": "markdown",
   "metadata": {},
   "source": [
    "**Fluentes:**"
   ]
  },
  {
   "cell_type": "code",
   "execution_count": 5,
   "metadata": {},
   "outputs": [
    {
     "name": "stdout",
     "output_type": "stream",
     "text": [
      "str:f_0, nombre:Dormido, tipo:fluente, clase:Fluente\n"
     ]
    }
   ],
   "source": [
    "flu = Fluente(nombre=atomo.nombre, atomo=atomo)\n",
    "print(f'str:{flu}, nombre:{flu.nombre}, tipo:{flu.tipo}, clase:{obtener_type(flu)}')"
   ]
  },
  {
   "cell_type": "markdown",
   "metadata": {},
   "source": [
    "**Eventos:**"
   ]
  },
  {
   "cell_type": "code",
   "execution_count": 6,
   "metadata": {},
   "outputs": [
    {
     "name": "stdout",
     "output_type": "stream",
     "text": [
      "str:e_0, nombre:DESPERTAR, tipo:evento, clase:Evento\n",
      "['DESPERTAR(e_0)', 'SUJETO(e_0,pedro)', 'EN(e_0,bogota)']\n"
     ]
    }
   ],
   "source": [
    "e = Evento(nombre='DESPERTAR', sujeto=p, lugar=b)\n",
    "print(f'str:{e}, nombre:{e.nombre}, tipo:{e.tipo}, clase:{obtener_type(e)}')\n",
    "print(e.formular())"
   ]
  },
  {
   "cell_type": "markdown",
   "metadata": {},
   "source": [
    "**Instantes:**"
   ]
  },
  {
   "cell_type": "code",
   "execution_count": 7,
   "metadata": {},
   "outputs": [
    {
     "name": "stdout",
     "output_type": "stream",
     "text": [
      "valor:0, tipo:instante, clase:Instante\n"
     ]
    }
   ],
   "source": [
    "t = Instante(0)\n",
    "print(f'valor:{t.valor}, tipo:{t.tipo}, clase:{obtener_type(t)}')"
   ]
  },
  {
   "cell_type": "markdown",
   "metadata": {},
   "source": [
    "# Situaciones <a class=\"anchor\" id=\"sits\"></a>\n",
    "\n",
    "([Volver al inicio](#inicio))"
   ]
  },
  {
   "cell_type": "code",
   "execution_count": 8,
   "metadata": {},
   "outputs": [
    {
     "name": "stdout",
     "output_type": "stream",
     "text": [
      "Instantes: ['0', '1', '2']\n",
      "\n",
      "Entidades:\n",
      "\tTipo: objeto\n",
      "\tluz\n",
      "\n",
      "Eventos:\n",
      "\te_0:\n",
      "\tENCENDER(e_0)\n",
      "\n",
      "Fluentes:\n",
      "\tf_0: Encendida(luz)\n",
      "\n"
     ]
    }
   ],
   "source": [
    "sit = Situacion()\n",
    "sit.nueva_entidad('objeto', 'luz')\n",
    "o = sit.entidades['objeto'][0]\n",
    "\n",
    "for t in range(3):\n",
    "    sit.nuevo_instante()\n",
    "\n",
    "sit.nuevo_evento('encender')\n",
    "atomo = Atomo('encendida', ['objeto'], [o])\n",
    "sit.nuevo_fluente(atomo)\n",
    "print(sit)"
   ]
  },
  {
   "cell_type": "markdown",
   "metadata": {},
   "source": [
    "**Ejercicio 1:**\n",
    "\n",
    "Cree una nueva situación `sit2` e incluya las entidades Pedro y Bogotá, el fluente `Dormido` y el evento `DESPERTAR` (con las características mostradas anteriormente), con dos instantes de tiempo. Visualice la nueva situación."
   ]
  },
  {
   "cell_type": "markdown",
   "metadata": {},
   "source": [
    "---"
   ]
  },
  {
   "cell_type": "code",
   "execution_count": null,
   "metadata": {},
   "outputs": [],
   "source": []
  },
  {
   "cell_type": "markdown",
   "metadata": {},
   "source": [
    "# Fórmulas <a class=\"anchor\" id=\"forms\"></a>\n",
    "\n",
    "([Volver al inicio](#inicio))\n",
    "\n",
    "Tenemos fórmulas referentes a la relación entre las constantes de eventos, fluentes e instantes:\n",
    "\n",
    "* Happens(e,t)\n",
    "* HoldsAt(f,t)\n",
    "* Initiates(e,f,t)\n",
    "* Terminates(e,f,t)\n",
    "* Antes\n",
    "\n",
    "Todas estas fórmulas reciben o bien índices o bien constantes:"
   ]
  },
  {
   "cell_type": "code",
   "execution_count": 9,
   "metadata": {},
   "outputs": [
    {
     "name": "stdout",
     "output_type": "stream",
     "text": [
      "Happens(ev0,ti0)\n",
      "HoldsAt(flu0,ti0)\n",
      "Initiates(ev0,flu0,ti0)\n",
      "Terminates(ev0,flu0,ti0)\n",
      "ti0<ti1\n"
     ]
    }
   ],
   "source": [
    "haps1 = Happens(0, 0)\n",
    "print(haps1)\n",
    "holds1 = HoldsAt(0, 0)\n",
    "print(holds1)\n",
    "ini1 = Initiates(0, 0, 0)\n",
    "print(ini1)\n",
    "term1 = Terminates(0, 0, 0)\n",
    "print(term1)\n",
    "rel1 = Antes(0, 1)\n",
    "print(rel1)"
   ]
  },
  {
   "cell_type": "code",
   "execution_count": 10,
   "metadata": {},
   "outputs": [
    {
     "name": "stdout",
     "output_type": "stream",
     "text": [
      "Happens(e_0,2)\n"
     ]
    }
   ],
   "source": [
    "p = Constante(tipo='agente', nombre='pedro')\n",
    "b = Constante(tipo='lugar', nombre='bogota')\n",
    "atomo = Atomo(nombre='dormido', tipos_argumentos=['agente'], argumentos=[p])\n",
    "flu = Fluente(nombre=atomo.nombre, atomo=atomo)\n",
    "e = Evento(nombre='DESPERTAR', sujeto=p, lugar=b)\n",
    "haps = Happens(0, 0, e=e,t=t)\n",
    "print(haps)"
   ]
  },
  {
   "cell_type": "markdown",
   "metadata": {},
   "source": [
    "**Función** `sust`:"
   ]
  },
  {
   "cell_type": "code",
   "execution_count": 11,
   "metadata": {},
   "outputs": [
    {
     "name": "stdout",
     "output_type": "stream",
     "text": [
      "Happens(ev0,ti0) => Happens(e_0,ti0)\n"
     ]
    },
    {
     "ename": "NameError",
     "evalue": "name 'term2' is not defined",
     "output_type": "error",
     "traceback": [
      "\u001b[0;31m---------------------------------------------------------------------------\u001b[0m",
      "\u001b[0;31mNameError\u001b[0m                                 Traceback (most recent call last)",
      "\u001b[0;32m/tmp/ipykernel_11423/1435866393.py\u001b[0m in \u001b[0;36m<module>\u001b[0;34m\u001b[0m\n\u001b[1;32m      7\u001b[0m \u001b[0mhaps2\u001b[0m \u001b[0;34m=\u001b[0m \u001b[0msust\u001b[0m\u001b[0;34m(\u001b[0m\u001b[0mhaps1\u001b[0m\u001b[0;34m,\u001b[0m \u001b[0;36m0\u001b[0m\u001b[0;34m,\u001b[0m \u001b[0me\u001b[0m\u001b[0;34m)\u001b[0m\u001b[0;34m\u001b[0m\u001b[0;34m\u001b[0m\u001b[0m\n\u001b[1;32m      8\u001b[0m \u001b[0mprint\u001b[0m\u001b[0;34m(\u001b[0m\u001b[0mhaps1\u001b[0m\u001b[0;34m,\u001b[0m \u001b[0;34m'=>'\u001b[0m\u001b[0;34m,\u001b[0m \u001b[0mhaps2\u001b[0m\u001b[0;34m)\u001b[0m\u001b[0;34m\u001b[0m\u001b[0;34m\u001b[0m\u001b[0m\n\u001b[0;32m----> 9\u001b[0;31m \u001b[0mterm2\u001b[0m \u001b[0;34m=\u001b[0m \u001b[0msust\u001b[0m\u001b[0;34m(\u001b[0m\u001b[0mterm2\u001b[0m\u001b[0;34m,\u001b[0m \u001b[0;36m0\u001b[0m\u001b[0;34m,\u001b[0m \u001b[0me\u001b[0m\u001b[0;34m)\u001b[0m\u001b[0;34m\u001b[0m\u001b[0;34m\u001b[0m\u001b[0m\n\u001b[0m\u001b[1;32m     10\u001b[0m \u001b[0mterm2\u001b[0m \u001b[0;34m=\u001b[0m \u001b[0msust\u001b[0m\u001b[0;34m(\u001b[0m\u001b[0mterm2\u001b[0m\u001b[0;34m,\u001b[0m \u001b[0;36m0\u001b[0m\u001b[0;34m,\u001b[0m \u001b[0mflu\u001b[0m\u001b[0;34m)\u001b[0m\u001b[0;34m\u001b[0m\u001b[0;34m\u001b[0m\u001b[0m\n\u001b[1;32m     11\u001b[0m \u001b[0mterm2\u001b[0m \u001b[0;34m=\u001b[0m \u001b[0msust\u001b[0m\u001b[0;34m(\u001b[0m\u001b[0mterm1\u001b[0m\u001b[0;34m,\u001b[0m \u001b[0;36m0\u001b[0m\u001b[0;34m,\u001b[0m \u001b[0mt\u001b[0m\u001b[0;34m)\u001b[0m\u001b[0;34m\u001b[0m\u001b[0;34m\u001b[0m\u001b[0m\n",
      "\u001b[0;31mNameError\u001b[0m: name 'term2' is not defined"
     ]
    }
   ],
   "source": [
    "p = Constante(tipo='agente', nombre='pedro')\n",
    "b = Constante(tipo='lugar', nombre='bogota')\n",
    "atomo = Atomo(nombre='dormido', tipos_argumentos=['agente'], argumentos=[p])\n",
    "flu = Fluente(nombre=atomo.nombre, atomo=atomo)\n",
    "e = Evento(nombre='DESPERTAR', sujeto=p, lugar=b)\n",
    "t = Instante(0)\n",
    "haps2 = sust(haps1, 0, e)\n",
    "print(haps1, '=>', haps2)\n",
    "term2 = sust(term2, 0, e)\n",
    "term2 = sust(term2, 0, flu)\n",
    "term2 = sust(term1, 0, t)\n",
    "print(term1, '=>', term2)\n",
    "rel2 = sust(rel1, 1, t)\n",
    "print(rel1, '=>', rel2)"
   ]
  },
  {
   "cell_type": "markdown",
   "metadata": {},
   "source": [
    "También tenemos fórmulas relacionadas con las constantes lógicas:\n",
    "\n",
    "* Y\n",
    "* O\n",
    "* Regla\n",
    "* Negacion"
   ]
  },
  {
   "cell_type": "code",
   "execution_count": null,
   "metadata": {},
   "outputs": [],
   "source": [
    "f1 = Y([Happens(0, 1), Antes(0, 1),])\n",
    "print(f1)\n",
    "f2 = Negacion(f1)\n",
    "print(f2)\n",
    "f3 = Regla(f2, Negacion(Antes(0, 1)))\n",
    "print(f3)"
   ]
  },
  {
   "cell_type": "markdown",
   "metadata": {},
   "source": [
    "---"
   ]
  },
  {
   "cell_type": "markdown",
   "metadata": {},
   "source": [
    "## En este notebook usted aprendió\n",
    "\n",
    "* Implementar objetos, fórmulas y situaciones del Cálculo de Eventos en Python.\n",
    "* Representar algunas situaciones sencillas.\n",
    "* Usar una base de conocimiento para determinar si algunos fluentes son verdaderos."
   ]
  }
 ],
 "metadata": {
  "kernelspec": {
   "display_name": "Python 3 (ipykernel)",
   "language": "python",
   "name": "python3"
  },
  "language_info": {
   "codemirror_mode": {
    "name": "ipython",
    "version": 3
   },
   "file_extension": ".py",
   "mimetype": "text/x-python",
   "name": "python",
   "nbconvert_exporter": "python",
   "pygments_lexer": "ipython3",
   "version": "3.9.7"
  }
 },
 "nbformat": 4,
 "nbformat_minor": 4
}
