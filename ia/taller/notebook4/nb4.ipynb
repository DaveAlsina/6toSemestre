{
 "cells": [
  {
   "cell_type": "markdown",
   "metadata": {
    "colab_type": "text",
    "id": "TpmFfXsQ0dYI"
   },
   "source": [
    "<table>\n",
    "    <tr>\n",
    "        <td><img src=\"./imagenes/Macc.png\" width=\"400\"/></td>\n",
    "        <td>&nbsp;</td>\n",
    "        <td>\n",
    "            <h1 style=\"color:blue;text-align:left\">Inteligencia Artificial</h1></td>\n",
    "        <td>\n",
    "            <table><tr>\n",
    "            <tp><p style=\"font-size:150%;text-align:center\">Notebook 4</p></tp>\n",
    "            <tp><p style=\"font-size:150%;text-align:center\">Búsqueda en espacio de estados (3/3) </p></tp>\n",
    "            </tr></table>\n",
    "        </td>\n",
    "    </tr>\n",
    "</table>\n",
    "\n",
    "---"
   ]
  },
  {
   "cell_type": "markdown",
   "metadata": {
    "colab_type": "text",
    "id": "V3SkDSWJ0dYJ"
   },
   "source": [
    "## Objetivo <a class=\"anchor\" id=\"inicio\"></a>\n",
    "\n",
    "En el notebook anterior solucionamos el problema de las jarras de agua con una función de costo que mide el desperdicio de agua usando el algoritmo `best_first_search`. En este notebook vamos a utilizar dicho algoritmo para hacer búsquedas basadas en costos (llamada `uniform_cost_search`). También adaptaremos dicho algoritmo para usar funciones heurísticas, cuyo propósito es mejorar el proceso de búsqueda. Las heurísticas usan información específica sobre el problema para evaluar qué tan cerca está un estado de la solución del problema. \n",
    "\n",
    "Adaptado de (Russell & Norvig, 2020), secciones 3.4.2, 3.5.1 y 3.5.2."
   ]
  },
  {
   "cell_type": "markdown",
   "metadata": {
    "colab_type": "text",
    "id": "5HnQ_gA70dYL"
   },
   "source": [
    "## Secciones\n",
    "\n",
    "Desarrollaremos la explicación de la siguiente manera:\n",
    "\n",
    "* [Problema del viaje a Rumania](#rumania).\n",
    "* [Estrategia de búsqueda uniform cost](#uniform).\n",
    "* [Búsqueda avara](#avara).\n",
    "* [Problema del 8 puzzle](#8puzzle).\n",
    "* [Heurísticas para el 8 puzzle](#heuristicas).\n",
    "* [Comparación de las heurísticas](#compara).\n"
   ]
  },
  {
   "cell_type": "markdown",
   "metadata": {},
   "source": [
    "## El problema del viaje a Rumania <a class=\"anchor\" id=\"rumania\"></a>\n",
    "\n",
    "([Volver al inicio](#inicio))\n",
    "\n",
    "Imagine que usted viaja a Rumania y que desconoce por completo el país, pero tiene a mano un mapa de los caminos, que le indica las longitudes en kilómetros, como el siguiente:\n",
    "\n",
    "<img src=\"./imagenes/Rumania.png\" width=\"500px\"/>\n",
    "\n",
    "El problema consiste en, dada una ciudad de salida y una ciudad de llegada, encontrar el camino más corto."
   ]
  },
  {
   "cell_type": "markdown",
   "metadata": {},
   "source": [
    "**Ejercicio 1:**\n",
    "\n",
    "Complete la definición formal del problema del viaje a Rumania:    \n",
    "\n",
    "* **Estado inicial**: \n",
    "\n",
    "* **Posibles acciones**: \n",
    "\n",
    "* **Función de transiciones**: \n",
    "\n",
    "* **Prueba de satisfacción del objetivo**: \n",
    "\n",
    "* **Función de costo**: "
   ]
  },
  {
   "cell_type": "markdown",
   "metadata": {},
   "source": [
    "---"
   ]
  },
  {
   "cell_type": "markdown",
   "metadata": {},
   "source": [
    "Podemos importar este problema desde nuestra librería `ambientes`:"
   ]
  },
  {
   "cell_type": "code",
   "execution_count": 1,
   "metadata": {},
   "outputs": [],
   "source": [
    "from ambientes import ViajeRumania\n",
    "from busqueda import *"
   ]
  },
  {
   "cell_type": "markdown",
   "metadata": {},
   "source": [
    "Supongamos que nuestro problema es ir desde Sibiu hasta Bucharest. Entonces creamos el problema así:"
   ]
  },
  {
   "cell_type": "code",
   "execution_count": 2,
   "metadata": {},
   "outputs": [],
   "source": [
    "viaje = ViajeRumania('Sibiu', 'Bucharest')"
   ]
  },
  {
   "cell_type": "markdown",
   "metadata": {},
   "source": [
    "Observe que el problema tiene un atributo de rutas, que podemos visualizar así:"
   ]
  },
  {
   "cell_type": "code",
   "execution_count": 3,
   "metadata": {},
   "outputs": [
    {
     "data": {
      "text/plain": [
       "{'Oradea': {'Zerind': 71, 'Sibiu': 151},\n",
       " 'Zerind': {'Arad': 75, 'Oradea': 71},\n",
       " 'Arad': {'Timisoara': 118, 'Sibiu': 140, 'Zerind': 71},\n",
       " 'Timisoara': {'Lugoj': 111, 'Arad': 118},\n",
       " 'Lugoj': {'Mehadia': 70, 'Timisoara': 111},\n",
       " 'Mehadia': {'Drobeta': 75, 'Lugoj': 70},\n",
       " 'Drobeta': {'Craiova': 120, 'Mehadia': 75},\n",
       " 'Sibiu': {'Fagaras': 99, 'Rimnicu Vilcea': 80, 'Arad': 140, 'Oradea': 151},\n",
       " 'Rimnicu Vilcea': {'Craiova': 146, 'Pitesti': 97, 'Sibiu': 80},\n",
       " 'Craiova': {'Pitesti': 138, 'Drobeta': 120, 'Rimnicu Vilcea': 146},\n",
       " 'Fagaras': {'Bucharest': 211, 'Sibiu': 99},\n",
       " 'Pitesti': {'Bucharest': 101, 'Craiova': 138, 'Rimnicu Vilcea': 97},\n",
       " 'Bucharest': {'Giurgiu': 90, 'Urziceni': 85, 'Fagaras': 211, 'Pitesti': 101},\n",
       " 'Giurgiu': {'Bucharest': 90},\n",
       " 'Urziceni': {'Vaslui': 142, 'Hirsova': 98, 'Bucharest': 85},\n",
       " 'Vaslui': {'Iasi': 92, 'Urziceni': 142},\n",
       " 'Iasi': {'Neamt': 87, 'Vaslui': 92},\n",
       " 'Neamt': {'Iasi': 87},\n",
       " 'Hirsova': {'Eforie': 86, 'Urziceni': 98},\n",
       " 'Eforie': {'Hirsova': 86}}"
      ]
     },
     "execution_count": 3,
     "metadata": {},
     "output_type": "execute_result"
    }
   ],
   "source": [
    "viaje.rutas"
   ]
  },
  {
   "cell_type": "markdown",
   "metadata": {},
   "source": [
    "Este atributo se utiliza tanto para encontrar las acciones aplicables como para determinar los costos de ir de una ciudad a una ciudad vecina."
   ]
  },
  {
   "cell_type": "markdown",
   "metadata": {},
   "source": [
    "**Ejercicio 2:**\n",
    "\n",
    "A mano, encuentre el camino más corto desde Sibiu a Bucharest. Cree una lista con los nodos en dicho camino y encuentre su atributo `costo_camino`."
   ]
  },
  {
   "cell_type": "markdown",
   "metadata": {},
   "source": [
    "---"
   ]
  },
  {
   "cell_type": "code",
   "execution_count": 4,
   "metadata": {},
   "outputs": [
    {
     "name": "stdout",
     "output_type": "stream",
     "text": [
      "Resultado del test objetivo: True\n"
     ]
    }
   ],
   "source": [
    "n = Nodo(estado = viaje.estado_inicial, \n",
    "         madre = None, \n",
    "         accion = None, \n",
    "         costo_camino = 0,\n",
    "         codigo = \"origin\")\n",
    "\n",
    "n1 = nodo_hijo(problema = viaje,\n",
    "               madre  = n, \n",
    "               accion = 'Rimnicu Vilcea')\n",
    "\n",
    "n2 = nodo_hijo(problema = viaje,\n",
    "               madre  = n1, \n",
    "               accion = 'Pitesti')\n",
    "\n",
    "n3 = nodo_hijo(problema = viaje,\n",
    "               madre  = n2, \n",
    "               accion = 'Bucharest')\n",
    "\n",
    "print(\"Resultado del test objetivo: {}\".format(viaje.test_objetivo(n3.estado)) )\n",
    "\n"
   ]
  },
  {
   "cell_type": "markdown",
   "metadata": {},
   "source": [
    "**Ejercicio 3:**\n",
    "\n",
    "Desde la librería `busqueda` importe las funciones `depth_first_search` y `breadth_first_search`. Utilice ambos métodos para solucionar el problema y encuentre el kilometraje de la solución dada por cada uno de estos métodos. ¿Alguna se parece a la solución encontrada a mano?"
   ]
  },
  {
   "cell_type": "markdown",
   "metadata": {},
   "source": [
    "---"
   ]
  },
  {
   "cell_type": "code",
   "execution_count": 5,
   "metadata": {},
   "outputs": [
    {
     "name": "stdout",
     "output_type": "stream",
     "text": [
      "Resultado del test objetivo: True\n",
      "Costo del camino de depth first 1135\n"
     ]
    }
   ],
   "source": [
    "ans = depth_first_search(viaje)\n",
    "\n",
    "print(\"Resultado del test objetivo: {}\".format(viaje.test_objetivo( ans.estado)) )\n",
    "print(\"Costo del camino de depth first {}\".format(ans.costo_camino))"
   ]
  },
  {
   "cell_type": "code",
   "execution_count": 6,
   "metadata": {},
   "outputs": [
    {
     "name": "stdout",
     "output_type": "stream",
     "text": [
      "Costo del camino de breath first 310\n",
      "Resultado del test objetivo: True\n"
     ]
    }
   ],
   "source": [
    "ans = breadth_first_search(viaje)\n",
    "\n",
    "print(\"Costo del camino de breath first {}\".format(ans.costo_camino))\n",
    "print(\"Resultado del test objetivo: {}\".format(viaje.test_objetivo( ans.estado)) )\n"
   ]
  },
  {
   "cell_type": "markdown",
   "metadata": {},
   "source": [
    "## Uniform-cost search (o algoritmo de Dijkstra) <a class=\"anchor\" id=\"uniform\"></a>\n",
    "\n",
    "([Volver al inicio](#inicio))\n",
    "\n",
    "En el notebook anterior solucionamos el problema de las jarras de agua con una función de costo que mide el desperdicio de agua. Al realizar una búsqueda en un espacio de estados usando una función de costo, como `desperdicio`, se dice que se está realizando una búsqueda de costo uniforme. Lo que caracteriza a la búsqueda de costo uniforme es que la función de costo siempre crece a medida que aumentamos la longitud del camino. "
   ]
  },
  {
   "cell_type": "markdown",
   "metadata": {},
   "source": [
    "**Ejercicio 4:**\n",
    "\n",
    "Ahora encuentre la solución óptima del viaje a Rumania mediante el algoritmo de costo uniforme (que es el mismo `best_first_search`)."
   ]
  },
  {
   "cell_type": "markdown",
   "metadata": {},
   "source": [
    "---"
   ]
  },
  {
   "cell_type": "code",
   "execution_count": 7,
   "metadata": {},
   "outputs": [
    {
     "name": "stdout",
     "output_type": "stream",
     "text": [
      "Costo del camino de best first 278\n",
      "Resultado del test objetivo: True\n"
     ]
    }
   ],
   "source": [
    "ans = best_first_search(viaje)\n",
    "\n",
    "print(\"Costo del camino de best first {}\".format(ans.costo_camino))\n",
    "print(\"Resultado del test objetivo: {}\".format(viaje.test_objetivo( ans.estado)) )"
   ]
  },
  {
   "cell_type": "markdown",
   "metadata": {},
   "source": [
    "**Cuando el orden de los factores sí altera el producto**\n",
    "\n",
    "Veremos ahora un ejemplo que nos permite justificar por qué la verificación de la prueba de satisfacción de objetivo se realiza al explorar la frontera, no al expandir un nodo. Observe que en el notebook 2 realizábamos esta verificación al expandir un nodo. Si encontrábamos una solución, estaba bien y concluíamos la búsqueda. En el algoritmo `best_first_search` somos un poco más cuidadosos y no verificamos sino hasta expandir la frontera de acuerdo a la lista prioritaria. La razón de esto podemos verla con un ejemplo.\n",
    "\n",
    "Consideremos el problema de ir desde Sibiu a Bucharest.\n",
    "\n",
    "<img src=\"./imagenes/Sibiu2Bucharest.png\" width=\"280px\"/>\n",
    "\n",
    "Los sucesores de Sibiu son Rimnicu Vilcea y Fagaras, con un coste de 80 y 99, respectivamente. El nodo de menor costo, Rimnicu Vilcea, se amplía a continuación, añadiendo Pitesti con un costo de 80+97=177. El nodo de menor costo es ahora Fagaras, por lo que se amplía, añadiendo Bucarest con un costo de 99 + 211 = 310. Bucarest es el objetivo, pero el algoritmo sólo comprueba los objetivos cuando expande un nodo, no cuando genera un nodo, por lo que aún no ha detectado que éste es un camino hacia el objetivo.\n",
    "\n",
    "El algoritmo continúa, eligiendo Pitesti para la siguiente expansión y añadiendo un segundo camino a Bucarest con un costo de 80 + 97 + 101 = 278. Tiene un costo menor, por lo que sustituye a la ruta anterior alcanzada y se añade a la frontera. Resulta que este nodo tiene ahora el costo más bajo, por lo que se considera el siguiente, se comprueba que es una meta y se devuelve. Nótese que si hubiéramos comprobado la existencia de un objetivo al generar un nodo en lugar de al ampliar el nodo de menor costo, habríamos devuelto un camino de mayor costo (el que pasa por Fagaras).\n",
    "\n"
   ]
  },
  {
   "cell_type": "markdown",
   "metadata": {},
   "source": [
    "## Búsqueda avara <a class=\"anchor\" id=\"avara\"></a>\n",
    "\n",
    "([Volver al inicio](#inicio))\n",
    "\n",
    "Hasta el momento hemos usado una función de costo para ordenar los nodos en la frontera. Esto nos permite explorar primero el nodo cuyo `costo_camino` sea óptimo hasta el momento. No obstante, también podemos ordenar los nodos usando un criterio distinto, llamado una *función heurística*.\n",
    "\n",
    "La idea de una heurística es usar información del problema específico que se desea resolver, de tal manera que, para cada estado $s$, se pueda obtener un *costo estimado* (o una *distancia*) para llegar desde $s$ a un estado objetivo dado.\n",
    "\n",
    "Ilustremos este concepto mediante el ambiente del Laberinto. Observe que cada estado es una posición $(x,y)$ del agente en la cuadrícula y que la salida se encuentra en $(0,0)$. Una estimación del costo de llegar a la salida desde el estado $(x,y)$ puede ser la distancia euclidiana entre estado y salida.\n",
    "\n",
    "<img src=\"./imagenes/laberinto.png\" width=\"280px\"/>"
   ]
  },
  {
   "cell_type": "code",
   "execution_count": 8,
   "metadata": {},
   "outputs": [
    {
     "data": {
      "text/plain": [
       "<AxesSubplot:>"
      ]
     },
     "execution_count": 8,
     "metadata": {},
     "output_type": "execute_result"
    },
    {
     "data": {
      "image/png": "[encoded data removed]",
      "text/plain": [
       "<Figure size 576x576 with 1 Axes>"
      ]
     },
     "metadata": {
      "needs_background": "light"
     },
     "output_type": "display_data"
    }
   ],
   "source": [
    "from busqueda import *\n",
    "from ambientes import Laberinto\n",
    "\n",
    "inicia = (9,9)\n",
    "lab = Laberinto(inicia)\n",
    "s = lab.estado_inicial\n",
    "lab.pintar_estado(s)"
   ]
  },
  {
   "cell_type": "markdown",
   "metadata": {},
   "source": [
    "**Ejercicio 5:**\n",
    "\n",
    "Implemente la función de distancia en el laberinto."
   ]
  },
  {
   "cell_type": "code",
   "execution_count": 9,
   "metadata": {},
   "outputs": [],
   "source": [
    "import numpy as np\n",
    "\n",
    "def distancia(casilla):\n",
    "    \n",
    "    return (casilla[0]**2) + (casilla[1]**2)\n"
   ]
  },
  {
   "cell_type": "markdown",
   "metadata": {},
   "source": [
    "---"
   ]
  },
  {
   "cell_type": "markdown",
   "metadata": {},
   "source": [
    "El siguiente es el pseudocódigo del algoritmo `greedy_search`:\n",
    "\n",
    "<div style=\"background-color:rgba(0, 0, 0, 0.0470588); padding:10px 0;font-family:monospace;\">\n",
    "<font style=\"font-weight: bold;\" color = \"red\">function</font> greedy_search(<font style=\"font-style: italic;\">problema</font>, <font style=\"font-style: italic;\">f</font>) <font style=\"font-weight: bold;\" color = \"red\">returns</font> <font style=\"font-style: italic;\">nodo</font> o falla <br>\n",
    "&nbsp;&nbsp; <font style=\"font-style: italic;\">s</font> &#8592; <font style=\"font-style: italic;\">problema</font>.estado_inicial <br>\n",
    "&nbsp;&nbsp; <font style=\"font-style: italic;\">nodo</font> &#8592; NODO(<font style=\"font-style: italic;\">s</font>) <br>\n",
    "&nbsp;&nbsp; <font style=\"font-style: italic;\">v</font> &#8592; <font style=\"font-style: italic;\">f</font>(<font style=\"font-style: italic;\">s</font>) <br>\n",
    "&nbsp;&nbsp; <font style=\"font-style: italic;\">frontera</font> &#8592; lista prioritaria con 1 item con key <font style=\"font-style: italic;\">nodo</font> y valor <font style=\"font-style: italic;\">v</font><br>\n",
    "&nbsp;&nbsp; <font style=\"font-weight: bold;\" color = \"red\">While not</font> VACIA(<font style=\"font-style: italic;\">frontera</font>) <font style=\"font-weight: bold;\" color = \"red\">do</font> <br> \n",
    "&nbsp;&nbsp;&nbsp;&nbsp; <font style=\"font-style: italic;\">nodo</font> &#8592; POP(<font style=\"font-style: italic;\">frontera</font>) <br>\n",
    "&nbsp;&nbsp;&nbsp;&nbsp; <font style=\"font-weight: bold;\" color = \"red\">if</font> <font style=\"font-style: italic;\">problema</font>.test_objetivo(<font style=\"font-style: italic;\">nodo</font>.estado) <font style=\"font-weight: bold;\" color = \"red\">then return</font> <font style=\"font-style: italic;\">nodo</font> <br>\n",
    "&nbsp;&nbsp;&nbsp;&nbsp; <font style=\"font-weight: bold;\" color = \"red\">for each</font> <font style=\"font-style: italic;\">hijo</font> <font style=\"font-weight: bold;\" color = \"red\">in</font> EXPAND(<font style=\"font-style: italic;\">problema</font>, <font style=\"font-style: italic;\">nodo</font>) <font style=\"font-weight: bold;\" color = \"red\">do</font> <br>\n",
    "&nbsp;&nbsp;&nbsp;&nbsp;&nbsp;&nbsp; <font style=\"font-style: italic;\">s</font> &#8592; <font style=\"font-style: italic;\">hijo</font>.estado<br>\n",
    "&nbsp;&nbsp;&nbsp;&nbsp;&nbsp;&nbsp; <font style=\"font-style: italic;\">v</font> &#8592; <font style=\"font-style: italic;\">f</font>(<font style=\"font-style: italic;\">s</font>) <br>\n",
    "&nbsp;&nbsp;&nbsp;&nbsp;&nbsp;&nbsp; <font style=\"font-style: italic;\">frontera</font>[<font style=\"font-style: italic;\">hijo</font>] &#8592; <font style=\"font-style: italic;\">v</font> <br>\n",
    "    &nbsp;&nbsp; <font style=\"font-weight: bold;\" color = \"red\">return</font> falla <br>\n",
    "</div>\n",
    "\n",
    "\n"
   ]
  },
  {
   "cell_type": "markdown",
   "metadata": {},
   "source": [
    "**Ejercicio 6:**\n",
    "\n",
    "Implemente el pseudocódigo de la función `greedy_search` y utilícela para resolver el problema del laberinto."
   ]
  },
  {
   "cell_type": "code",
   "execution_count": 15,
   "metadata": {},
   "outputs": [],
   "source": [
    "def greedy_search(problema, f):\n",
    "    \n",
    "    \n",
    "    # INCLUYA AQUÍ SU CÓDIGO\n",
    "    state = problema.estado_inicial\n",
    "    node  = Nodo(estado = state, \n",
    "                 madre  = None, \n",
    "                 accion = None,\n",
    "                 costo_camino = 0, \n",
    "                 codigo = \"orgin\")\n",
    "    cost = f(state)\n",
    "    \n",
    "    frontier = ListaPrioritaria()\n",
    "    frontier.push(node, cost)\n",
    "    \n",
    "    code = problema.codigo(state)\n",
    "    explored = [code]\n",
    "    \n",
    "    while not frontier.is_empty():\n",
    "        node = frontier.pop()\n",
    "\n",
    "        if problema.test_objetivo(node.estado):\n",
    "            return node\n",
    "        \n",
    "        for child in expand(problema, node):\n",
    "            state = child.estado\n",
    "            code  = problema.codigo(state)\n",
    "            \n",
    "            if code not in explored:\n",
    "                cost  = f(state)\n",
    "                frontier.push(child, cost)\n",
    "                explored.append(code)\n",
    "    \n",
    "    return None\n",
    "    \n",
    "    # AQUÍ TERMINA SU CÓDIGO"
   ]
  },
  {
   "cell_type": "code",
   "execution_count": 17,
   "metadata": {},
   "outputs": [
    {
     "name": "stdout",
     "output_type": "stream",
     "text": [
      "Costo del camino de greedy search 18\n",
      "Resultado del test objetivo: True\n"
     ]
    }
   ],
   "source": [
    "ans =  greedy_search(lab, distancia)\n",
    "\n",
    "print(\"Costo del camino de greedy search {}\".format(ans.costo_camino))\n",
    "print(\"Resultado del test objetivo: {}\".format( lab.test_objetivo( ans.estado)) )"
   ]
  },
  {
   "cell_type": "markdown",
   "metadata": {},
   "source": [
    "**Ejercicio 7:**\n",
    "\n",
    "Use la función `compara_funciones` en el archivo `tiempos` para comparar los tiempos de CPU de los métodos `greedy_search` y `best_first_search` con la función de costo uniforme. ¿Cuál algoritmo es mejor?"
   ]
  },
  {
   "cell_type": "code",
   "execution_count": 28,
   "metadata": {},
   "outputs": [],
   "source": [
    "from tiempos import *"
   ]
  },
  {
   "cell_type": "code",
   "execution_count": 48,
   "metadata": {},
   "outputs": [],
   "source": [
    "def costo_uniforme(self, estado=None, accion = None):\n",
    "    return 1"
   ]
  },
  {
   "cell_type": "code",
   "execution_count": 54,
   "metadata": {},
   "outputs": [],
   "source": [
    "inicia = (9,9)\n",
    "lab = Laberinto(inicia)\n",
    "nombres = ['best_first_search', 'greedy']\n",
    "\n",
    "funs = [lambda x: greedy_search(x,  costo_uniforme),\n",
    "        lambda x: best_first_search(x,  costo_uniforme)]"
   ]
  },
  {
   "cell_type": "code",
   "execution_count": 66,
   "metadata": {},
   "outputs": [
    {
     "name": "stdout",
     "output_type": "stream",
     "text": [
      "              sum_sq    df          F        PR(>F)\n",
      "C(Función)  0.000022   1.0  37.385888  1.981073e-08\n",
      "Residual    0.000058  98.0        NaN           NaN\n"
     ]
    },
    {
     "data": {
      "image/png": "[encoded data removed]",
      "text/plain": [
       "<Figure size 432x216 with 1 Axes>"
      ]
     },
     "metadata": {
      "needs_background": "light"
     },
     "output_type": "display_data"
    }
   ],
   "source": [
    "data = compara_funciones(funs=funs,\n",
    "                         arg=lab,\n",
    "                         nombres=nombres, \n",
    "                         N = 50)\n",
    "\n",
    "# Graficando\n",
    "fig, ax = plt.subplots(1,1, figsize=(3*len(funs),3), tight_layout=True)\n",
    "sns.boxplot(data=data, x='Función', y='Tiempo')\n",
    "sns.swarmplot(data=data, x='Función', y='Tiempo', color='black', alpha = 0.5, ax=ax);\n",
    "\n",
    "# Anova diferencia de medias\n",
    "model = ols('Tiempo ~ C(Función)', data=data).fit()\n",
    "anova_table = sm.stats.anova_lm(model, typ=2)\n",
    "print(anova_table)"
   ]
  },
  {
   "cell_type": "markdown",
   "metadata": {},
   "source": [
    "---"
   ]
  },
  {
   "cell_type": "markdown",
   "metadata": {},
   "source": [
    "## El problema del rompecabezas de 8 piezas <a class=\"anchor\" id=\"8puzzle\"></a>\n",
    "\n",
    "([Volver al inicio](#inicio))\n",
    "\n",
    "Considere ocho piezas cuadradas, cada una con un número del 1 al 8. Estas piezas se ponen en una caja cuadrada  formando un rompecabezas, de tal manera que queda un espacio del mismo tamaño que las piezas, como en la figura siguiente:\n",
    "\n",
    "<img src=\"./imagenes/puzzle.png\" width=\"350px\"/>\n",
    "\n",
    "Las piezas adyacentes al espacio pueden desplazarse desde su posición hasta ocupar el espacio vacío, de tal manera que es posible cambiar el orden de todas las piezas. El problema consiste en, dada una posición del rompecabezas, encontrar una manera de mover las piezas para lograr otra posición deseada.\n",
    "\n",
    "La descripción formal del problema es como sigue:\n",
    "\n",
    "* **Estado inicial**: Un rompezabezas donde las piezas están dispuestas aleatoriamente.\n",
    "\n",
    "* **Posibles acciones**: Mover una ficha al espacio vacío. En cada configuración hay maximo cuatro fichas que pueden moverse al espacio vacío (cuando este está en el centro). Usualmente solo pueden moverse tres fichas o solo dos, cuando el espacio vacío está en una esquina. \n",
    "\n",
    "* **Función de transiciones**: Mover la ficha y obtener el tablero correspondiente.\n",
    "\n",
    "* **Prueba de satisfacción del objetivo**: El tablero está organizado como sigue:\n",
    "\n",
    "<img src=\"./imagenes/objetivo.png\" width=\"350px\"/>\n",
    "\n",
    "* **Función de costo**: Cada acción cuesta 1 punto."
   ]
  },
  {
   "cell_type": "markdown",
   "metadata": {},
   "source": [
    "Observe que podemos usar el método `pintar_camino` para visualizar el movimiento correspondiente de las piezas:"
   ]
  },
  {
   "cell_type": "code",
   "execution_count": 67,
   "metadata": {},
   "outputs": [],
   "source": [
    "from ambientes import Rompecabezas\n",
    "from random import choice\n",
    "import numpy as np"
   ]
  },
  {
   "cell_type": "code",
   "execution_count": 68,
   "metadata": {
    "scrolled": true
   },
   "outputs": [
    {
     "data": {
      "image/png": "[encoded data removed]",
      "text/plain": [
       "<Figure size 432x288 with 1 Axes>"
      ]
     },
     "metadata": {
      "needs_background": "light"
     },
     "output_type": "display_data"
    }
   ],
   "source": [
    "puz = Rompecabezas()\n",
    "s = puz.estado_inicial\n",
    "a = choice(puz.acciones_aplicables(s))\n",
    "puz.pintar_camino([a])"
   ]
  },
  {
   "cell_type": "markdown",
   "metadata": {},
   "source": [
    "El problema del rompecabezas es difícil, y usualmente le cuesta un buen tiempo a los métodos de `breadth_first_search` y `depth_first_search` converger en una solución. Si usted es curioso, trate de usar uno de estos métodos para resolver el problema. El resultado que usted debe obtener es una celda que se queda corriendo hasta que se agota la paciencia.\n",
    "\n",
    "El método `uniform_cost_search`, que usa la función de costos usual en el algoritmo `best_first_search`, es mucho más eficiente que los anteriores, pero aún puede mejorarse, como lo veremos en un momento. Por ahora, el ejercicio es resolver el problema del rompecabezas mediante `best_first_search` y la siguiente función de costo:"
   ]
  },
  {
   "cell_type": "code",
   "execution_count": 70,
   "metadata": {},
   "outputs": [],
   "source": [
    "def costo_accion(self, estado, accion):\n",
    "    return 1"
   ]
  },
  {
   "cell_type": "code",
   "execution_count": 71,
   "metadata": {},
   "outputs": [
    {
     "data": {
      "text/plain": [
       "<AxesSubplot:>"
      ]
     },
     "execution_count": 71,
     "metadata": {},
     "output_type": "execute_result"
    },
    {
     "data": {
      "image/png": "[encoded data removed]",
      "text/plain": [
       "<Figure size 432x288 with 1 Axes>"
      ]
     },
     "metadata": {
      "needs_background": "light"
     },
     "output_type": "display_data"
    }
   ],
   "source": [
    "puz = Rompecabezas()\n",
    "S = np.matrix([[0, 6, 1], [4, 8, 7], [5, 2, 3]])\n",
    "puz.estado_inicial = S\n",
    "puz.pintar_estado(puz.estado_inicial)"
   ]
  },
  {
   "cell_type": "code",
   "execution_count": 72,
   "metadata": {},
   "outputs": [
    {
     "name": "stdout",
     "output_type": "stream",
     "text": [
      "La solución encontrada es:  [((0, 1), (0, 0)), ((1, 1), (0, 1)), ((2, 1), (1, 1)), ((2, 0), (2, 1)), ((1, 0), (2, 0)), ((1, 1), (1, 0)), ((2, 1), (1, 1)), ((2, 2), (2, 1)), ((1, 2), (2, 2)), ((0, 2), (1, 2)), ((0, 1), (0, 2)), ((0, 0), (0, 1)), ((1, 0), (0, 0)), ((2, 0), (1, 0)), ((2, 1), (2, 0)), ((1, 1), (2, 1)), ((0, 1), (1, 1)), ((0, 0), (0, 1)), ((1, 0), (0, 0)), ((2, 0), (1, 0))]\n",
      "La cantidad de movimientos es:  20\n",
      "CPU times: user 1min 7s, sys: 1.04 s, total: 1min 8s\n",
      "Wall time: 1min 7s\n"
     ]
    }
   ],
   "source": [
    "%%time\n",
    "l = best_first_search(puz)\n",
    "if l is not None:\n",
    "    camino = solucion(l)\n",
    "    print(\"La solución encontrada es: \", camino)\n",
    "    print(\"La cantidad de movimientos es: \", len(camino))\n",
    "else:\n",
    "    print(\"No hay solución!\")"
   ]
  },
  {
   "cell_type": "markdown",
   "metadata": {},
   "source": [
    "Observe que, en mi computador, el algoritmo con costo uniforme tarda cerca de medio minuto en converger a una solución."
   ]
  },
  {
   "cell_type": "code",
   "execution_count": 73,
   "metadata": {},
   "outputs": [
    {
     "data": {
      "image/png": "[encoded data removed]",
      "text/plain": [
       "<Figure size 432x288 with 1 Axes>"
      ]
     },
     "metadata": {
      "needs_background": "light"
     },
     "output_type": "display_data"
    }
   ],
   "source": [
    "puz.pintar_camino(camino)"
   ]
  },
  {
   "cell_type": "markdown",
   "metadata": {
    "scrolled": false
   },
   "source": [
    "## Heurísticas para el 8 puzzle <a class=\"anchor\" id=\"heuristicas\"></a>\n",
    "\n",
    "([Volver al inicio](#inicio))\n",
    "\n",
    "Las heurísticas son reglas de comportamiento que aprovechan el conocimiento específico sobre ciertos problemas. El problema del rompecabezas nos permite explicar esto mejor. Podemos evaluar una especie de distancia entre un estado dado y el estado objetivo mediante el conteo de piezas que no se encuentran en el lugar objetivo. Por ejemplo, considere el siguiente tablero:"
   ]
  },
  {
   "cell_type": "code",
   "execution_count": 81,
   "metadata": {},
   "outputs": [
    {
     "data": {
      "text/plain": [
       "<AxesSubplot:>"
      ]
     },
     "execution_count": 81,
     "metadata": {},
     "output_type": "execute_result"
    },
    {
     "data": {
      "image/png": "[encoded data removed]",
      "text/plain": [
       "<Figure size 432x288 with 1 Axes>"
      ]
     },
     "metadata": {
      "needs_background": "light"
     },
     "output_type": "display_data"
    }
   ],
   "source": [
    "puz = Rompecabezas()\n",
    "puz.objetivo = puz.estado_inicial\n",
    "S = np.matrix([[6, 3, 2], [7, 4, 0], [8, 5, 1]])\n",
    "puz.objetivo = S\n",
    "puz.pintar_estado(S)"
   ]
  },
  {
   "cell_type": "markdown",
   "metadata": {},
   "source": [
    "En este tablero hay dos piezas que no están en la posición objetivo, a saber, el 1 y el 2. Por lo tanto, la función heurística `piezas_mal_puestas` debe devolver el valor 2."
   ]
  },
  {
   "cell_type": "code",
   "execution_count": 98,
   "metadata": {},
   "outputs": [
    {
     "data": {
      "text/plain": [
       "<AxesSubplot:>"
      ]
     },
     "execution_count": 98,
     "metadata": {},
     "output_type": "execute_result"
    },
    {
     "data": {
      "image/png": "[encoded data removed]",
      "text/plain": [
       "<Figure size 432x288 with 1 Axes>"
      ]
     },
     "metadata": {
      "needs_background": "light"
     },
     "output_type": "display_data"
    }
   ],
   "source": [
    "puz.pintar_estado(np.matrix([[6,7,8], [3,4,5], [0,1,2]]).T)"
   ]
  },
  {
   "cell_type": "markdown",
   "metadata": {},
   "source": [
    "**Ejercicio 6:**\n",
    "\n",
    "Implemente la función `piezas_mal_puestas`.\n",
    "\n",
    "Escriba y verifique su código con la siguiente celda:"
   ]
  },
  {
   "cell_type": "code",
   "execution_count": 114,
   "metadata": {},
   "outputs": [],
   "source": [
    "def piezas_mal_puestas(estado, objetivo=np.matrix([[6,7,8], [3,4,5], [0,1,2]]).T):\n",
    "    \n",
    "    # AQUÍ INICIA SU CODIGO\n",
    "    offset = not np.sum( (estado == 0) * (objetivo == 0) ) \n",
    "\n",
    "    return np.sum(estado != objetivo) - offset\n",
    "    # AQUÍ TERMINA SU CÓDIGO"
   ]
  },
  {
   "cell_type": "code",
   "execution_count": 120,
   "metadata": {},
   "outputs": [
    {
     "data": {
      "text/plain": [
       "2"
      ]
     },
     "execution_count": 120,
     "metadata": {},
     "output_type": "execute_result"
    }
   ],
   "source": [
    "piezas_mal_puestas(S) "
   ]
  },
  {
   "cell_type": "code",
   "execution_count": 121,
   "metadata": {},
   "outputs": [
    {
     "name": "stdout",
     "output_type": "stream",
     "text": [
      "Número de piezas mal puestas: 2\n"
     ]
    },
    {
     "data": {
      "image/png": "[encoded data removed]",
      "text/plain": [
       "<Figure size 432x288 with 1 Axes>"
      ]
     },
     "metadata": {
      "needs_background": "light"
     },
     "output_type": "display_data"
    }
   ],
   "source": [
    "\n",
    "    \n",
    "puz = Rompecabezas()\n",
    "objetivo = puz.objetivo\n",
    "a = puz.acciones_aplicables(objetivo)[1]\n",
    "s = puz.transicion(objetivo, a)\n",
    "a = puz.acciones_aplicables(s)[1]\n",
    "s = puz.transicion(s, a)\n",
    "puz.pintar_estado(s)\n",
    "print('Número de piezas mal puestas:', piezas_mal_puestas(s))"
   ]
  },
  {
   "cell_type": "markdown",
   "metadata": {},
   "source": [
    "El output de la celda debe ser el valor 2."
   ]
  },
  {
   "cell_type": "markdown",
   "metadata": {},
   "source": [
    "---"
   ]
  },
  {
   "cell_type": "markdown",
   "metadata": {},
   "source": [
    "Otra heurística para el problema del rompecabezas es el siguiente. La distancia entre un estado y el objetivo se mide como la suma de las distancias entre cada pieza y su lugar objetivo. Esta última distancia se mide como la distancia del taxista, es decir, la suma de las distancias verticales y horizontales. Por ejemplo, suponga el siguiente estado:"
   ]
  },
  {
   "cell_type": "code",
   "execution_count": 122,
   "metadata": {},
   "outputs": [
    {
     "data": {
      "text/plain": [
       "<AxesSubplot:>"
      ]
     },
     "execution_count": 122,
     "metadata": {},
     "output_type": "execute_result"
    },
    {
     "data": {
      "image/png": "[encoded data removed]",
      "text/plain": [
       "<Figure size 432x288 with 1 Axes>"
      ]
     },
     "metadata": {
      "needs_background": "light"
     },
     "output_type": "display_data"
    }
   ],
   "source": [
    "objetivo = puz.objetivo\n",
    "a = puz.acciones_aplicables(objetivo)[0]\n",
    "s = puz.transicion(objetivo, a)\n",
    "a = puz.acciones_aplicables(s)[2]\n",
    "s = puz.transicion(s, a)\n",
    "a = puz.acciones_aplicables(s)[1]\n",
    "s = puz.transicion(s, a)\n",
    "a = puz.acciones_aplicables(s)[2]\n",
    "s = puz.transicion(s, a)\n",
    "puz.pintar_estado(s)"
   ]
  },
  {
   "cell_type": "markdown",
   "metadata": {},
   "source": [
    "Observe que el 1 está a una casilla de su lugar (una abajo), el cuatro está a una casilla de su lugar (una a la izquierda) y el 3 está a dos casillas de su lugar (una arriba y una a la izquierda. El valor de la heurística `manhattan` debe ser 1 + 1 + 2 = 4. "
   ]
  },
  {
   "cell_type": "markdown",
   "metadata": {},
   "source": [
    "**Ejercicio 7:**\n",
    "\n",
    "Implemente la función `manhattan`.\n",
    "\n",
    "Escriba y verifique su código con la siguiente celda:"
   ]
  },
  {
   "cell_type": "code",
   "execution_count": 147,
   "metadata": {
    "scrolled": true
   },
   "outputs": [
    {
     "data": {
      "text/plain": [
       "array([[0, 1, 2],\n",
       "       [2, 2, 2]])"
      ]
     },
     "execution_count": 147,
     "metadata": {},
     "output_type": "execute_result"
    }
   ],
   "source": [
    "np.array(manhattan(S))"
   ]
  },
  {
   "cell_type": "code",
   "execution_count": 146,
   "metadata": {},
   "outputs": [],
   "source": [
    "def manhattan(estado, objetivo=np.matrix([[6,7,8], [3,4,5], [0,1,2]]).T):\n",
    "    \n",
    "    diff = np.where( S != objetivo)\n",
    "    \n",
    "    print(estado[diff])\n",
    "    return  diff\n"
   ]
  },
  {
   "cell_type": "code",
   "execution_count": 123,
   "metadata": {},
   "outputs": [
    {
     "name": "stdout",
     "output_type": "stream",
     "text": [
      "Distancia Manhattan: None\n"
     ]
    },
    {
     "data": {
      "image/png": "[encoded data removed]",
      "text/plain": [
       "<Figure size 432x288 with 1 Axes>"
      ]
     },
     "metadata": {
      "needs_background": "light"
     },
     "output_type": "display_data"
    }
   ],
   "source": [
    "\n",
    "puz = Rompecabezas()\n",
    "objetivo = puz.objetivo\n",
    "a = puz.acciones_aplicables(objetivo)[0]\n",
    "s = puz.transicion(objetivo, a)\n",
    "\n",
    "a = puz.acciones_aplicables(s)[2]\n",
    "s = puz.transicion(s, a)\n",
    "\n",
    "a = puz.acciones_aplicables(s)[1]\n",
    "s = puz.transicion(s, a)\n",
    "\n",
    "a = puz.acciones_aplicables(s)[2]\n",
    "s = puz.transicion(s, a)\n",
    "\n",
    "puz.pintar_estado(s)\n",
    "print('Distancia Manhattan:', manhattan(s))"
   ]
  },
  {
   "cell_type": "markdown",
   "metadata": {},
   "source": [
    "El output de la celda debe ser el valor 4."
   ]
  },
  {
   "cell_type": "markdown",
   "metadata": {},
   "source": [
    "---"
   ]
  },
  {
   "cell_type": "markdown",
   "metadata": {},
   "source": [
    "## Comparando heurísticas <a class=\"anchor\" id=\"compara\"></a>\n",
    "\n",
    "([Volver al inicio](#inicio))\n",
    "\n",
    "Al ordenar los nodos explorados mediante una función heurística, lo que se busca es explorar primero aquel nodo que se acerque más al objetivo. Hemos definido dos maneras de estimar esta idea y es hora de compararlas mediante el tiempo de CPU."
   ]
  },
  {
   "cell_type": "markdown",
   "metadata": {},
   "source": [
    "**Ejercicio 8:**\n",
    "\n",
    "Compare el tiempo de CPU de las dos heurísticas en el algoritmo `greedy_search`. ¿Cuál mejora más el tiempo de búsqueda?"
   ]
  },
  {
   "cell_type": "markdown",
   "metadata": {},
   "source": [
    "**Nota:**\n",
    "\n",
    "La heurística `manhattan` es mejor porque estima más precisamente qué tan diferente es un estado del objetivo. Por ejemplo, si el 1 esta a tres fichas de distancia, `manhattan` devuelve el valor 3, mientras que si está a dos fichas de distancia, devuelve 2. En ambos casos `piezas_mal_puestas` devuelve el valor 1, sin importar que se necesiten más movimientos en la primera que en la segunda para poner el 1 en su lugar.\n",
    "\n",
    "Esto no significa que la heurística `manhattan` sea mejor en tiempo de CPU. La razón es que la evaluación de esta puede ser más demorada en cada estado que la de la otra heurística."
   ]
  },
  {
   "cell_type": "markdown",
   "metadata": {},
   "source": [
    "---"
   ]
  },
  {
   "cell_type": "markdown",
   "metadata": {},
   "source": [
    "## En este notebook usted aprendió\n",
    "\n",
    "([Volver al inicio](#inicio))\n",
    "\n",
    "* Cómo realizar una búsqueda mediante el método *uniform_cost* (o *Dijkstra).\n",
    "* Cómo realizar una búsqueda mediante el método *greedy*.\n",
    "* Implementar y comparar distintas heurísticas para resolver el problema del rompecabezas.\n",
    "* Comparar los tiempos y la optimalidad de las heurísticas.\n"
   ]
  },
  {
   "cell_type": "markdown",
   "metadata": {},
   "source": [
    "---"
   ]
  }
 ],
 "metadata": {
  "colab": {
   "name": "arboles_busqueda.ipynb",
   "provenance": []
  },
  "kernelspec": {
   "display_name": "Python 3 (ipykernel)",
   "language": "python",
   "name": "python3"
  },
  "language_info": {
   "codemirror_mode": {
    "name": "ipython",
    "version": 3
   },
   "file_extension": ".py",
   "mimetype": "text/x-python",
   "name": "python",
   "nbconvert_exporter": "python",
   "pygments_lexer": "ipython3",
   "version": "3.9.7"
  }
 },
 "nbformat": 4,
 "nbformat_minor": 1
}
