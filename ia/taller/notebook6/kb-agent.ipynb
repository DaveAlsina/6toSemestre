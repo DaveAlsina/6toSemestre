{
 "cells": [
  {
   "cell_type": "markdown",
   "metadata": {},
   "source": [
    "<table>\n",
    "    <tr>\n",
    "        <td><img src=\"./imagenes/Macc.png\" width=\"400\"/></td>\n",
    "        <td>&nbsp;</td>\n",
    "        <td>\n",
    "            <h1 style=\"color:blue;text-align:left\">Inteligencia Artificial</h1></td>\n",
    "        <td>\n",
    "            <table><tr>\n",
    "            <tp><p style=\"font-size:150%;text-align:center\">Notebook</p></tp>\n",
    "            <tp><p style=\"font-size:150%;text-align:center\">Agente basado en el conocimiento</p></tp>\n",
    "            </tr></table>\n",
    "        </td>\n",
    "    </tr>\n",
    "</table>\n",
    "\n",
    "---\n"
   ]
  },
  {
   "cell_type": "markdown",
   "metadata": {},
   "source": [
    "## Objetivo <a class=\"anchor\" id=\"inicio\"></a>\n",
    "\n",
    "En este notebook ejemplificaremos un agente basado en el conocimiento. Usaremos el problema del laberinto como ejemplo.\n"
   ]
  },
  {
   "cell_type": "markdown",
   "metadata": {},
   "source": [
    "## Secciones\n",
    "\n",
    "Desarrollaremos la explicación en las siguientes secciones:\n",
    "\n",
    "1. [El ambiente del laberinto](#lab)\n",
    "2. [Un agente basado en el conocimiento](#agenteKB)\n",
    "3. [Creando un mapa mental](#mapa)\n",
    "4. [Estimación de estados](#esti)"
   ]
  },
  {
   "cell_type": "markdown",
   "metadata": {},
   "source": [
    "## El ambiente del laberinto <a class=\"anchor\" id=\"lab\"></a>\n",
    "\n",
    "([Volver al inicio](#inicio))\n",
    "\n",
    "En el problema del laberinto la percepción del agente está basada en una colección de sensores que se encienden cuando detectan un obstáculo, organizados de la siguiente manera:\n",
    "\n",
    "`[sensor frontal, sensor izquierdo, sensor derecho, sensor trasero]`\n",
    "\n",
    "Los valores de los sensores se obtienen mediante el método `para_sentidos()` de la clase `Laberinto` y se almacenan en el atributo `perceptos` de un objeto de clase `Agente`. Veamos la implementación de la percepción del agente directamente en el ejemplo donde el agente comienza en la casilla $(11,11)$:"
   ]
  },
  {
   "cell_type": "code",
   "execution_count": 1,
   "metadata": {},
   "outputs": [
    {
     "data": {
      "image/png": "[encoded data removed]",
      "text/plain": [
       "<Figure size 576x576 with 1 Axes>"
      ]
     },
     "metadata": {
      "needs_background": "light"
     },
     "output_type": "display_data"
    },
    {
     "name": "stdout",
     "output_type": "stream",
     "text": [
      "La lista de sensores es:\n",
      "[sensor frontal, sensor izquierdo, sensor derecho, sensor trasero]\n",
      "Los valores en la casilla (11,11) son:\n",
      "[False, False, True, True]\n"
     ]
    }
   ],
   "source": [
    "from agentes import *\n",
    "\n",
    "lab = Laberinto(pos_inicial=(11,11))\n",
    "lab.pintar()\n",
    "agente = Agente()\n",
    "agente.perceptos = lab.para_sentidos()\n",
    "print('La lista de sensores es:')\n",
    "print('[sensor frontal, sensor izquierdo, sensor derecho, sensor trasero]')\n",
    "print('Los valores en la casilla (11,11) son:')\n",
    "print(agente.perceptos)"
   ]
  },
  {
   "cell_type": "markdown",
   "metadata": {},
   "source": [
    "Las acciones posibles del agente son:\n",
    "\n",
    "* adelante: el agente avanza una casilla.\n",
    "* voltearIzquierda: el agente gira 90º en contra de las manecillas del reloj.\n",
    "* voltearDerecha: el agente gira 90º a favor de las manecillas del reloj.\n",
    "* salir: si el agente está en la salida, fin del juego.\n",
    "\n",
    "Cada acción del agente tiene un efecto en el entorno, implementado mediante el método `transicion()` de la clase `Laberinto`. Veamos un ejemplo en donde el agente parte de la casilla $(11,11)$ y deambula un poco por el laberinto:"
   ]
  },
  {
   "cell_type": "code",
   "execution_count": 2,
   "metadata": {},
   "outputs": [
    {
     "data": {
      "image/png": "[encoded data removed]",
      "text/plain": [
       "<Figure size 576x576 with 1 Axes>"
      ]
     },
     "metadata": {
      "needs_background": "light"
     },
     "output_type": "display_data"
    }
   ],
   "source": [
    "from agentes import *\n",
    "from time import sleep\n",
    "from IPython.display import clear_output\n",
    "import matplotlib.pyplot as plt\n",
    "\n",
    "lab = Laberinto(pos_inicial=(11,11))\n",
    "acciones = ['adelante', 'adelante', 'voltearIzquierda', \n",
    "            'adelante', 'adelante', 'adelante', 'voltearDerecha', 'adelante']\n",
    "\n",
    "lab.pintar()\n",
    "\n",
    "for a in acciones:\n",
    "    lab.transicion(a)\n",
    "    clear_output(wait=True)\n",
    "    lab.pintar()\n",
    "    plt.show()\n",
    "#    sleep(.25)    "
   ]
  },
  {
   "cell_type": "markdown",
   "metadata": {},
   "source": [
    "---"
   ]
  },
  {
   "cell_type": "markdown",
   "metadata": {},
   "source": [
    "## Un agente basado en conocimiento <a class=\"anchor\" id=\"agenteKB\"></a>\n",
    "\n",
    "([Volver al inicio](#inicio))\n",
    "\n",
    "Vamos a crear un agente basado en conocimiento para resolver el problema del laberinto. Veremos que no es tan sencillo como el de reflejo simple. El programa de agente en este caso no es una conexión directa entre perceptos y acciones, pues en la mitad está un modelo del mundo. El modelo será un conjunto de enunciados lógicos en una base de conocimiento, como vimos en el notebook anterior. \n",
    "\n",
    "Son varias las ventajas de este tipo de agente respecto al de respuesta simple:\n",
    "\n",
    "* Primero, las proposiciones que definen el modelo no requieren estar conectadas directamente a los perceptos y a las acciones. Esto permite definir nuevas categorías para armar restricciones de mayor nivel de abstracción. \n",
    "* Además, es posible tener una memoria para almacenar información que pueda ser utilizada muchos turnos después. \n",
    "* Adicionalmente, la base de conocimiento permite hacer razonamientos para obtener nueva información a partir de la información almacenada.\n",
    "\n",
    "Para definir el programa requerimos:\n",
    "\n",
    "* Interpretar los perceptos como una fórmula lógica.\n",
    "* Una base de conocimiento con las reglas que definen la dinámica del agente en el mundo.\n",
    "* Una manera de hacer consultas en la base de conocimiento para determinar nueva información.\n",
    "* Un entramado de reglas, como en el programa de reflejo simple, que defina qué va a hacer el agente y cómo usará la información de su base de conocimiento para decidir sus acciones.\n",
    "\n",
    "Veamos ahora uno a uno los componentes del programa de agente."
   ]
  },
  {
   "cell_type": "markdown",
   "metadata": {},
   "source": [
    "### Interpretación de los perceptos\n",
    "\n",
    "La clase `Agente` ya trae definido un método `interp_percepto()`, el cual interpreta los perceptos como letras proposicionales, con la siguiente representación:\n",
    "\n",
    "* frn_bloq es verdadero sii el sensor de enfrente del robot detecta un obstáculo.\n",
    "* izq_bloq es verdadero sii el sensor de la izquierda del robot detecta un obstáculo.\n",
    "* der_bloq es verdadero sii el sensor de la derecha del robot detecta un obstáculo.\n",
    "* atr_bloq es verdadero sii el sensor de atrás del robot detecta un obstáculo."
   ]
  },
  {
   "cell_type": "code",
   "execution_count": 3,
   "metadata": {},
   "outputs": [
    {
     "data": {
      "text/plain": [
       "'-frn_bloq_1Y-izq_bloq_1Yder_bloq_1Yatr_bloq_1'"
      ]
     },
     "execution_count": 3,
     "metadata": {},
     "output_type": "execute_result"
    }
   ],
   "source": [
    "from agentes import *\n",
    "\n",
    "lab = Laberinto(pos_inicial=(11,11))\n",
    "agente = Agente()\n",
    "agente.perceptos = lab.para_sentidos()\n",
    "agente.interp_percepto()"
   ]
  },
  {
   "cell_type": "markdown",
   "metadata": {},
   "source": [
    "Observe que cada letra trae un número asociado. Este número es el número del turno:"
   ]
  },
  {
   "cell_type": "code",
   "execution_count": 4,
   "metadata": {},
   "outputs": [
    {
     "data": {
      "text/plain": [
       "'-frn_bloq_3Y-izq_bloq_3Yder_bloq_3Yatr_bloq_3'"
      ]
     },
     "execution_count": 4,
     "metadata": {},
     "output_type": "execute_result"
    }
   ],
   "source": [
    "agente.turno = 3\n",
    "agente.interp_percepto()"
   ]
  },
  {
   "cell_type": "markdown",
   "metadata": {},
   "source": [
    "Asociar un turno es indispensable, toda vez que en lógica proposicional los valores de las letras proposionales no cambian nunca, pero el valor de los sensores sí. Por esta razón, la representación correcta de los perceptos es la siguiente:\n",
    "\n",
    "* frn_bloq_n es verdadero sii el sensor de enfrente del robot detecta un obstáculo en el turno n.\n",
    "* izq_bloq_n es verdadero sii el sensor de la izquierda del robot no detecta un obstáculo en el turno n.\n",
    "* der_bloq_n es verdadero sii el sensor de la derecha del robot detecta un obstáculo en el turno n.\n",
    "* atr_bloq_n es verdadero sii el sensor de atrás del robot detecta un obstáculo en el turno n."
   ]
  },
  {
   "cell_type": "markdown",
   "metadata": {},
   "source": [
    "### La base de conocimiento\n",
    "\n",
    "El modelo define la dinámica del mundo y del agente. En este caso sencillo, dado que el entorno es estático, sólo requerimos la dinámica del agente. Es decir, solo tenemos que representar lo que debe hacer el agente de acuerdo a alguna condición. Estas reglas estarán descritas mediante una fórmula lógica. \n",
    "\n",
    "Observe que tenemos una restricción importante aquí, toda vez que nuestras fórmulas solo aceptan un antecedente conformado por conjunciones de literales y un consecuente con un solo literal. La fórmula que representa la regla \"Si el frente no está bloqueado y el flanco derecho está bloqueado, avanzar una casilla\" es la siguiente:"
   ]
  },
  {
   "cell_type": "code",
   "execution_count": 5,
   "metadata": {},
   "outputs": [
    {
     "data": {
      "text/plain": [
       "['-frn_bloq_1Yder_bloq_1>adelante_1']"
      ]
     },
     "execution_count": 5,
     "metadata": {},
     "output_type": "execute_result"
    }
   ],
   "source": [
    "def conocimiento(self):\n",
    "    turno = agente.turno\n",
    "    formulas = [\n",
    "        # Si el frente no está bloqueado y el flanco derecho está\n",
    "        # bloqueado, avanzar una casilla\n",
    "        f'-frn_bloq_{turno}Yder_bloq_{turno}>adelante_{turno}',\n",
    "    ]\n",
    "    return formulas\n",
    "\n",
    "setattr(Agente, 'conocimiento', conocimiento)\n",
    "\n",
    "agente = Agente()\n",
    "agente.conocimiento()"
   ]
  },
  {
   "cell_type": "markdown",
   "metadata": {},
   "source": [
    "**Nota:** Observe que las letras proposicionales que representan acciones también están indexadas por el turno."
   ]
  },
  {
   "cell_type": "markdown",
   "metadata": {},
   "source": [
    "<a class=\"anchor\" id=\"ej1\"></a>**Ejercicio 1:** \n",
    "\n",
    "([Próximo ejercicio](#ej2))\n",
    "\n",
    "Implemente una fórmula para cada una de las siguientes reglas e inclúyalas en el conocimiento del agente:\n",
    "\n",
    "* \"Si el frente no está bloqueado y el flanco derecho está bloqueado, avanzar una casilla\"\n",
    "* \"Si el frente y el flanco derecho están bloqueados y el flanco izquierdo no está bloqueado, voltear a la izquierda\"\n",
    "* \"Si el flanco derecho no está bloqueado, voltear a la derecha\""
   ]
  },
  {
   "cell_type": "markdown",
   "metadata": {},
   "source": [
    "---"
   ]
  },
  {
   "cell_type": "code",
   "execution_count": 6,
   "metadata": {},
   "outputs": [
    {
     "data": {
      "text/plain": [
       "['-frn_bloq_1Yder_bloq_1>adelante_1',\n",
       " 'frn_bloq_1Yder_bloq_1Y-izq_bloq_1>voltearIzquierda_1',\n",
       " '-der_bloq_1>voltearDerecha_1']"
      ]
     },
     "execution_count": 6,
     "metadata": {},
     "output_type": "execute_result"
    }
   ],
   "source": [
    "def conocimiento(self):\n",
    "    turno = agente.turno\n",
    "    formulas = [\n",
    "        # Si el frente no está bloqueado y el flanco derecho está\n",
    "        # bloqueado, avanzar una casilla\n",
    "        f'-frn_bloq_{turno}Yder_bloq_{turno}>adelante_{turno}',\n",
    "        f'frn_bloq_{turno}Yder_bloq_{turno}Y-izq_bloq_{turno}>voltearIzquierda_{turno}',\n",
    "        f'-der_bloq_{turno}>voltearDerecha_{turno}',\n",
    "    ]\n",
    "    return formulas\n",
    "\n",
    "setattr(Agente, 'conocimiento', conocimiento)\n",
    "\n",
    "agente = Agente()\n",
    "agente.conocimiento()"
   ]
  },
  {
   "cell_type": "markdown",
   "metadata": {},
   "source": [
    "### Consultas\n",
    "\n",
    "La manera de usar la base de conocimiento es mediante consultas. El resultado de una consulta es `True` o `False`. Una consulta se hace con un objetivo, el cual requiere un literal y la condición de si este se deduce o no a partir de la información en la base de conocimiento. Por ejemplo, un objetivo puede ser saber si al deducir `frn_libre_1` a partir de la base de conocimiento, mediante el algoritmo `backward_chaining`, da como resultado `success`. Si sí, la consulta retorna `True`. \n",
    "\n",
    "El otro tipo de objetivo sería saber si el resultado es `failure`. Si `frn_libre_1` no se puede deducir y da como resultado `failure`, entonces el resultado de la consulta es `True`.\n",
    "\n",
    "Observe que la función `ASK` ya está implementada en la librería `Logica`.\n",
    "\n",
    "Veámos las consultas que haremos para nuestro caso particular. En primer lugar, definimos la base de conocimiento:"
   ]
  },
  {
   "cell_type": "code",
   "execution_count": 7,
   "metadata": {},
   "outputs": [
    {
     "name": "stdout",
     "output_type": "stream",
     "text": [
      "Hechos:\n",
      "-frn_bloq_1\n",
      "-izq_bloq_1\n",
      "der_bloq_1\n",
      "atr_bloq_1\n",
      "\n",
      "Reglas:\n",
      "-frn_bloq_1Yder_bloq_1>adelante_1\n",
      "frn_bloq_1Yder_bloq_1Y-izq_bloq_1>voltearIzquierda_1\n",
      "-der_bloq_1>voltearDerecha_1\n",
      "\n"
     ]
    }
   ],
   "source": [
    "from logica import *\n",
    "from agentes import *\n",
    "\n",
    "lab = Laberinto()\n",
    "agente = Agente()\n",
    "formulas = agente.conocimiento()\n",
    "base_con = LPQuery(formulas)\n",
    "agente.base = base_con\n",
    "agente.perceptos = lab.para_sentidos()\n",
    "agente.base.TELL(agente.interp_percepto())\n",
    "print(agente.base)"
   ]
  },
  {
   "cell_type": "markdown",
   "metadata": {},
   "source": [
    "Ahora preguntamos si la acción que debemos hacer es voltear a la derecha:"
   ]
  },
  {
   "cell_type": "code",
   "execution_count": 8,
   "metadata": {},
   "outputs": [
    {
     "data": {
      "text/plain": [
       "False"
      ]
     },
     "execution_count": 8,
     "metadata": {},
     "output_type": "execute_result"
    }
   ],
   "source": [
    "objetivo = 'voltearDerecha_'+str(agente.turno)\n",
    "ASK(objetivo, 'success', agente.base)"
   ]
  },
  {
   "cell_type": "markdown",
   "metadata": {},
   "source": [
    "Luego, preguntaremos si debemos seguir adelante:"
   ]
  },
  {
   "cell_type": "code",
   "execution_count": 9,
   "metadata": {},
   "outputs": [
    {
     "data": {
      "text/plain": [
       "True"
      ]
     },
     "execution_count": 9,
     "metadata": {},
     "output_type": "execute_result"
    }
   ],
   "source": [
    "objetivo = f'adelante_{agente.turno}'\n",
    "ASK(objetivo, 'success', agente.base)"
   ]
  },
  {
   "cell_type": "markdown",
   "metadata": {},
   "source": [
    "Finalmente, si la anterior consulta no hubiera resultado en `True`, seguiríamos con la consulta de si debemos voltear a la izquierda:"
   ]
  },
  {
   "cell_type": "code",
   "execution_count": 10,
   "metadata": {},
   "outputs": [
    {
     "data": {
      "text/plain": [
       "False"
      ]
     },
     "execution_count": 10,
     "metadata": {},
     "output_type": "execute_result"
    }
   ],
   "source": [
    "objetivo = 'voltearIzquierda_'+str(agente.turno)\n",
    "ASK(objetivo, 'success', agente.base)"
   ]
  },
  {
   "cell_type": "markdown",
   "metadata": {},
   "source": [
    "### Definición del programa de agente\n",
    "\n",
    "El programa de agente está basado en hacer consultas para determinar qué acción debe tomar el agente, de acuerdo a la información disponibe en su base de conocimiento. El orden en que hacemos las consultas es importante. Solo si una consulta falla, pasaremos a hacer la consulta siguiente. Vamos a definir la siguiente prioridad:\n",
    "\n",
    "* Consultar si debo voltear a la derecha.\n",
    "* Consultar si debo ir adelante.\n",
    "* Consultar si debo voltear a la izquierda.\n",
    "\n",
    "**Nota:** Observe que estamos dejando por fuera la consulta más importante, que es la de si debo salir. Esto lo podremos hacer una vez hayamos desarrollado el mapa mental, lo cual haremos más adelante."
   ]
  },
  {
   "cell_type": "code",
   "execution_count": 11,
   "metadata": {},
   "outputs": [],
   "source": [
    "def programaKB(self):\n",
    "    turno = self.turno\n",
    "    if ASK(f'voltearDerecha_{turno}', 'success', self.base):\n",
    "        self.acciones.append('voltearDerecha')\n",
    "        self.base.TELL(f'voltearDerecha_{turno}')\n",
    "    elif ASK(f'adelante_{turno}', 'success', self.base):\n",
    "        self.acciones.append('adelante')\n",
    "        self.base.TELL(f'adelante_{turno}')\n",
    "    elif ASK(f'voltearIzquierda_{turno}', 'success', self.base):\n",
    "        self.acciones.append('voltearIzquierda')\n",
    "        self.base.TELL(f'voltearIzquierda_{turno}')\n",
    "    else:\n",
    "        raise Exception('¡Caso no considerado!', self.interp_percepto())\n",
    "setattr(Agente, 'programa', programaKB)"
   ]
  },
  {
   "cell_type": "markdown",
   "metadata": {},
   "source": [
    "Estudiemos las primeras tres rondas y lo que pasa con la base de conocimiento:"
   ]
  },
  {
   "cell_type": "code",
   "execution_count": 12,
   "metadata": {
    "scrolled": false
   },
   "outputs": [
    {
     "data": {
      "image/png": "[encoded data removed]",
      "text/plain": [
       "<Figure size 576x576 with 1 Axes>"
      ]
     },
     "metadata": {
      "needs_background": "light"
     },
     "output_type": "display_data"
    },
    {
     "name": "stdout",
     "output_type": "stream",
     "text": [
      "------- Turno 1 -------\n",
      "Hechos:\n",
      "-frn_bloq_1\n",
      "-izq_bloq_1\n",
      "der_bloq_1\n",
      "-atr_bloq_1\n",
      "\n",
      "Reglas:\n",
      "-frn_bloq_1Yder_bloq_1>adelante_1\n",
      "frn_bloq_1Yder_bloq_1Y-izq_bloq_1>voltearIzquierda_1\n",
      "-der_bloq_1>voltearDerecha_1\n",
      "-frn_bloq_1Yder_bloq_1>adelante_1\n",
      "frn_bloq_1Yder_bloq_1Y-izq_bloq_1>voltearIzquierda_1\n",
      "-der_bloq_1>voltearDerecha_1\n",
      "\n",
      "voltearDerecha? False\n",
      "adelante? True\n",
      "voltearIzquierda? False\n"
     ]
    },
    {
     "data": {
      "image/png": "[encoded data removed]",
      "text/plain": [
       "<Figure size 576x576 with 1 Axes>"
      ]
     },
     "metadata": {
      "needs_background": "light"
     },
     "output_type": "display_data"
    },
    {
     "name": "stdout",
     "output_type": "stream",
     "text": [
      "------- Turno 2 -------\n",
      "Hechos:\n",
      "-frn_bloq_1\n",
      "-izq_bloq_1\n",
      "der_bloq_1\n",
      "-atr_bloq_1\n",
      "adelante_1\n",
      "frn_bloq_2\n",
      "-izq_bloq_2\n",
      "-der_bloq_2\n",
      "-atr_bloq_2\n",
      "\n",
      "Reglas:\n",
      "-frn_bloq_1Yder_bloq_1>adelante_1\n",
      "frn_bloq_1Yder_bloq_1Y-izq_bloq_1>voltearIzquierda_1\n",
      "-der_bloq_1>voltearDerecha_1\n",
      "-frn_bloq_1Yder_bloq_1>adelante_1\n",
      "frn_bloq_1Yder_bloq_1Y-izq_bloq_1>voltearIzquierda_1\n",
      "-der_bloq_1>voltearDerecha_1\n",
      "-frn_bloq_2Yder_bloq_2>adelante_2\n",
      "frn_bloq_2Yder_bloq_2Y-izq_bloq_2>voltearIzquierda_2\n",
      "-der_bloq_2>voltearDerecha_2\n",
      "\n",
      "voltearDerecha? True\n",
      "adelante? False\n",
      "voltearIzquierda? False\n"
     ]
    },
    {
     "data": {
      "image/png": "[encoded data removed]",
      "text/plain": [
       "<Figure size 576x576 with 1 Axes>"
      ]
     },
     "metadata": {
      "needs_background": "light"
     },
     "output_type": "display_data"
    },
    {
     "name": "stdout",
     "output_type": "stream",
     "text": [
      "------- Turno 3 -------\n",
      "Hechos:\n",
      "-frn_bloq_1\n",
      "-izq_bloq_1\n",
      "der_bloq_1\n",
      "-atr_bloq_1\n",
      "adelante_1\n",
      "frn_bloq_2\n",
      "-izq_bloq_2\n",
      "-der_bloq_2\n",
      "-atr_bloq_2\n",
      "voltearDerecha_2\n",
      "-frn_bloq_3\n",
      "izq_bloq_3\n",
      "-der_bloq_3\n",
      "-atr_bloq_3\n",
      "\n",
      "Reglas:\n",
      "-frn_bloq_1Yder_bloq_1>adelante_1\n",
      "frn_bloq_1Yder_bloq_1Y-izq_bloq_1>voltearIzquierda_1\n",
      "-der_bloq_1>voltearDerecha_1\n",
      "-frn_bloq_1Yder_bloq_1>adelante_1\n",
      "frn_bloq_1Yder_bloq_1Y-izq_bloq_1>voltearIzquierda_1\n",
      "-der_bloq_1>voltearDerecha_1\n",
      "-frn_bloq_2Yder_bloq_2>adelante_2\n",
      "frn_bloq_2Yder_bloq_2Y-izq_bloq_2>voltearIzquierda_2\n",
      "-der_bloq_2>voltearDerecha_2\n",
      "-frn_bloq_3Yder_bloq_3>adelante_3\n",
      "frn_bloq_3Yder_bloq_3Y-izq_bloq_3>voltearIzquierda_3\n",
      "-der_bloq_3>voltearDerecha_3\n",
      "\n",
      "voltearDerecha? True\n",
      "adelante? False\n",
      "voltearIzquierda? False\n"
     ]
    }
   ],
   "source": [
    "from time import sleep\n",
    "from IPython.display import clear_output\n",
    "import matplotlib.pyplot as plt\n",
    "from agentes import *\n",
    "\n",
    "lab = Laberinto(pos_inicial=(5,9), dir_agente='este')\n",
    "agente = Agente()\n",
    "formulas = agente.conocimiento()\n",
    "base_con = LPQuery(formulas)\n",
    "agente.base = base_con\n",
    "\n",
    "for i in range(3):\n",
    "    lab.pintar()\n",
    "    agente.perceptos = lab.para_sentidos()\n",
    "    agente.base.TELL(agente.interp_percepto())\n",
    "    for f in agente.conocimiento():\n",
    "        agente.base.TELL(f)\n",
    "    print(f'------- Turno {i+1} -------')\n",
    "    print(agente.base)\n",
    "    print('voltearDerecha?', ASK('voltearDerecha_'+str(agente.turno), 'success', agente.base))\n",
    "    print('adelante?', ASK('adelante_'+str(agente.turno), 'success', agente.base))\n",
    "    print('voltearIzquierda?', ASK('voltearIzquierda_'+str(agente.turno), 'success', agente.base))\n",
    "    a = agente.reaccionar()\n",
    "    lab.transicion(a)\n"
   ]
  },
  {
   "cell_type": "markdown",
   "metadata": {},
   "source": [
    "Para finalizar, pongamos a andar al agente por el laberinto desde la casilla $(11,11)$:"
   ]
  },
  {
   "cell_type": "code",
   "execution_count": 13,
   "metadata": {
    "scrolled": false
   },
   "outputs": [
    {
     "data": {
      "image/png": "[encoded data removed]",
      "text/plain": [
       "<Figure size 576x576 with 1 Axes>"
      ]
     },
     "metadata": {
      "needs_background": "light"
     },
     "output_type": "display_data"
    }
   ],
   "source": [
    "from time import sleep\n",
    "from IPython.display import clear_output\n",
    "import matplotlib.pyplot as plt\n",
    "from agentes import *\n",
    "\n",
    "lab = Laberinto(pos_inicial=(11,11))\n",
    "agente = Agente()\n",
    "formulas = agente.conocimiento()\n",
    "base_con = LPQuery(formulas)\n",
    "agente.base = base_con\n",
    "\n",
    "for i in range(30):\n",
    "    if lab.activo:\n",
    "        clear_output(wait=True)\n",
    "        lab.pintar()\n",
    "        agente.perceptos = lab.para_sentidos()\n",
    "        agente.base.TELL(agente.interp_percepto())\n",
    "        for f in agente.conocimiento():\n",
    "            agente.base.TELL(f)\n",
    "        a = agente.reaccionar()\n",
    "        lab.transicion(a)\n",
    "#        sleep(.25) \n"
   ]
  },
  {
   "cell_type": "markdown",
   "metadata": {},
   "source": [
    "<a class=\"anchor\" id=\"ej2\"></a>**Ejercicio 2:** \n",
    "\n",
    "([Anterior ejercicio](#ej1)) ([Próximo ejercicio](#ej3))\n",
    "\n",
    "Para arreglar el funcionamiento del agente necesitamos hacer lo siguiente:\n",
    "\n",
    "* Modifique la primera regla en la base de conocimiento para que diga \"Si el frente no está bloqueado, avanzar una casilla\".\n",
    "* Modifique la segunda regla en la base de conocimiento para que diga \"Si el frente está bloqueado y la izquierda no, avanzar una casilla\".\n",
    "* Modifique la tercera regla en la base de conocimiento para que diga que \"Si el flanco derecho no está bloqueado pero estaba bloqueado el turno pasado, voltear a la derecha\".\n",
    "\n",
    "\n",
    "Corra de nuevo el programa de agente desde la casilla $(11,11)$ para verificar el funcionamiento."
   ]
  },
  {
   "cell_type": "code",
   "execution_count": 14,
   "metadata": {},
   "outputs": [
    {
     "data": {
      "text/plain": [
       "['-frn_bloq_1>adelante_1',\n",
       " 'frn_bloq_1Y-izq_bloq_1>voltearIzquierda_1',\n",
       " '-der_bloq_1Yder_bloq_0>voltearDerecha_1']"
      ]
     },
     "execution_count": 14,
     "metadata": {},
     "output_type": "execute_result"
    }
   ],
   "source": [
    "def conocimiento(self):\n",
    "    turno = agente.turno\n",
    "    formulas = [\n",
    "        # Si el frente no está bloqueado, avanzar una casilla\n",
    "        f'-frn_bloq_{turno}>adelante_{turno}',\n",
    "        \n",
    "        # Si el frente está bloqueado y la izquierda no, \n",
    "        # voltear a la izquierda\n",
    "        f'frn_bloq_{turno}Y-izq_bloq_{turno}>voltearIzquierda_{turno}',\n",
    "        \n",
    "        # Si el flanco derecho no está bloqueado pero estaba\n",
    "        # bloqueado el turno pasado, voltear a la derecha \n",
    "        f'-der_bloq_{turno}Yder_bloq_{turno-1}>voltearDerecha_{turno}',\n",
    "    ]\n",
    "    return formulas\n",
    "\n",
    "setattr(Agente, 'conocimiento', conocimiento)\n",
    "\n",
    "agente = Agente()\n",
    "agente.conocimiento()"
   ]
  },
  {
   "cell_type": "code",
   "execution_count": 15,
   "metadata": {
    "scrolled": false
   },
   "outputs": [
    {
     "data": {
      "image/png": "[encoded data removed]",
      "text/plain": [
       "<Figure size 576x576 with 1 Axes>"
      ]
     },
     "metadata": {
      "needs_background": "light"
     },
     "output_type": "display_data"
    }
   ],
   "source": [
    "from time import sleep\n",
    "from IPython.display import clear_output\n",
    "import matplotlib.pyplot as plt\n",
    "from agentes import *\n",
    "\n",
    "lab = Laberinto(pos_inicial=(11,11))\n",
    "agente = Agente()\n",
    "formulas = agente.conocimiento()\n",
    "base_con = LPQuery(formulas)\n",
    "agente.base = base_con\n",
    "\n",
    "for i in range(45):\n",
    "    if lab.activo:\n",
    "        clear_output(wait=True)\n",
    "        lab.pintar()\n",
    "        agente.perceptos = lab.para_sentidos()\n",
    "        agente.base.TELL(agente.interp_percepto())\n",
    "        for f in agente.conocimiento():\n",
    "            agente.base.TELL(f)\n",
    "        a = agente.reaccionar()\n",
    "        lab.transicion(a)\n",
    "#        sleep(.25)\n",
    "    else:\n",
    "        break"
   ]
  },
  {
   "cell_type": "markdown",
   "metadata": {},
   "source": [
    "---"
   ]
  },
  {
   "cell_type": "markdown",
   "metadata": {},
   "source": [
    "### Incompatibilidad de reglas\n",
    "\n",
    "Observe que las reglas 1 y 3 de la base de conocimiento \n",
    "\n",
    "$\\neg$frn_bloq$_t$ $\\to$ adelante$_t$\n",
    "\n",
    "y \n",
    "\n",
    "$\\neg$der_bloq$_t$ $\\wedge$ der_bloq$_{t-1}$ $\\to$ voltearDerecha$_t$\n",
    "\n",
    "producen acciones contradictorias en una situación en la cual la fórmula\n",
    "\n",
    "$\\neg$frn_bloq$_t$ $\\wedge$ $\\neg$der_bloq$_t$ $\\wedge$ der_bloq$_{t-1}$\n",
    "\n",
    "sea verdadera.\n",
    "\n",
    "El programa de agente `programaKB` está diseñado para primero verificar si el agente voltea a la derecha. En caso afirmativo, no verifica más opciones. No obstante, **la base de conocimiento permite derivar las dos acciones**.\n",
    "\n",
    "Es necesario arreglar esta situación, de tal manera que una y solo una regla sea aplicable en cada situación. Esto se logra modificando la primera regla, de tal manera que se cumpla en los casos en que no se cumple la tercera. Esto se logra mediante la fórmula:\n",
    "\n",
    "$\\neg$frn_bloq$_t$ $\\wedge$ (der_bloq$_t$ $\\vee$ $\\neg$der_bloq$_{t-1}$) $\\to$ adelante$_t$\n",
    "\n",
    "Como esta regla transgrede la restricción que hemos hecho sobre las reglas, debemos modificarla. El mismo efecto se logra usando dos reglas así:\n",
    "\n",
    "* $\\neg$frn_bloq$_t$ $\\wedge$ der_bloq$_t$ $\\to$ adelante$_t$\n",
    "* $\\neg$frn_bloq$_t$ $\\wedge$ $\\neg$der_bloq$_t$ $\\wedge$ $\\neg$der_bloq$_{t-1}$ $\\to$ adelante$_t$\n",
    "\n",
    "Es necesario hacer lo mismo con la segunda regla. "
   ]
  },
  {
   "cell_type": "markdown",
   "metadata": {},
   "source": [
    "<a class=\"anchor\" id=\"ej3\"></a>**Ejercicio 3:** \n",
    "\n",
    "([Anterior ejercicio](#ej2)) ([Próximo ejercicio](#ej4))\n",
    "\n",
    "Modifique la base de conocimiento del agente para solucionar el problema de reglas incompatibles, de acuerdo a la explicación anterior."
   ]
  },
  {
   "cell_type": "markdown",
   "metadata": {},
   "source": [
    "---"
   ]
  },
  {
   "cell_type": "code",
   "execution_count": 16,
   "metadata": {},
   "outputs": [
    {
     "data": {
      "text/plain": [
       "['-frn_bloq_1Yder_bloq_1>adelante_1',\n",
       " '-frn_bloq_1Y-der_bloq_1Y-der_bloq_0>adelante_1',\n",
       " 'frn_bloq_1Y-izq_bloq_1Yder_bloq_1>voltearIzquierda_1',\n",
       " 'frn_bloq_1Y-izq_bloq_1Y-der_bloq_1Y-der_bloq_0>voltearIzquierda_1',\n",
       " '-der_bloq_1Yder_bloq_0>voltearDerecha_1']"
      ]
     },
     "execution_count": 16,
     "metadata": {},
     "output_type": "execute_result"
    }
   ],
   "source": [
    "def conocimiento(self):\n",
    "    turno = agente.turno\n",
    "    formulas = [\n",
    "        # Si el frente no está bloqueado, avanzar una casilla\n",
    "        f'-frn_bloq_{turno}Yder_bloq_{turno}>adelante_{turno}',\n",
    "        f'-frn_bloq_{turno}Y-der_bloq_{turno}Y-der_bloq_{turno-1}>adelante_{turno}',\n",
    "\n",
    "        \n",
    "        # Si el frente está bloqueado y la izquierda no, \n",
    "        # voltear a la izquierda\n",
    "        f'frn_bloq_{turno}Y-izq_bloq_{turno}Yder_bloq_{turno}>voltearIzquierda_{turno}',\n",
    "        f'frn_bloq_{turno}Y-izq_bloq_{turno}Y-der_bloq_{turno}Y-der_bloq_{turno-1}>voltearIzquierda_{turno}',\n",
    "\n",
    "        \n",
    "        # Si el flanco derecho no está bloqueado pero estaba\n",
    "        # bloqueado el turno pasado, voltear a la derecha \n",
    "        f'-der_bloq_{turno}Yder_bloq_{turno-1}>voltearDerecha_{turno}',\n",
    "    ]\n",
    "    return formulas\n",
    "\n",
    "setattr(Agente, 'conocimiento', conocimiento)\n",
    "\n",
    "agente = Agente()\n",
    "agente.conocimiento()"
   ]
  },
  {
   "cell_type": "markdown",
   "metadata": {},
   "source": [
    "## Creando un mapa mental <a class=\"anchor\" id=\"mapa\"></a>\n",
    "\n",
    "([Volver al inicio](#inicio))\n",
    "\n",
    "El programa de agente basado en conocimiento que hemos escrito permite solucionar el problema desde varias casillas, pero no desde $(3,3)$. Para solucionar el problema del laberinto debemos considerar qué casillas visitamos y cuáles no. Esto es, necesitamos ir creando un mapa mental con la información de (i) la posición del agente y (ii) qué casillas ha visitado. Este mapa irá quedando grabado en una serie de letras proposicionales que representan la casilla en que está el agente. Para lograr esto, desarrollaremos la base de conocimiento de la siguiente manera. \n",
    "\n",
    "Para controlar la posición del agente, es necesario usar la información de qué acción realiza y en qué dirección está mirando. Entonces necesitamos cuatro letras proposicionales que representen las cuatro direcciones cardinales:\n",
    "\n",
    "* midando_o_t es verdadero sii el agente está mirando al oeste en el turno $t$.\n",
    "* midando_e_t es verdadero sii el agente está mirando al este en el turno $t$.\n",
    "* midando_s_t es verdadero sii el agente está mirando al sur en el turno $t$.\n",
    "* midando_n_t es verdadero sii el agente está mirando al norte en el turno $t$."
   ]
  },
  {
   "cell_type": "markdown",
   "metadata": {},
   "source": [
    "### Dirección en que mira (fluente_mirando)\n",
    "\n",
    "Veamos las reglas que determinan el comportamiento de la dirección del agente. Las primeras dicen que la acción de avanzar una casilla no cambia la dirección:\n",
    "\n",
    "* mirando_o$_t$ $\\wedge$ adelante$_t$ $\\to$ mirando_o$_{t+1}$\n",
    "* mirando_s$_t$ $\\wedge$ adelante$_t$ $\\to$ mirando_s$_{t+1}$\n",
    "* mirando_e$_t$ $\\wedge$ adelante$_t$ $\\to$ mirando_e$_{t+1}$\n",
    "* mirando_n$_t$ $\\wedge$ adelante$_t$ $\\to$ mirando_n$_{t+1}$\n"
   ]
  },
  {
   "cell_type": "code",
   "execution_count": 17,
   "metadata": {},
   "outputs": [
    {
     "data": {
      "text/plain": [
       "['mirando_o_1Yadelante_1>mirando_o_2',\n",
       " 'mirando_s_1Yadelante_1>mirando_s_2',\n",
       " 'mirando_e_1Yadelante_1>mirando_e_2',\n",
       " 'mirando_n_1Yadelante_1>mirando_n_2']"
      ]
     },
     "execution_count": 17,
     "metadata": {},
     "output_type": "execute_result"
    }
   ],
   "source": [
    "def fluente_mirando(turno):\n",
    "    turno = agente.turno\n",
    "    formulas = [\n",
    "        f'mirando_o_{turno}Yadelante_{turno}>mirando_o_{turno+1}',\n",
    "        f'mirando_s_{turno}Yadelante_{turno}>mirando_s_{turno+1}',\n",
    "        f'mirando_e_{turno}Yadelante_{turno}>mirando_e_{turno+1}',\n",
    "        f'mirando_n_{turno}Yadelante_{turno}>mirando_n_{turno+1}',\n",
    "    ]\n",
    "    return formulas\n",
    "\n",
    "setattr(Agente, 'fluente_mirando', fluente_mirando)\n",
    "\n",
    "agente = Agente()\n",
    "agente.fluente_mirando()"
   ]
  },
  {
   "cell_type": "markdown",
   "metadata": {},
   "source": [
    "También tenemos las siguientes reglas, que controlan el cambio de dirección con la acción de voltear 90º a la izquierda:\n",
    "\n",
    "* mirando_o$_t$ $\\wedge$ voltearIzquierda$_t$ $\\to$ mirando_s$_{t+1}$\n",
    "* mirando_s$_t$ $\\wedge$ voltearIzquierda$_t$ $\\to$ mirando_e$_{t+1}$\n",
    "* mirando_e$_t$ $\\wedge$ voltearIzquierda$_t$ $\\to$ mirando_n$_{t+1}$\n",
    "* mirando_n$_t$ $\\wedge$ voltearIzquierda$_t$ $\\to$ mirando_o$_{t+1}$\n",
    "\n",
    "Y lo mismo con la acción de voltear a la derecha:\n",
    "\n",
    "* mirando_o$_t$ $\\wedge$ voltearDerecha$_t$ $\\to$ mirando_n$_{t+1}$\n",
    "* mirando_n$_t$ $\\wedge$ voltearDerecha$_t$ $\\to$ mirando_e$_{t+1}$\n",
    "* mirando_e$_t$ $\\wedge$ voltearDerecha$_t$ $\\to$ mirando_s$_{t+1}$\n",
    "* mirando_s$_t$ $\\wedge$ voltearDerecha$_t$ $\\to$ mirando_o$_{t+1}$"
   ]
  },
  {
   "cell_type": "markdown",
   "metadata": {},
   "source": [
    "<a class=\"anchor\" id=\"ej4\"></a>**Ejercicio 4:** \n",
    "\n",
    "([Anterior ejercicio](#ej3)) ([Próximo ejercicio](#ej5))\n",
    "\n",
    "Implemente los dos últimos tipos de reglas para el fuente $mirando$. Ponga a andar al agente y visualice la dirección en que está el agente de acuerdo a la base de conocimiento para comprobar que las reglas quedaron correctas."
   ]
  },
  {
   "cell_type": "code",
   "execution_count": 18,
   "metadata": {},
   "outputs": [],
   "source": [
    "def fluente_mirando(turno):\n",
    "    turno = agente.turno\n",
    "    formulas = [\n",
    "        f'mirando_o_{turno}Yadelante_{turno}>mirando_o_{turno+1}',\n",
    "        f'mirando_s_{turno}Yadelante_{turno}>mirando_s_{turno+1}',\n",
    "        f'mirando_e_{turno}Yadelante_{turno}>mirando_e_{turno+1}',\n",
    "        f'mirando_n_{turno}Yadelante_{turno}>mirando_n_{turno+1}',\n",
    "        \n",
    "        # AQUÍ LOS OTROS DOS TIPOS DE REGLAS\n",
    "        f'mirando_o_{turno}YvoltearIzquierda_{turno}>mirando_s_{turno+1}',\n",
    "        f'mirando_s_{turno}YvoltearIzquierda_{turno}>mirando_e_{turno+1}',\n",
    "        f'mirando_e_{turno}YvoltearIzquierda_{turno}>mirando_n_{turno+1}',\n",
    "        f'mirando_n_{turno}YvoltearIzquierda_{turno}>mirando_o_{turno+1}',\n",
    "        \n",
    "        f'mirando_o_{turno}YvolteaDerecha_{turno}>mirando_n_{turno+1}',\n",
    "        f'mirando_n_{turno}YvolteaDerecha_{turno}>mirando_e_{turno+1}',\n",
    "        f'mirando_e_{turno}YvolteaDerecha_{turno}>mirando_s_{turno+1}',\n",
    "        f'mirando_s_{turno}YvolteaDerecha_{turno}>mirando_o_{turno+1}',\n",
    "        # AQUÍ TERMINA SU CÓDIGO\n",
    "    ]\n",
    "    return formulas\n",
    "\n",
    "setattr(Agente, 'fluente_mirando', fluente_mirando)"
   ]
  },
  {
   "cell_type": "code",
   "execution_count": null,
   "metadata": {},
   "outputs": [],
   "source": [
    "        # AQUÍ LOS OTROS DOS TIPOS DE REGLAS\n",
    "        \n",
    "        f'mirando_o_{turno}YvoltearIzquierda_{turno}>mirando_s_{turno+1}',\n",
    "        f'mirando_s_{turno}YvoltearIzquierda_{turno}>mirando_e_{turno+1}',\n",
    "        f'mirando_e_{turno}YvoltearIzquierda_{turno}>mirando_n_{turno+1}',\n",
    "        f'mirando_n_{turno}YvoltearIzquierda_{turno}>mirando_o_{turno+1}',\n",
    "        \n",
    "        f'mirando_o_{turno}YvoltearDerecha_{turno}>mirando_n_{turno+1}',\n",
    "        f'mirando_n_{turno}YvoltearDerecha_{turno}>mirando_e_{turno+1}',\n",
    "        f'mirando_e_{turno}YvoltearDerecha_{turno}>mirando_s_{turno+1}',\n",
    "        f'mirando_s_{turno}YvoltearDerecha_{turno}>mirando_o_{turno+1}',        \n",
    "        # AQUÍ TERMINA SU CÓDIGO"
   ]
  },
  {
   "cell_type": "code",
   "execution_count": 20,
   "metadata": {
    "scrolled": false
   },
   "outputs": [
    {
     "name": "stdout",
     "output_type": "stream",
     "text": [
      "Dirreción del agente: None\n"
     ]
    },
    {
     "data": {
      "image/png": "[encoded data removed]",
      "text/plain": [
       "<Figure size 576x576 with 1 Axes>"
      ]
     },
     "metadata": {
      "needs_background": "light"
     },
     "output_type": "display_data"
    },
    {
     "name": "stdout",
     "output_type": "stream",
     "text": [
      "¡Listo!\n"
     ]
    }
   ],
   "source": [
    "from time import sleep\n",
    "from IPython.display import clear_output\n",
    "import matplotlib.pyplot as plt\n",
    "from agentes import *\n",
    "\n",
    "lab = Laberinto(pos_inicial=(11,11))\n",
    "agente = Agente()\n",
    "formulas = agente.conocimiento()\n",
    "agente.base = LPQuery(formulas)\n",
    "agente.base.TELL(f'mirando_o_{agente.turno}')\n",
    "\n",
    "for i in range(10):\n",
    "    if lab.activo:\n",
    "        clear_output(wait=True)\n",
    "        confirmado = False\n",
    "        direcciones = [f'mirando_{d}_{agente.turno}' for d in ['o', 's', 'e', 'n']]\n",
    "        for d in direcciones:\n",
    "            if ASK(d, 'success', agente.base):\n",
    "                confirmado = True\n",
    "                break\n",
    "        if not confirmado:\n",
    "            d = None\n",
    "        print('Dirreción del agente:', d)\n",
    "        lab.pintar()\n",
    "        agente.perceptos = lab.para_sentidos()\n",
    "        agente.base.TELL(agente.interp_percepto())\n",
    "        for f in agente.conocimiento() +  agente.fluente_mirando():\n",
    "            agente.base.TELL(f)\n",
    "        a = agente.reaccionar()\n",
    "        lab.transicion(a)\n",
    "#        sleep(.5) \n",
    "print('¡Listo!')"
   ]
  },
  {
   "cell_type": "markdown",
   "metadata": {},
   "source": [
    "---"
   ]
  },
  {
   "cell_type": "markdown",
   "metadata": {},
   "source": [
    "### Posición del agente (fluente_en)\n",
    "\n",
    "Ahora necesitamos una letra proposicional que represente la posición actual del agente:\n",
    "\n",
    "* en(x,y)_t es verdadero sii el agente está en la casilla $(x,y)$ en el turno $t$.\n",
    "\n",
    "\n",
    "La posición del agente de un turno a otro está dada por las siguientes regas:\n",
    "\n",
    "* en($x$,$y$)$_t$ $\\wedge$ mirando_o$_t$ $\\wedge$ adelante$_t$ $\\to$ en($x-1$,$y$)$_{t+1}$\n",
    "* en($x$,$y$)$_t$ $\\wedge$ mirando_e$_t$ $\\wedge$ adelante$_t$ $\\to$ en($x+1$,$y$)$_{t+1}$\n",
    "* en($x$,$y$)$_t$ $\\wedge$ mirando_s$_t$ $\\wedge$ adelante$_t$ $\\to$ en($x$,$y-1$)$_{t+1}$\n",
    "* en($x$,$y$)$_t$ $\\wedge$ mirando_n$_t$ $\\wedge$ adelante$_t$ $\\to$ en($x$,$y+1$)$_{t+1}$\n",
    "* en($x$,$y$)$_t$ $\\wedge$ voltearIzquierda $\\to$ en($x$,$y$)$_{t+1}$\n",
    "* en($x$,$y$)$_t$ $\\wedge$ voltearDerecha $\\to$ en($x$,$y$)$_{t+1}$"
   ]
  },
  {
   "cell_type": "markdown",
   "metadata": {},
   "source": [
    "<a class=\"anchor\" id=\"ej5\"></a>**Ejercicio 5:** \n",
    "\n",
    "([Anterior ejercicio](#ej4)) ([Próximo ejercicio](#ej6))\n",
    "\n",
    "Implemente las reglas del `fluente_en`. Ponga a correr el agente para visualizar la casilla en que se encuentra el agente, de acuerdo a la información que se puede obtener a partir de la base de conocimiento del agente."
   ]
  },
  {
   "cell_type": "code",
   "execution_count": null,
   "metadata": {},
   "outputs": [],
   "source": [
    "def interpreta_en(en_f):\n",
    "    c = en_f[3:].split('_')[0][:-1].split(',')\n",
    "    return int(c[0]), int(c[1])\n",
    "\n",
    "def fluente_en(self):\n",
    "    turno = agente.turno\n",
    "    x, y = agente.loc\n",
    "    formulas = [\n",
    "    #  AQUÍ SU CÓDIGO\n",
    "    f'en({x},{y})_{turno}Ymirando_o_{turno}Yadelante_{turno}>en({x-1},{y})_{turno+1}',    \n",
    "    f'en({x},{y})_{turno}Ymirando_e_{turno}Yadelante_{turno}>en({x+1},{y})_{turno+1}',    \n",
    "    f'en({x},{y})_{turno}Ymirando_s_{turno}Yadelante_{turno}>en({x},{y-1})_{turno+1}',    \n",
    "    f'en({x},{y})_{turno}Ymirando_n_{turno}Yadelante_{turno}>en({x},{y+1})_{turno+1}', \n",
    "        \n",
    "    f'en({x},{y})_{turno}YvoltearIzquierda_{turno}>en({x},{y})_{turno+1}',    \n",
    "    f'en({x},{y})_{turno}YvoltearDerecha_{turno}>en({x},{y})_{turno+1}',    \n",
    "\n",
    "    # AQUÍ TERMINA SU CÓDIGO\n",
    "    ]\n",
    "    return formulas\n",
    "\n",
    "setattr(Agente, 'fluente_en', fluente_en)"
   ]
  },
  {
   "cell_type": "code",
   "execution_count": null,
   "metadata": {
    "scrolled": false
   },
   "outputs": [],
   "source": [
    "from time import sleep\n",
    "from IPython.display import clear_output\n",
    "import matplotlib.pyplot as plt\n",
    "from agentes import *\n",
    "\n",
    "lab = Laberinto(pos_inicial=(11,11))\n",
    "agente = Agente()\n",
    "formulas = agente.conocimiento()\n",
    "agente.base = LPQuery(formulas)\n",
    "agente.base.TELL(f'mirando_o_{agente.turno}')\n",
    "agente.base.TELL(f'en(11,11)_{agente.turno}')\n",
    "agente.loc = (11,11)\n",
    "\n",
    "for i in range(13):\n",
    "    if lab.activo:\n",
    "        clear_output(wait=True)\n",
    "        confirmado = False\n",
    "        x, y = agente.loc\n",
    "        en_form = [f'en({x},{y})_{agente.turno}' for x in range(12) for y in range(12)]\n",
    "        for c in en_form:\n",
    "            if ASK(c, 'success', agente.base):\n",
    "                confirmado = True\n",
    "                agente.loc = interpreta_en(c)\n",
    "                break\n",
    "        if not confirmado:\n",
    "            c = None\n",
    "        print('Posición del agente:', c)\n",
    "        lab.pintar()\n",
    "        agente.perceptos = lab.para_sentidos()\n",
    "        agente.base.TELL(agente.interp_percepto())\n",
    "        reglas = agente.conocimiento() \n",
    "        reglas += agente.fluente_mirando() \n",
    "        reglas += agente.fluente_en()\n",
    "        for f in reglas:\n",
    "            agente.base.TELL(f)\n",
    "        a = agente.reaccionar()\n",
    "        lab.transicion(a)\n",
    "#        sleep(.5) \n",
    "print('¡Listo!')"
   ]
  },
  {
   "cell_type": "markdown",
   "metadata": {},
   "source": [
    "---"
   ]
  },
  {
   "cell_type": "markdown",
   "metadata": {},
   "source": [
    "### Casillas visitadas (fluente_visitadas)\n",
    "\n",
    "Ahora ya podemos incluir letras proposicionales que determinen que una casilla ha sido visitada:\n",
    "\n",
    "* visitada(x,y)$_t$ es verdadera sii el agente ha visitado la casilla $(x,y)$ en el turno $t$.\n",
    "\n",
    "Las reglas son las siguientes:\n",
    "\n",
    "* en(x,y)$_t$ $\\to$ visitada(x,y)$_t$\n",
    "* visitada(x,y)$_t$ $\\to$ visitada(x,y)$_{t+1}$"
   ]
  },
  {
   "cell_type": "markdown",
   "metadata": {},
   "source": [
    "<a class=\"anchor\" id=\"ej6\"></a>**Ejercicio 6:** \n",
    "\n",
    "([Anterior ejercicio](#ej5)) ([Próximo ejercicio](#ej7))\n",
    "\n",
    "Implemente las reglas del `fluente_visitadas`. Ponga a correr el agente para visualizar qué casillas ha visitado el agente, de acuerdo a la información que se puede obtener a partir de la base de conocimiento del agente."
   ]
  },
  {
   "cell_type": "code",
   "execution_count": null,
   "metadata": {},
   "outputs": [],
   "source": [
    "def fluente_visitadas(self):\n",
    "    turno = self.turno\n",
    "    casillas = [(x,y) for x in range(12) for y in range(12)]\n",
    "    formulas = []\n",
    "    for x, y in casillas:\n",
    "\n",
    "        formulas += [\n",
    "            #  AQUÍ SU CÓDIGO\n",
    "            f'en({x},{y})_{turno}>visitada({x},{y})_{turno}',       \n",
    "            f'visitada({x},{y})_{turno}>visitada({x},{y})_{turno+1}'       \n",
    "            # AQUÍ TERMINA SU CÓDIGO\n",
    "        ]\n",
    "    return formulas\n",
    "\n",
    "setattr(Agente, 'fluente_visitadas', fluente_visitadas)"
   ]
  },
  {
   "cell_type": "code",
   "execution_count": null,
   "metadata": {
    "scrolled": false
   },
   "outputs": [],
   "source": [
    "from time import sleep\n",
    "from IPython.display import clear_output\n",
    "import matplotlib.pyplot as plt\n",
    "from agentes import *\n",
    "\n",
    "lab = Laberinto(pos_inicial=(11,11))\n",
    "agente = Agente()\n",
    "formulas = agente.conocimiento()\n",
    "agente.base = LPQuery(formulas)\n",
    "agente.base.TELL(f'mirando_o_{agente.turno}')\n",
    "agente.base.TELL(f'en(11,11)_{agente.turno}')\n",
    "agente.loc = (11,11)\n",
    "casillas = [(x,y) for x in range(12) for y in range(12)]\n",
    "\n",
    "for i in range(14):\n",
    "    if lab.activo:\n",
    "        clear_output(wait=True)\n",
    "        confirmado = False\n",
    "        x, y = agente.loc\n",
    "        en_form = [f'en({x},{y})_{agente.turno}' for x in range(12) for y in range(12)]\n",
    "        for c in en_form:\n",
    "            if ASK(c, 'success', agente.base):\n",
    "                confirmado = True\n",
    "                agente.loc = interpreta_en(c)\n",
    "                break\n",
    "        visitadas = []\n",
    "        for c in casillas:\n",
    "            x, y = c\n",
    "            visitada = f'visitada({x},{y})_{agente.turno}'\n",
    "            if ASK(visitada, 'success', agente.base):\n",
    "                visitadas.append(visitada)\n",
    "        print('Casillas visitadas:', visitadas)\n",
    "        lab.pintar()\n",
    "        agente.perceptos = lab.para_sentidos()\n",
    "        agente.base.TELL(agente.interp_percepto())\n",
    "        reglas = agente.conocimiento() \n",
    "        reglas += agente.fluente_mirando() \n",
    "        reglas += agente.fluente_en()\n",
    "        reglas += agente.fluente_visitadas()\n",
    "        for f in reglas:\n",
    "            agente.base.TELL(f)\n",
    "        a = agente.reaccionar()\n",
    "        lab.transicion(a)\n",
    "        plt.show()\n",
    "        sleep(.5) \n",
    "print('¡Listo!')"
   ]
  },
  {
   "cell_type": "markdown",
   "metadata": {},
   "source": [
    "---"
   ]
  },
  {
   "cell_type": "markdown",
   "metadata": {},
   "source": [
    "## Estimación de estados <a class=\"anchor\" id=\"esti\"></a>\n",
    "\n",
    "([Volver al inicio](#inicio))\n",
    "\n",
    "\n",
    "\n",
    "La base de conocimiento crece cada turno, puesto que vamos incluyendo cada vez más y más reglas y datos en ella. Esto genera, evidentemente, que las consultas sean cada vez más demoradas. Para solucionar este inconveniente, debemos mantener un tamaño relativamente constante de la base de conocimiento. Esto lo logramos mediante una estimación de estado, que consiste en solo guardar en memoria la información relevante del estado actual."
   ]
  },
  {
   "cell_type": "code",
   "execution_count": null,
   "metadata": {
    "scrolled": true
   },
   "outputs": [],
   "source": [
    "from time import sleep\n",
    "from IPython.display import clear_output\n",
    "import matplotlib.pyplot as plt\n",
    "from agentes import *\n",
    "\n",
    "inicial = (11,11)\n",
    "mirando = 'oeste'\n",
    "lab = Laberinto(pos_inicial=inicial, dir_agente=mirando)\n",
    "agente = Agente()\n",
    "agente.loc = inicial # <= Ajustamos el atributo del agente a la posición inicial\n",
    "formulas = agente.posicion_inicial(mirando[0])\n",
    "agente.base = LPQuery(formulas)\n",
    "agente.perceptos = lab.para_sentidos()\n",
    "agente.estimar_estado()\n",
    "for i in range(2):\n",
    "    lab.pintar()\n",
    "    print(agente.base)\n",
    "    a = agente.reaccionar()\n",
    "    lab.transicion(a)\n",
    "    agente.nueva_posicion() # <= incluimos una consulta para encontrar la posición actual\n",
    "    agente.nueva_direccion() # <= incluimos una consulta para encontrar la dirección actual\n",
    "    agente.perceptos = lab.para_sentidos()\n",
    "    agente.estimar_estado() # <= estimamos el estado actual, dejando sólo \n",
    "                            # los átomos de los dos últimos turnos y las\n",
    "                            # reglas del turno actual"
   ]
  },
  {
   "cell_type": "markdown",
   "metadata": {},
   "source": [
    "<a class=\"anchor\" id=\"ej7\"></a>**Ejercicio 7:** \n",
    "\n",
    "([Anterior ejercicio](#ej6)) ([Próximo ejercicio](#ej8))\n",
    "\n",
    "Modifique la base de conocimiento para incluir una fórmula:\n",
    "\n",
    "* Si $en(0,0)_t$, entonces $salir_t$.\n",
    "\n",
    "Modifique el programa de agente para incluir la primera consulta sobre si debo salir. "
   ]
  },
  {
   "cell_type": "code",
   "execution_count": null,
   "metadata": {},
   "outputs": [],
   "source": [
    "def programaKB(self):\n",
    "    turno = self.turno\n",
    "    if ASK(f'salir_{turno}', 'success', self.base):\n",
    "        self.acciones.append('salir')\n",
    "        self.base.TELL(f'salir_{turno}')\n",
    "    elif ASK(f'voltearDerecha_{turno}', 'success', self.base):\n",
    "        self.acciones.append('voltearDerecha')\n",
    "        self.base.TELL(f'voltearDerecha_{turno}')\n",
    "    elif ASK(f'adelante_{turno}', 'success', self.base):\n",
    "        self.acciones.append('adelante')\n",
    "        self.base.TELL(f'adelante_{turno}')\n",
    "    elif ASK(f'voltearIzquierda_{turno}', 'success', self.base):\n",
    "        self.acciones.append('voltearIzquierda')\n",
    "        self.base.TELL(f'voltearIzquierda_{turno}')\n",
    "    else:\n",
    "        raise Exception('¡Caso no considerado!', self.interp_percepto())\n",
    "setattr(Agente, 'programa', programaKB)"
   ]
  },
  {
   "cell_type": "code",
   "execution_count": null,
   "metadata": {},
   "outputs": [],
   "source": [
    "from time import sleep\n",
    "from IPython.display import clear_output\n",
    "import matplotlib.pyplot as plt\n",
    "from agentes import *\n",
    "\n",
    "inicial = (11,11)\n",
    "mirando = 'oeste'\n",
    "lab = Laberinto(pos_inicial=inicial, dir_agente=mirando)\n",
    "agente = Agente()\n",
    "agente.loc = inicial # <= Ajustamos el atributo del agente a la posición inicial\n",
    "formulas = agente.posicion_inicial(mirando[0])\n",
    "agente.base = LPQuery(formulas)\n",
    "agente.perceptos = lab.para_sentidos()\n",
    "agente.estimar_estado()\n",
    "\n",
    "for i in range(70):\n",
    "    clear_output(wait=True)\n",
    "    lab.pintar()\n",
    "    a = agente.reaccionar()\n",
    "    lab.transicion(a)\n",
    "    if lab.activo:\n",
    "        agente.nueva_posicion() # <= incluimos una consulta para encontrar la posición actual\n",
    "        agente.nueva_direccion() # <= incluimos una consulta para encontrar la dirección actual\n",
    "        agente.perceptos = lab.para_sentidos()\n",
    "        agente.estimar_estado() # <= estimamos el estado actual, dejando sólo \n",
    "                                # los átomos de los dos últimos turnos y las\n",
    "                                # reglas del turno actual\n",
    "    else:\n",
    "        break\n",
    "print('¡Listo!')"
   ]
  },
  {
   "cell_type": "markdown",
   "metadata": {},
   "source": [
    "---"
   ]
  },
  {
   "cell_type": "markdown",
   "metadata": {},
   "source": [
    "<a class=\"anchor\" id=\"ej8\"></a>**Ejercicio 8:** \n",
    "\n",
    "([Anterior ejercicio](#ej7)) ([Próximo ejercicio](#ej9))\n",
    "\n",
    "Determine el porcentaje de éxito del agente con el programa que hemos definido hasta aquí. Si el agente cae en un caso que no ha considerado, trate el intento como fallido."
   ]
  },
  {
   "cell_type": "markdown",
   "metadata": {},
   "source": [
    "---"
   ]
  },
  {
   "cell_type": "markdown",
   "metadata": {},
   "source": [
    "### Categorías adicionales (fluente_frn_visitada)\n",
    "\n",
    "Para ilustrar cómo, mediante la lógica, podemos crear categorías cada vez más abstractas, incluiremos una letra proposicional que representa que la casilla de enfrente del agente, en la posición en que se encuentra y en la dirección en que está mirando, ha sido visitada por el agente en algún turno anterior:\n",
    "\n",
    "* frn_visitada$_t$ es verdadera sii en el turno $t$ el agente ya ha visitado la casilla enfrente suyo.\n",
    "\n",
    "Las reglas que controlan esta letra son:\n",
    "\n",
    "* en(x,y)$_t$ $\\wedge$ mirando_o$_t$ $\\wedge$ visitada(x-1,y)$_t$ $\\to$ frn_visitada$_t$\n",
    "* en(x,y)$_t$ $\\wedge$ mirando_e$_t$ $\\wedge$ visitada(x+1,y)$_t$ $\\to$ frn_visitada$_t$\n",
    "* en(x,y)$_t$ $\\wedge$ mirando_s$_t$ $\\wedge$ visitada(x,y-1)$_t$ $\\to$ frn_visitada$_t$\n",
    "* en(x,y)$_t$ $\\wedge$ mirando_n$_t$ $\\wedge$ visitada(x,y+1)$_t$ $\\to$ frn_visitada$_t$"
   ]
  },
  {
   "cell_type": "markdown",
   "metadata": {},
   "source": [
    "<a class=\"anchor\" id=\"ej9\"></a>**Ejercicio 9:** \n",
    "\n",
    "([Anterior ejercicio](#ej8)) ([Próximo ejercicio](#ej10))\n",
    "\n",
    "Implemente las reglas del `fluente_frn_visitada`. Ponga a correr el agente para visualizar si la casilla de enfrente ha sido visitada, de acuerdo a la información que se puede obtener a partir de la base de conocimiento del agente."
   ]
  },
  {
   "cell_type": "code",
   "execution_count": null,
   "metadata": {},
   "outputs": [],
   "source": [
    "def fluente_frn_visitada(self):\n",
    "    turno = self.turno\n",
    "    x, y = self.loc\n",
    "    formulas = [\n",
    "        # AQUÍ SU CÓDIGO\n",
    "        \n",
    "        # AQUÍ TERMINA SU CÓDIGO\n",
    "    ]\n",
    "    return formulas\n",
    "\n",
    "setattr(Agente, 'fluente_frn_visitada', fluente_frn_visitada)"
   ]
  },
  {
   "cell_type": "code",
   "execution_count": null,
   "metadata": {},
   "outputs": [],
   "source": [
    "from time import sleep\n",
    "from IPython.display import clear_output\n",
    "import matplotlib.pyplot as plt\n",
    "from agentes import *\n",
    "\n",
    "inicial = (3,3)\n",
    "mirando = 'este'\n",
    "lab = Laberinto(pos_inicial=inicial, dir_agente=mirando)\n",
    "agente = Agente()\n",
    "agente.loc = inicial # <= Ajustamos el atributo del agente a la posición inicial\n",
    "formulas = agente.posicion_inicial(mirando[0])\n",
    "agente.base = LPQuery(formulas)\n",
    "agente.perceptos = lab.para_sentidos()\n",
    "agente.estimar_estado()\n",
    "\n",
    "for i in range(25):\n",
    "    clear_output(wait=True)\n",
    "    print('Casilla de enfrente vistiada?', ASK(f'frn_visitada_{agente.turno}','success',agente.base))\n",
    "    lab.pintar()\n",
    "    a = agente.reaccionar()\n",
    "    lab.transicion(a)\n",
    "    if lab.activo:\n",
    "        agente.nueva_posicion() # <= incluimos una consulta para encontrar la posición actual\n",
    "        agente.nueva_direccion() # <= incluimos una consulta para encontrar la dirección actual\n",
    "        agente.perceptos = lab.para_sentidos()\n",
    "        agente.estimar_estado() # <= estimamos el estado actual, dejando sólo \n",
    "                                # los átomos de los dos últimos turnos y las\n",
    "                                # reglas del turno actual\n",
    "    else:\n",
    "        break\n",
    "print('¡Listo!')"
   ]
  },
  {
   "cell_type": "markdown",
   "metadata": {},
   "source": [
    "---"
   ]
  },
  {
   "cell_type": "markdown",
   "metadata": {},
   "source": [
    "## En este notebook usted aprendió\n",
    "\n",
    "* Los detalles de la implementación de un programa de agente basado en el conocimiento.\n"
   ]
  }
 ],
 "metadata": {
  "kernelspec": {
   "display_name": "Python 3 (ipykernel)",
   "language": "python",
   "name": "python3"
  },
  "language_info": {
   "codemirror_mode": {
    "name": "ipython",
    "version": 3
   },
   "file_extension": ".py",
   "mimetype": "text/x-python",
   "name": "python",
   "nbconvert_exporter": "python",
   "pygments_lexer": "ipython3",
   "version": "3.9.12"
  }
 },
 "nbformat": 4,
 "nbformat_minor": 4
}
