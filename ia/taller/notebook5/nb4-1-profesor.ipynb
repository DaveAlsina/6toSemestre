{
 "cells": [
  {
   "cell_type": "markdown",
   "metadata": {
    "colab_type": "text",
    "id": "TpmFfXsQ0dYI"
   },
   "source": [
    "<table>\n",
    "    <tr>\n",
    "        <td><img src=\"./imagenes/Macc.png\" width=\"400\"/></td>\n",
    "        <td>&nbsp;</td>\n",
    "        <td>\n",
    "            <h1 style=\"color:blue;text-align:left\">Inteligencia Artificial</h1></td>\n",
    "        <td>\n",
    "            <table><tr>\n",
    "            <tp><p style=\"font-size:150%;text-align:center\">Notebook 4'</p></tp>\n",
    "            <tp><p style=\"font-size:150%;text-align:center\">Búsqueda en espacio de estados (4/4) </p></tp>\n",
    "            </tr></table>\n",
    "        </td>\n",
    "    </tr>\n",
    "</table>\n",
    "\n",
    "---"
   ]
  },
  {
   "cell_type": "markdown",
   "metadata": {
    "colab_type": "text",
    "id": "V3SkDSWJ0dYJ"
   },
   "source": [
    "## Objetivo <a class=\"anchor\" id=\"inicio\"></a>\n",
    "\n",
    "Veremos el algoritmo A$^*$, el cual es una forma de Best First Search. En este caso, la evaluación $f$ de los nodos se hace mediante la suma entre su costo_camino $g$ y una heurística $h$ que estima el costo mínimo desde el nodo hasta la solución.\n",
    "\n",
    "$$f(n) = g(n) + h(n)$$\n",
    "\n",
    "Adaptado de (Russell & Norvig, 2020), sección 3.6"
   ]
  },
  {
   "cell_type": "markdown",
   "metadata": {
    "colab_type": "text",
    "id": "5HnQ_gA70dYL"
   },
   "source": [
    "## Secciones\n",
    "\n",
    "Desarrollaremos la explicación de la siguiente manera:\n",
    "\n",
    "* [Algoritmo A$^*$](#a_star).\n",
    "* [Comparación de heurísticas con A$^*$](#compara).\n"
   ]
  },
  {
   "cell_type": "markdown",
   "metadata": {},
   "source": [
    "## Algoritmo A$^*$ <a class=\"anchor\" id=\"a_star\"></a>\n",
    "\n",
    "([Volver al inicio](#inicio))\n",
    "\n",
    "El siguiente es el pseudocódigo del algoritmo A$^*$:\n",
    "\n",
    "<div style=\"background-color:rgba(0, 0, 0, 0.0470588); padding:10px 0;font-family:monospace;\">\n",
    "<font style=\"font-weight: bold;\" color = \"red\">function</font> A_star(<font style=\"font-style: italic;\">problema</font>, <font style=\"font-style: italic;\">f</font>, <font style=\"font-style: italic;\">g</font>) <font style=\"font-weight: bold;\" color = \"red\">returns</font> <font style=\"font-style: italic;\">nodo</font> o falla <br>\n",
    "&nbsp;&nbsp; <font style=\"font-style: italic;\">problema</font>.costo &#8592; <font style=\"font-style: italic;\">g</font> <br>\n",
    "&nbsp;&nbsp; <font style=\"font-style: italic;\">s</font> &#8592; <font style=\"font-style: italic;\">problema</font>.estado_inicial <br>\n",
    "&nbsp;&nbsp; <font style=\"font-style: italic;\">cod</font> &#8592; <font style=\"font-style: italic;\">problema</font>.codigo(<font style=\"font-style: italic;\">s</font>) <br>\n",
    "&nbsp;&nbsp; <font style=\"font-style: italic;\">nodo</font> &#8592; NODO(<font style=\"font-style: italic;\">s</font>) <br>\n",
    "&nbsp;&nbsp; <font style=\"font-style: italic;\">v</font> &#8592; <font style=\"font-style: italic;\">f</font>(<font style=\"font-style: italic;\">s</font>) <br>\n",
    "&nbsp;&nbsp; <font style=\"font-style: italic;\">frontera</font> &#8592; lista prioritaria con 1 item con key <font style=\"font-style: italic;\">nodo</font> y valor v<br>\n",
    "&nbsp;&nbsp; <font style=\"font-style: italic;\">explorados</font> &#8592; diccionario con 1 item con key <font style=\"font-style: italic;\">cod</font> y valor v <br>\n",
    "&nbsp;&nbsp; <font style=\"font-weight: bold;\" color = \"red\">While not</font> VACIA(<font style=\"font-style: italic;\">frontera</font>) <font style=\"font-weight: bold;\" color = \"red\">do</font> <br> \n",
    "&nbsp;&nbsp;&nbsp;&nbsp; <font style=\"font-style: italic;\">nodo</font> &#8592; POP(<font style=\"font-style: italic;\">frontera</font>) <br>\n",
    "&nbsp;&nbsp;&nbsp;&nbsp; <font style=\"font-weight: bold;\" color = \"red\">if</font> <font style=\"font-style: italic;\">problema</font>.test_objetivo(<font style=\"font-style: italic;\">nodo</font>.estado) <font style=\"font-weight: bold;\" color = \"red\">then return</font> <font style=\"font-style: italic;\">nodo</font> <br>\n",
    "&nbsp;&nbsp;&nbsp;&nbsp; <font style=\"font-weight: bold;\" color = \"red\">for each</font> <font style=\"font-style: italic;\">hijo</font> <font style=\"font-weight: bold;\" color = \"red\">in</font> EXPAND(<font style=\"font-style: italic;\">problema</font>, <font style=\"font-style: italic;\">nodo</font>) <font style=\"font-weight: bold;\" color = \"red\">do</font> <br>\n",
    "&nbsp;&nbsp;&nbsp;&nbsp;&nbsp;&nbsp; <font style=\"font-style: italic;\">s</font> &#8592; <font style=\"font-style: italic;\">hijo</font>.estado<br>\n",
    "&nbsp;&nbsp;&nbsp;&nbsp;&nbsp;&nbsp; <font style=\"font-style: italic;\">cod</font> &#8592; <font style=\"font-style: italic;\">problema</font>.codigo(<font style=\"font-style: italic;\">s</font>) <br>\n",
    "&nbsp;&nbsp;&nbsp;&nbsp;&nbsp;&nbsp; <font style=\"font-style: italic;\">c</font> &#8592; <font style=\"font-style: italic;\">hijo</font>.costo_camino + <font style=\"font-style: italic;\">f</font>(<font style=\"font-style: italic;\">s</font>)<br>\n",
    "&nbsp;&nbsp;&nbsp;&nbsp;&nbsp;&nbsp; <font style=\"font-weight: bold;\" color = \"red\">if</font> <font style=\"font-style: italic;\">cod</font> <font style=\"font-weight: bold;\" color = \"red\">not in</font> <font style=\"font-style: italic;\">explorados</font>.keys <font style=\"font-weight: bold;\" color = \"red\">or</font> <font style=\"font-style: italic;\">c</font> &#60; <font style=\"font-style: italic;\">explorados</font>[<font style=\"font-style: italic;\">cod</font>] <font style=\"font-weight: bold;\" color = \"red\">then</font> <br>\n",
    "&nbsp;&nbsp;&nbsp;&nbsp;&nbsp;&nbsp;&nbsp;&nbsp; <font style=\"font-style: italic;\">frontera</font>[<font style=\"font-style: italic;\">hijo</font>] &#8592; <font style=\"font-style: italic;\">c</font> <br>\n",
    "&nbsp;&nbsp;&nbsp;&nbsp;&nbsp;&nbsp;&nbsp;&nbsp; <font style=\"font-style: italic;\">explorados</font>[<font style=\"font-style: italic;\">cod</font>] &#8592; <font style=\"font-style: italic;\">c</font> <br>\n",
    "    &nbsp;&nbsp; <font style=\"font-weight: bold;\" color = \"red\">return</font> falla <br>\n",
    "</div>"
   ]
  },
  {
   "cell_type": "markdown",
   "metadata": {},
   "source": [
    "La siguiente es la implementación en Python de A$^*$:"
   ]
  },
  {
   "cell_type": "code",
   "execution_count": 11,
   "metadata": {},
   "outputs": [],
   "source": [
    "from types import MethodType\n",
    "\n",
    "def A_star(problema, f, g=None):\n",
    "    if g != None:\n",
    "        problema.costo = MethodType(g, problema)\n",
    "    s = problema.estado_inicial\n",
    "    cod = problema.codigo(s)\n",
    "    nodo = Nodo(s, None, None, 0, cod)\n",
    "    v = f(s)\n",
    "    frontera = ListaPrioritaria()\n",
    "    frontera.push(nodo, v)\n",
    "    explorados = {}\n",
    "    explorados[cod] = v\n",
    "    while not frontera.is_empty():\n",
    "        nodo = frontera.pop()\n",
    "        if problema.test_objetivo(nodo.estado):\n",
    "            return nodo\n",
    "        for hijo in expand(problema, nodo):\n",
    "            s = hijo.estado\n",
    "            cod = problema.codigo(s)\n",
    "            c = hijo.costo_camino + f(s)\n",
    "            if (cod not in explorados.keys()) or (c < explorados[cod]):\n",
    "                frontera.push(hijo, c)\n",
    "                explorados[cod] = c\n",
    "    return None"
   ]
  },
  {
   "cell_type": "markdown",
   "metadata": {},
   "source": [
    "Vamos a usar el algoritmo A$^*$ para resolver el problema del viaje a Rumania:\n",
    "\n",
    "<img src=\"./imagenes/Rumania.png\" width=\"400\"/>"
   ]
  },
  {
   "cell_type": "code",
   "execution_count": 2,
   "metadata": {},
   "outputs": [],
   "source": [
    "from ambientes import ViajeRumania\n",
    "\n",
    "viaje = ViajeRumania('Arad', 'Bucharest')"
   ]
  },
  {
   "cell_type": "markdown",
   "metadata": {},
   "source": [
    "Observe que el ambiente de tarea incorpora las coordenadas de cada ciudad:"
   ]
  },
  {
   "cell_type": "code",
   "execution_count": 3,
   "metadata": {},
   "outputs": [
    {
     "data": {
      "text/plain": [
       "{'Oradea': (-378.39823252974577, 343.17197064259227),\n",
       " 'Zerind': (-410.21550133104574, 288.6280812689352),\n",
       " 'Arad': (-435.21478396063856, 232.9478608666603),\n",
       " 'Timisoara': (-432.94212190340284, 114.76943389040338),\n",
       " 'Lugoj': (-332.9449913850316, 69.31619274568916),\n",
       " 'Mehadia': (-326.1270052133244, 14.772303372032118),\n",
       " 'Drobeta': (-332.9449913850316, -42.04424805886064),\n",
       " 'Sibiu': (-272.7194468682852, 182.94929560747468),\n",
       " 'Rimnicu Vilcea': (-236.3568539525139, 115.90576491902122),\n",
       " 'Craiova': (-217.03922646601035, -55.680220402274905),\n",
       " 'Fagaras': (-130.67806829105334, 168.17699223544255),\n",
       " 'Pitesti': (-109.0877787473141, 53.40755834503919),\n",
       " 'Bucharest': (0.0, 0.0),\n",
       " 'Giurgiu': (-37.49892394438922, -81.81583406048557),\n",
       " 'Urziceni': (79.54317200324986, 29.544606744064236),\n",
       " 'Vaslui': (152.2683578347926, 163.63166812097114),\n",
       " 'Iasi': (103.40612360422482, 249.99282629592813),\n",
       " 'Neamt': (7.9543172003249865, 294.3097364120245),\n",
       " 'Hirsova': (188.63095075056395, 30.68093777268209),\n",
       " 'Eforie': (229.53886778080675, -51.134896287803485)}"
      ]
     },
     "execution_count": 3,
     "metadata": {},
     "output_type": "execute_result"
    }
   ],
   "source": [
    "viaje.coordenadas"
   ]
  },
  {
   "cell_type": "markdown",
   "metadata": {},
   "source": [
    "Ya que estas coordenadas no determinan exactamente las distancias en la figura, definimos la función de costo usando la distancia euclidiana entre las coordenadas:"
   ]
  },
  {
   "cell_type": "code",
   "execution_count": 4,
   "metadata": {},
   "outputs": [],
   "source": [
    "def costo(self, estado, accion):\n",
    "    return self.distancia(estado, accion)"
   ]
  },
  {
   "cell_type": "markdown",
   "metadata": {},
   "source": [
    "Comprobamos el funcionamiento del algoritmo:"
   ]
  },
  {
   "cell_type": "code",
   "execution_count": 5,
   "metadata": {},
   "outputs": [
    {
     "ename": "NameError",
     "evalue": "name 'Nodo' is not defined",
     "output_type": "error",
     "traceback": [
      "\u001b[0;31m---------------------------------------------------------------------------\u001b[0m",
      "\u001b[0;31mNameError\u001b[0m                                 Traceback (most recent call last)",
      "\u001b[0;32m/tmp/ipykernel_16506/2722161768.py\u001b[0m in \u001b[0;36m<module>\u001b[0;34m\u001b[0m\n\u001b[0;32m----> 1\u001b[0;31m \u001b[0ml\u001b[0m \u001b[0;34m=\u001b[0m \u001b[0mA_star\u001b[0m\u001b[0;34m(\u001b[0m\u001b[0mviaje\u001b[0m\u001b[0;34m,\u001b[0m \u001b[0mf\u001b[0m\u001b[0;34m=\u001b[0m\u001b[0mviaje\u001b[0m\u001b[0;34m.\u001b[0m\u001b[0mdistancia_objetivo\u001b[0m\u001b[0;34m,\u001b[0m \u001b[0mg\u001b[0m\u001b[0;34m=\u001b[0m\u001b[0mcosto\u001b[0m\u001b[0;34m)\u001b[0m\u001b[0;34m\u001b[0m\u001b[0;34m\u001b[0m\u001b[0m\n\u001b[0m\u001b[1;32m      2\u001b[0m \u001b[0;32mif\u001b[0m \u001b[0ml\u001b[0m \u001b[0;32mis\u001b[0m \u001b[0;32mnot\u001b[0m \u001b[0;32mNone\u001b[0m\u001b[0;34m:\u001b[0m\u001b[0;34m\u001b[0m\u001b[0;34m\u001b[0m\u001b[0m\n\u001b[1;32m      3\u001b[0m     \u001b[0mcamino\u001b[0m \u001b[0;34m=\u001b[0m \u001b[0;34m[\u001b[0m\u001b[0mviaje\u001b[0m\u001b[0;34m.\u001b[0m\u001b[0mestado_inicial\u001b[0m\u001b[0;34m]\u001b[0m \u001b[0;34m+\u001b[0m \u001b[0msolucion\u001b[0m\u001b[0;34m(\u001b[0m\u001b[0ml\u001b[0m\u001b[0;34m)\u001b[0m\u001b[0;34m\u001b[0m\u001b[0;34m\u001b[0m\u001b[0m\n\u001b[1;32m      4\u001b[0m     \u001b[0mprint\u001b[0m\u001b[0;34m(\u001b[0m\u001b[0;34m\"La solución encontrada es: \"\u001b[0m\u001b[0;34m,\u001b[0m \u001b[0mcamino\u001b[0m\u001b[0;34m)\u001b[0m\u001b[0;34m\u001b[0m\u001b[0;34m\u001b[0m\u001b[0m\n\u001b[1;32m      5\u001b[0m     \u001b[0mprint\u001b[0m\u001b[0;34m(\u001b[0m\u001b[0;34m\"La cantidad de kilómetros es:\"\u001b[0m\u001b[0;34m,\u001b[0m \u001b[0ml\u001b[0m\u001b[0;34m.\u001b[0m\u001b[0mcosto_camino\u001b[0m\u001b[0;34m)\u001b[0m\u001b[0;34m\u001b[0m\u001b[0;34m\u001b[0m\u001b[0m\n",
      "\u001b[0;32m/tmp/ipykernel_16506/2015220547.py\u001b[0m in \u001b[0;36mA_star\u001b[0;34m(problema, f, g)\u001b[0m\n\u001b[1;32m      6\u001b[0m     \u001b[0ms\u001b[0m \u001b[0;34m=\u001b[0m \u001b[0mproblema\u001b[0m\u001b[0;34m.\u001b[0m\u001b[0mestado_inicial\u001b[0m\u001b[0;34m\u001b[0m\u001b[0;34m\u001b[0m\u001b[0m\n\u001b[1;32m      7\u001b[0m     \u001b[0mcod\u001b[0m \u001b[0;34m=\u001b[0m \u001b[0mproblema\u001b[0m\u001b[0;34m.\u001b[0m\u001b[0mcodigo\u001b[0m\u001b[0;34m(\u001b[0m\u001b[0ms\u001b[0m\u001b[0;34m)\u001b[0m\u001b[0;34m\u001b[0m\u001b[0;34m\u001b[0m\u001b[0m\n\u001b[0;32m----> 8\u001b[0;31m     \u001b[0mnodo\u001b[0m \u001b[0;34m=\u001b[0m \u001b[0mNodo\u001b[0m\u001b[0;34m(\u001b[0m\u001b[0ms\u001b[0m\u001b[0;34m,\u001b[0m \u001b[0;32mNone\u001b[0m\u001b[0;34m,\u001b[0m \u001b[0;32mNone\u001b[0m\u001b[0;34m,\u001b[0m \u001b[0;36m0\u001b[0m\u001b[0;34m,\u001b[0m \u001b[0mcod\u001b[0m\u001b[0;34m)\u001b[0m\u001b[0;34m\u001b[0m\u001b[0;34m\u001b[0m\u001b[0m\n\u001b[0m\u001b[1;32m      9\u001b[0m     \u001b[0mv\u001b[0m \u001b[0;34m=\u001b[0m \u001b[0mf\u001b[0m\u001b[0;34m(\u001b[0m\u001b[0ms\u001b[0m\u001b[0;34m)\u001b[0m\u001b[0;34m\u001b[0m\u001b[0;34m\u001b[0m\u001b[0m\n\u001b[1;32m     10\u001b[0m     \u001b[0mfrontera\u001b[0m \u001b[0;34m=\u001b[0m \u001b[0mListaPrioritaria\u001b[0m\u001b[0;34m(\u001b[0m\u001b[0;34m)\u001b[0m\u001b[0;34m\u001b[0m\u001b[0;34m\u001b[0m\u001b[0m\n",
      "\u001b[0;31mNameError\u001b[0m: name 'Nodo' is not defined"
     ]
    }
   ],
   "source": [
    "l = A_star(viaje, f=viaje.distancia_objetivo, g=costo)\n",
    "if l is not None:\n",
    "    camino = [viaje.estado_inicial] + solucion(l)\n",
    "    print(\"La solución encontrada es: \", camino)\n",
    "    print(\"La cantidad de kilómetros es:\", l.costo_camino)\n",
    "else:\n",
    "    print(\"No hay solución!\")"
   ]
  },
  {
   "cell_type": "markdown",
   "metadata": {},
   "source": [
    "---"
   ]
  },
  {
   "cell_type": "markdown",
   "metadata": {},
   "source": [
    "Vamos a hacer ahora la comparación de tiempos de CPU de los tres algoritmos:\n",
    "\n",
    "* Costo uniforme (Dijkstra)\n",
    "* Avara con distancia euclidiana\n",
    "* A$^*$\n",
    "\n",
    "Observe que estamos generando distintos problemas, comenzando desde una ciudad aleatoria hasta otra ciudad aleatoria. Esto para tratar de garantizar un tratamiento más justo a todos los algoritmos:"
   ]
  },
  {
   "cell_type": "code",
   "execution_count": null,
   "metadata": {},
   "outputs": [],
   "source": [
    "from ambientes import ViajeRumania\n",
    "from busqueda import *\n",
    "from tiempos import *\n",
    "from random import sample\n",
    "import warnings\n",
    "warnings.filterwarnings('ignore')\n",
    "\n",
    "funs = [\n",
    "    lambda x: best_first_search(x, costo),\n",
    "    lambda x: greedy_search(x, x.distancia_objetivo),\n",
    "    lambda x: A_star(x, costo, x.distancia_objetivo),\n",
    "]\n",
    "nombres = [\n",
    "    'costo uniforme', \n",
    "    'greedy',\n",
    "    'A*',\n",
    "]\n",
    "viaje = ViajeRumania('Arad', 'Bucharest')\n",
    "ciudades = viaje.rutas.keys()\n",
    "parejas = [sample(ciudades, 2) for _ in range(20)]\n",
    "args = [ViajeRumania(*p) for p in parejas]\n",
    "data = compara_funciones_sobreargumentos(funs=funs, args=args, nombres=nombres)\n",
    "# Graficando\n",
    "fig, ax = plt.subplots(1,1, figsize=(3*len(funs),3), tight_layout=True)\n",
    "sns.boxplot(data=data, x='Función', y='Tiempo')\n",
    "sns.swarmplot(data=data, x='Función', y='Tiempo', color='black', alpha = 0.5, ax=ax);\n",
    "# Anova diferencia de medias\n",
    "model = ols('Tiempo ~ C(Función)', data=data).fit()\n",
    "anova_table = sm.stats.anova_lm(model, typ=2)\n",
    "print(anova_table)"
   ]
  },
  {
   "cell_type": "markdown",
   "metadata": {},
   "source": [
    "La prueba F nos dice que los tres algoritmos tienen tiempo promedio de CPU distinto. En la figura podemos ver que el algoritmo más rápido es el avaro. No obstante, ya sabemos que este no nos da una solución óptima. El segundo algoritmo más rápido es el A$^*$, el cual sí encuentra la solución óptima. Por esta razón, para este tipo de problemas, se prefiere el algoritmo A$^*$."
   ]
  },
  {
   "cell_type": "markdown",
   "metadata": {},
   "source": [
    "---"
   ]
  },
  {
   "cell_type": "markdown",
   "metadata": {},
   "source": [
    "EJERCICIO PARA DESARROLLAR EN CLASE: ANÁLISIS DE TIEMPOS PARA TAMAÑOS DISTINTOS DEL PROBLEMA DEL PUZZLE."
   ]
  },
  {
   "cell_type": "code",
   "execution_count": 12,
   "metadata": {},
   "outputs": [],
   "source": [
    "import numpy as np"
   ]
  },
  {
   "cell_type": "code",
   "execution_count": 13,
   "metadata": {},
   "outputs": [],
   "source": [
    "def manhattan(estado: np.matrix, objetivo=np.matrix([[6,7,8], [3,4,5], [0,1,2]]).T):\n",
    "    \n",
    "    # busco cuales son los numeros que no están donde \n",
    "    # deberían estar\n",
    "    a = np.array(estado[estado != objetivo]).flatten()\n",
    "    \n",
    "    if len(a) == 0:\n",
    "        return 0\n",
    "    \n",
    "    # obtengo los indices (x, y) donde el estado no coincide con \n",
    "    # el estado objetivo\n",
    "    x, y = np.where(estado != objetivo)\n",
    "    \n",
    "    # para cada numero que no está donde debería, miro cuales son \n",
    "    # los indices (x, y) donde se ubica y los guarda en el los vectores\n",
    "    # \"i, j\"\n",
    "    i, j = np.vectorize(lambda x: np.where(objetivo == x))(a.flatten())\n",
    "    \n",
    "    # resta entrada a entrada el vector \"x\" con \"i\", toma su valor absuluto y lo suma\n",
    "    # hace lo mismo para \"y\" con \"j\". Uso flatten porque np tiene fetiche con envolver en \n",
    "    # una matriz aunque sea solo una fila\n",
    "\n",
    "    return np.sum( np.abs(x-i) + np.sum(np.abs(y-j)) )\n",
    " "
   ]
  },
  {
   "cell_type": "code",
   "execution_count": 6,
   "metadata": {},
   "outputs": [],
   "source": [
    "from ambientes import ViajeRumania, Rompecabezas\n",
    "from busqueda import *\n",
    "from tiempos import *\n",
    "from random import sample\n",
    "import warnings\n",
    "warnings.filterwarnings('ignore')\n"
   ]
  },
  {
   "cell_type": "code",
   "execution_count": 10,
   "metadata": {},
   "outputs": [
    {
     "data": {
      "text/plain": [
       "<AxesSubplot:>"
      ]
     },
     "execution_count": 10,
     "metadata": {},
     "output_type": "execute_result"
    },
    {
     "data": {
      "image/png": "[encoded data removed]",
      "text/plain": [
       "<Figure size 360x360 with 1 Axes>"
      ]
     },
     "metadata": {
      "needs_background": "light"
     },
     "output_type": "display_data"
    }
   ],
   "source": [
    "r = Rompecabezas(n = 4)\n",
    "s = r.estado_inicial\n",
    "r.pintar_estado(s)"
   ]
  },
  {
   "cell_type": "code",
   "execution_count": null,
   "metadata": {},
   "outputs": [],
   "source": [
    "funs = [ lambda x: best_first_search(x, x.piezas_mal_puestas), \n",
    "         lambda x: greedy_search(x, manhattan),\n",
    "         lambda x: A_star(x, x.piezas_mal_puestas, costo),\n",
    "         lambda x: A_star(x, manhattan, costo)\n",
    "        ]\n",
    "\n",
    "nombres = [\"greedy (piezas mal puestas)\",\n",
    "           \"greedy (manhatan)\", \n",
    "           \"A* (piezas mal puestas)\", \n",
    "           \"A* (manhattan)\"]\n",
    "\n",
    "lista_datafs = []\n",
    "\n"
   ]
  },
  {
   "cell_type": "markdown",
   "metadata": {},
   "source": [
    "---"
   ]
  },
  {
   "cell_type": "markdown",
   "metadata": {},
   "source": [
    "## En este notebook usted aprendió\n",
    "\n",
    "* Cómo realizar una búsqueda mediante el método A$^*$.\n",
    "* Comparar los tiempos de los algoritmos.\n"
   ]
  },
  {
   "cell_type": "markdown",
   "metadata": {},
   "source": [
    "---"
   ]
  }
 ],
 "metadata": {
  "colab": {
   "name": "arboles_busqueda.ipynb",
   "provenance": []
  },
  "kernelspec": {
   "display_name": "Python 3 (ipykernel)",
   "language": "python",
   "name": "python3"
  },
  "language_info": {
   "codemirror_mode": {
    "name": "ipython",
    "version": 3
   },
   "file_extension": ".py",
   "mimetype": "text/x-python",
   "name": "python",
   "nbconvert_exporter": "python",
   "pygments_lexer": "ipython3",
   "version": "3.9.7"
  }
 },
 "nbformat": 4,
 "nbformat_minor": 1
}
