{
 "cells": [
  {
   "cell_type": "code",
   "execution_count": 1,
   "id": "30a4a8a9",
   "metadata": {},
   "outputs": [],
   "source": [
    "%load_ext autoreload\n",
    "%autoreload 2\n",
    "from AmbientesMP import *\n",
    "from random import choice\n",
    "from busqueda import Nodo , nodo_hijo"
   ]
  },
  {
   "cell_type": "markdown",
   "id": "c22804ea",
   "metadata": {},
   "source": [
    "## BREAD FIRST SEARCH"
   ]
  },
  {
   "cell_type": "code",
   "execution_count": 2,
   "id": "d9506fe8",
   "metadata": {},
   "outputs": [],
   "source": [
    "def breadth_first_search(prob):\n",
    "    \n",
    "    node = Nodo(estado = prob.estado_inicial,\n",
    "                madre  = None, \n",
    "                accion = None, \n",
    "                costo_camino = 0, \n",
    "                codigo = \"origin\")\n",
    "    \n",
    "    if prob.test_objetivo(node.estado):\n",
    "        return node\n",
    "    \n",
    "    frontier = [node]\n",
    "    explored = []  \n",
    "    \n",
    "        \n",
    "    while len(frontier) > 0:\n",
    "        node = frontier.pop(0)\n",
    "        explored.append(node.codigo)\n",
    "        \n",
    "        for action in prob.acciones_aplicables(node.estado):\n",
    "            child = nodo_hijo(prob, node, action)\n",
    "            \n",
    "            if prob.test_objetivo(child.estado):\n",
    "                return child\n",
    "            if child.codigo not in explored:\n",
    "                frontier.append(child)\n",
    "\n",
    "            \n",
    "    return False"
   ]
  },
  {
   "cell_type": "markdown",
   "id": "0defd905",
   "metadata": {},
   "source": [
    "## DEPTH LIMITED SEARCH"
   ]
  },
  {
   "cell_type": "code",
   "execution_count": 3,
   "id": "2f97d9af",
   "metadata": {},
   "outputs": [],
   "source": [
    "def get_codes(node: Nodo):\n",
    "    \n",
    "    if node.madre == None:\n",
    "        return [node.codigo]\n",
    "    \n",
    "    return  [] + [node.codigo] + get_codes(node.madre)"
   ]
  },
  {
   "cell_type": "code",
   "execution_count": 4,
   "id": "eb87774c",
   "metadata": {},
   "outputs": [],
   "source": [
    "def is_cycle(node: Nodo):\n",
    "    \n",
    "    return len( set(get_codes(node)) ) != len(get_codes(node))"
   ]
  },
  {
   "cell_type": "code",
   "execution_count": 5,
   "id": "f140b52f",
   "metadata": {},
   "outputs": [],
   "source": [
    "def expand(problema, node):\n",
    "    \n",
    "    state = node.estado\n",
    "    nodes = []\n",
    "    \n",
    "    for action in problema.acciones_aplicables(state):\n",
    "        child = nodo_hijo(problema, node, action)\n",
    "        nodes.append(child)\n",
    "        \n",
    "    return nodes"
   ]
  },
  {
   "cell_type": "code",
   "execution_count": 6,
   "id": "7c773a1d",
   "metadata": {},
   "outputs": [],
   "source": [
    "def depth_(node):\n",
    "    \n",
    "    if node.madre == None:\n",
    "        return 0\n",
    "    \n",
    "    return 1 + depth_(node.madre) "
   ]
  },
  {
   "cell_type": "code",
   "execution_count": 7,
   "id": "384aa5d5",
   "metadata": {},
   "outputs": [],
   "source": [
    "def depth_limited_search(prob, l):\n",
    "    \n",
    "    node = Nodo(estado = prob.estado_inicial,\n",
    "                madre  = None,\n",
    "                accion = None, \n",
    "                costo_camino = 0,\n",
    "                codigo = 'origin')\n",
    "    \n",
    "    frontier  = [node]\n",
    "    result = \"falla\"\n",
    "    \n",
    "    while len(frontier) > 0:\n",
    "        \n",
    "        node = frontier.pop()\n",
    "        \n",
    "        if prob.test_objetivo(node.estado):\n",
    "            return node\n",
    "        \n",
    "        if depth_(node) >= l:\n",
    "            continue\n",
    "            #return \"cutoff\"\n",
    "        \n",
    "        elif not is_cycle(node):\n",
    "            \n",
    "            for child in expand(prob, node):\n",
    "                frontier.append(child)\n",
    "                \n",
    "    return result"
   ]
  },
  {
   "cell_type": "markdown",
   "id": "962ccd67",
   "metadata": {},
   "source": [
    "## BEST FIRST SEARCH"
   ]
  },
  {
   "cell_type": "code",
   "execution_count": 8,
   "id": "f85b7144",
   "metadata": {},
   "outputs": [],
   "source": [
    "import numpy as np\n",
    "\n",
    "class ListaPrioritaria():\n",
    "    \n",
    "    def __init__(self):\n",
    "        self.diccionario = {}\n",
    "        \n",
    "    def __str__(self):\n",
    "        cadena = '['\n",
    "        inicial = True\n",
    "        for costo in self.diccionario:\n",
    "            elementos = self.diccionario[costo]\n",
    "            for elemento in elementos:\n",
    "                if inicial:\n",
    "                    cadena += '(' + str(elemento) + ',' + str(costo) + ')'\n",
    "                    inicial = False\n",
    "                else:\n",
    "                    cadena += ', (' + str(elemento) + ',' + str(costo) + ')'\n",
    "\n",
    "        return cadena + ']'\n",
    "    \n",
    "    def push(self, elemento, costo):\n",
    "        try:\n",
    "            self.diccionario[costo].append(elemento)\n",
    "        except:\n",
    "            self.diccionario[costo] = [elemento]\n",
    "            \n",
    "    def pop(self):\n",
    "        min_costo  = min(list(self.diccionario.keys()))\n",
    "        candidatos = self.diccionario[min_costo]\n",
    "        elemento   = candidatos.pop()\n",
    "        \n",
    "        if len(candidatos) == 0:\n",
    "            del self.diccionario[min_costo]\n",
    "        return elemento\n",
    "    \n",
    "    def is_empty(self):\n",
    "        return len(self.diccionario) == 0"
   ]
  },
  {
   "cell_type": "code",
   "execution_count": 9,
   "id": "5143be35",
   "metadata": {},
   "outputs": [],
   "source": [
    "def expand(problema, node):\n",
    "    \n",
    "    state = node.estado\n",
    "    nodes = []\n",
    "    \n",
    "    for action in problema.acciones_aplicables(state):\n",
    "        child = nodo_hijo(problema, node, action)\n",
    "        nodes.append(child)\n",
    "        \n",
    "    return nodes"
   ]
  },
  {
   "cell_type": "code",
   "execution_count": 10,
   "id": "56656aa6",
   "metadata": {},
   "outputs": [],
   "source": [
    "def costs(self, state, action):\n",
    "    \n",
    "    \"\"\"\n",
    "        INPUT:\n",
    "                action: tupla de la forma ('S', 'aSb'), por ejemplo.\n",
    "                \n",
    "        OUTPUT:\n",
    "                costo de tomar la acción (dependerá de que tan largo \n",
    "                sea el string, y esto lo hacemos para incentivar\n",
    "                que acabe rápido)\n",
    "    \"\"\"\n",
    "\n",
    "    return len(action[1])"
   ]
  },
  {
   "cell_type": "code",
   "execution_count": 11,
   "id": "d96ef43f",
   "metadata": {},
   "outputs": [],
   "source": [
    "from types import MethodType\n",
    "\n",
    "def best_first_search(problem, fun):\n",
    "    \n",
    "    #asigna la función \"fun\" como función de costo\n",
    "    problem.costo = MethodType(fun, problem)\n",
    "    \n",
    "    state = problem.estado_inicial\n",
    "    code  = problem.codigo(state)\n",
    "    node  = Nodo(estado = state,\n",
    "                 madre  = None,\n",
    "                 accion = None, \n",
    "                 costo_camino = 0,\n",
    "                 codigo = 'origin')\n",
    "    \n",
    "    # pongo primer elemento en la frontera\n",
    "    frontier = ListaPrioritaria()\n",
    "    frontier.push(elemento = node,\n",
    "                  costo    = 0)\n",
    "    \n",
    "    #explored dict\n",
    "    explored = {code: 0}\n",
    "    \n",
    "    while not frontier.is_empty():\n",
    "        \n",
    "        node = frontier.pop()\n",
    "        \n",
    "        if problem.test_objetivo(node.estado):\n",
    "            return node\n",
    "    \n",
    "        for child in expand(problem, node):\n",
    "                \n",
    "            state = child.estado\n",
    "            code  = problem.codigo(state)\n",
    "            \n",
    "            if len(child.codigo) > len(problem.w):\n",
    "                continue\n",
    "                \n",
    "            cost  = child.costo_camino\n",
    "            \n",
    "            if (code not in explored.keys()) or (cost < explored[code]):\n",
    "                frontier.push(child, cost)\n",
    "                explored[code]  = cost\n",
    "                \n",
    "    return \"falla\""
   ]
  },
  {
   "cell_type": "markdown",
   "id": "f39d7c57",
   "metadata": {},
   "source": [
    "## GREEDY SEARCH"
   ]
  },
  {
   "cell_type": "code",
   "execution_count": 12,
   "id": "d063abbf",
   "metadata": {},
   "outputs": [],
   "source": [
    "def error_function(state: str, obj: str) -> int:\n",
    "    \n",
    "    \"\"\"\n",
    "        Input:\n",
    "            state: String de la forma \"aaSbb\" o \"aabb\" por ejemplo.\n",
    "            \n",
    "        Output:\n",
    "            nuestra loca euristica (int)\n",
    "    \"\"\"\n",
    "\n",
    "    if len(obj) == len(state):\n",
    "        char_distance = sum([ 1 for l1, l2 in zip(list(obj), list(state))  if l1 != l2])**2\n",
    "    \n",
    "    else:\n",
    "        char_distance = len(obj)**2\n",
    "        \n",
    "    lenght_distance = ( (len(obj) - len(state))**2 )\n",
    "\n",
    "    return lenght_distance + char_distance"
   ]
  },
  {
   "cell_type": "code",
   "execution_count": 13,
   "id": "ec6c71e4",
   "metadata": {},
   "outputs": [],
   "source": [
    "def greedy_search(problema, f):\n",
    "    \n",
    "    state = problema.estado_inicial\n",
    "    node  = Nodo(estado = state, \n",
    "                 madre  = None, \n",
    "                 accion = None,\n",
    "                 costo_camino = 0, \n",
    "                 codigo = \"orgin\")\n",
    "    \n",
    "    cost = f(problema.codigo(state), problema.w)\n",
    "    \n",
    "    frontier = ListaPrioritaria()\n",
    "    frontier.push(node, cost)\n",
    "    \n",
    "    code = problema.codigo(state)\n",
    "    explored = [code]\n",
    "    \n",
    "    while not frontier.is_empty():\n",
    "        node = frontier.pop()\n",
    "\n",
    "        if problema.test_objetivo(node.estado):\n",
    "            return node\n",
    "        \n",
    "        for child in expand(problema, node):\n",
    "\n",
    "            state = child.estado\n",
    "            code  = problema.codigo(state)\n",
    "            \n",
    "            if len(code) > len(problema.w):\n",
    "                continue\n",
    "\n",
    "            if code not in explored:\n",
    "                cost  = f(problema.codigo(state), problema.w)\n",
    "                frontier.push(child, cost)\n",
    "                explored.append(code)\n",
    "    \n",
    "    return None"
   ]
  },
  {
   "cell_type": "code",
   "execution_count": null,
   "id": "da5572df",
   "metadata": {},
   "outputs": [],
   "source": []
  },
  {
   "cell_type": "markdown",
   "id": "5f1a0b79",
   "metadata": {},
   "source": [
    "## PRUEBAS"
   ]
  },
  {
   "cell_type": "code",
   "execution_count": 14,
   "id": "d901030a",
   "metadata": {},
   "outputs": [
    {
     "name": "stdout",
     "output_type": "stream",
     "text": [
      "The autoreload extension is already loaded. To reload it, use:\n",
      "  %reload_ext autoreload\n"
     ]
    }
   ],
   "source": [
    "%load_ext autoreload\n",
    "%autoreload 2\n",
    "from example_grammars import ExampleGrammars"
   ]
  },
  {
   "cell_type": "code",
   "execution_count": 15,
   "id": "55dd201a",
   "metadata": {},
   "outputs": [
    {
     "name": "stdout",
     "output_type": "stream",
     "text": [
      "aaaaaaaaaaaaaaaaaaaaaaaaaaaaaaaaaaaaaaaabbbbbbbbbbbbbbbbbbbbbbbbbbbbbbbbbbbbbbbb 80\n"
     ]
    }
   ],
   "source": [
    "e = ExampleGrammars()\n",
    "\n",
    "grammar_n = 4\n",
    "gramatica = e.get_grammar(grammar_num = grammar_n)\n",
    "\n",
    "w = e.generate_word(grammar_num = grammar_n,\n",
    "                    word_interval_len = (50, 100))\n",
    "prob = Parser(gramatica, w)\n",
    "print(w, len(w))"
   ]
  },
  {
   "cell_type": "code",
   "execution_count": null,
   "id": "e3de4288",
   "metadata": {},
   "outputs": [],
   "source": []
  },
  {
   "cell_type": "code",
   "execution_count": 16,
   "id": "4f9cc104",
   "metadata": {},
   "outputs": [
    {
     "data": {
      "text/plain": [
       "<busqueda.Nodo at 0x7f2adcec5130>"
      ]
     },
     "execution_count": 16,
     "metadata": {},
     "output_type": "execute_result"
    }
   ],
   "source": [
    "ans = best_first_search(problem = prob, fun = costs)\n",
    "ans"
   ]
  },
  {
   "cell_type": "code",
   "execution_count": 17,
   "id": "55faf65b",
   "metadata": {
    "collapsed": true
   },
   "outputs": [
    {
     "name": "stdout",
     "output_type": "stream",
     "text": [
      "                                                                                                                                                             S                                                                                                                                                                     \n",
      "  ___________________________________________________________________________________________________________________________________________________________|___                                                                                                                                                                   \n",
      " |   |                                                                                                                                                           S                                                                                                                                                                 \n",
      " |   |    _______________________________________________________________________________________________________________________________________________________|___                                                                                                                                                               \n",
      " |   |   |   |                                                                                                                                                       S                                                                                                                                                             \n",
      " |   |   |   |    ___________________________________________________________________________________________________________________________________________________|___                                                                                                                                                           \n",
      " |   |   |   |   |   |                                                                                                                                                   S                                                                                                                                                         \n",
      " |   |   |   |   |   |    _______________________________________________________________________________________________________________________________________________|___                                                                                                                                                       \n",
      " |   |   |   |   |   |   |   |                                                                                                                                               S                                                                                                                                                     \n",
      " |   |   |   |   |   |   |   |    ___________________________________________________________________________________________________________________________________________|___                                                                                                                                                   \n",
      " |   |   |   |   |   |   |   |   |   |                                                                                                                                           S                                                                                                                                                 \n",
      " |   |   |   |   |   |   |   |   |   |    _______________________________________________________________________________________________________________________________________|___                                                                                                                                               \n",
      " |   |   |   |   |   |   |   |   |   |   |   |                                                                                                                                       S                                                                                                                                             \n",
      " |   |   |   |   |   |   |   |   |   |   |   |    ___________________________________________________________________________________________________________________________________|___                                                                                                                                           \n",
      " |   |   |   |   |   |   |   |   |   |   |   |   |   |                                                                                                                                   S                                                                                                                                         \n",
      " |   |   |   |   |   |   |   |   |   |   |   |   |   |    _______________________________________________________________________________________________________________________________|___                                                                                                                                       \n",
      " |   |   |   |   |   |   |   |   |   |   |   |   |   |   |   |                                                                                                                               S                                                                                                                                     \n",
      " |   |   |   |   |   |   |   |   |   |   |   |   |   |   |   |    ___________________________________________________________________________________________________________________________|___                                                                                                                                   \n",
      " |   |   |   |   |   |   |   |   |   |   |   |   |   |   |   |   |   |                                                                                                                           S                                                                                                                                 \n",
      " |   |   |   |   |   |   |   |   |   |   |   |   |   |   |   |   |   |    _______________________________________________________________________________________________________________________|___                                                                                                                               \n",
      " |   |   |   |   |   |   |   |   |   |   |   |   |   |   |   |   |   |   |   |                                                                                                                       S                                                                                                                             \n",
      " |   |   |   |   |   |   |   |   |   |   |   |   |   |   |   |   |   |   |   |    ___________________________________________________________________________________________________________________|___                                                                                                                           \n",
      " |   |   |   |   |   |   |   |   |   |   |   |   |   |   |   |   |   |   |   |   |   |                                                                                                                   S                                                                                                                         \n",
      " |   |   |   |   |   |   |   |   |   |   |   |   |   |   |   |   |   |   |   |   |   |    _______________________________________________________________________________________________________________|___                                                                                                                       \n",
      " |   |   |   |   |   |   |   |   |   |   |   |   |   |   |   |   |   |   |   |   |   |   |   |                                                                                                               S                                                                                                                     \n",
      " |   |   |   |   |   |   |   |   |   |   |   |   |   |   |   |   |   |   |   |   |   |   |   |    ___________________________________________________________________________________________________________|___                                                                                                                   \n",
      " |   |   |   |   |   |   |   |   |   |   |   |   |   |   |   |   |   |   |   |   |   |   |   |   |   |                                                                                                           S                                                                                                                 \n",
      " |   |   |   |   |   |   |   |   |   |   |   |   |   |   |   |   |   |   |   |   |   |   |   |   |   |    _______________________________________________________________________________________________________|___                                                                                                               \n",
      " |   |   |   |   |   |   |   |   |   |   |   |   |   |   |   |   |   |   |   |   |   |   |   |   |   |   |   |                                                                                                       S                                                                                                             \n",
      " |   |   |   |   |   |   |   |   |   |   |   |   |   |   |   |   |   |   |   |   |   |   |   |   |   |   |   |    ___________________________________________________________________________________________________|___                                                                                                           \n",
      " |   |   |   |   |   |   |   |   |   |   |   |   |   |   |   |   |   |   |   |   |   |   |   |   |   |   |   |   |   |                                                                                                   S                                                                                                         \n",
      " |   |   |   |   |   |   |   |   |   |   |   |   |   |   |   |   |   |   |   |   |   |   |   |   |   |   |   |   |   |    _______________________________________________________________________________________________|___                                                                                                       \n",
      " |   |   |   |   |   |   |   |   |   |   |   |   |   |   |   |   |   |   |   |   |   |   |   |   |   |   |   |   |   |   |   |                                                                                               S                                                                                                     \n",
      " |   |   |   |   |   |   |   |   |   |   |   |   |   |   |   |   |   |   |   |   |   |   |   |   |   |   |   |   |   |   |   |    ___________________________________________________________________________________________|___                                                                                                   \n",
      " |   |   |   |   |   |   |   |   |   |   |   |   |   |   |   |   |   |   |   |   |   |   |   |   |   |   |   |   |   |   |   |   |   |                                                                                           S                                                                                                 \n",
      " |   |   |   |   |   |   |   |   |   |   |   |   |   |   |   |   |   |   |   |   |   |   |   |   |   |   |   |   |   |   |   |   |   |    _______________________________________________________________________________________|___                                                                                               \n",
      " |   |   |   |   |   |   |   |   |   |   |   |   |   |   |   |   |   |   |   |   |   |   |   |   |   |   |   |   |   |   |   |   |   |   |   |                                                                                       S                                                                                             \n",
      " |   |   |   |   |   |   |   |   |   |   |   |   |   |   |   |   |   |   |   |   |   |   |   |   |   |   |   |   |   |   |   |   |   |   |   |    ___________________________________________________________________________________|___                                                                                           \n",
      " |   |   |   |   |   |   |   |   |   |   |   |   |   |   |   |   |   |   |   |   |   |   |   |   |   |   |   |   |   |   |   |   |   |   |   |   |   |                                                                                   S                                                                                         \n",
      " |   |   |   |   |   |   |   |   |   |   |   |   |   |   |   |   |   |   |   |   |   |   |   |   |   |   |   |   |   |   |   |   |   |   |   |   |   |    _______________________________________________________________________________|___                                                                                       \n",
      " |   |   |   |   |   |   |   |   |   |   |   |   |   |   |   |   |   |   |   |   |   |   |   |   |   |   |   |   |   |   |   |   |   |   |   |   |   |   |   |                                                                               S                                                                                     \n",
      " |   |   |   |   |   |   |   |   |   |   |   |   |   |   |   |   |   |   |   |   |   |   |   |   |   |   |   |   |   |   |   |   |   |   |   |   |   |   |   |    ___________________________________________________________________________|___                                                                                   \n",
      " |   |   |   |   |   |   |   |   |   |   |   |   |   |   |   |   |   |   |   |   |   |   |   |   |   |   |   |   |   |   |   |   |   |   |   |   |   |   |   |   |   |                                                                           S                                                                                 \n",
      " |   |   |   |   |   |   |   |   |   |   |   |   |   |   |   |   |   |   |   |   |   |   |   |   |   |   |   |   |   |   |   |   |   |   |   |   |   |   |   |   |   |    _______________________________________________________________________|___                                                                               \n",
      " |   |   |   |   |   |   |   |   |   |   |   |   |   |   |   |   |   |   |   |   |   |   |   |   |   |   |   |   |   |   |   |   |   |   |   |   |   |   |   |   |   |   |   |                                                                       S                                                                             \n",
      " |   |   |   |   |   |   |   |   |   |   |   |   |   |   |   |   |   |   |   |   |   |   |   |   |   |   |   |   |   |   |   |   |   |   |   |   |   |   |   |   |   |   |   |    ___________________________________________________________________|___                                                                           \n",
      " |   |   |   |   |   |   |   |   |   |   |   |   |   |   |   |   |   |   |   |   |   |   |   |   |   |   |   |   |   |   |   |   |   |   |   |   |   |   |   |   |   |   |   |   |   |                                                                   S                                                                         \n",
      " |   |   |   |   |   |   |   |   |   |   |   |   |   |   |   |   |   |   |   |   |   |   |   |   |   |   |   |   |   |   |   |   |   |   |   |   |   |   |   |   |   |   |   |   |   |    _______________________________________________________________|___                                                                       \n",
      " |   |   |   |   |   |   |   |   |   |   |   |   |   |   |   |   |   |   |   |   |   |   |   |   |   |   |   |   |   |   |   |   |   |   |   |   |   |   |   |   |   |   |   |   |   |   |   |                                                               S                                                                     \n",
      " |   |   |   |   |   |   |   |   |   |   |   |   |   |   |   |   |   |   |   |   |   |   |   |   |   |   |   |   |   |   |   |   |   |   |   |   |   |   |   |   |   |   |   |   |   |   |   |    ___________________________________________________________|___                                                                   \n",
      " |   |   |   |   |   |   |   |   |   |   |   |   |   |   |   |   |   |   |   |   |   |   |   |   |   |   |   |   |   |   |   |   |   |   |   |   |   |   |   |   |   |   |   |   |   |   |   |   |   |                                                           S                                                                 \n",
      " |   |   |   |   |   |   |   |   |   |   |   |   |   |   |   |   |   |   |   |   |   |   |   |   |   |   |   |   |   |   |   |   |   |   |   |   |   |   |   |   |   |   |   |   |   |   |   |   |   |    _______________________________________________________|___                                                               \n",
      " |   |   |   |   |   |   |   |   |   |   |   |   |   |   |   |   |   |   |   |   |   |   |   |   |   |   |   |   |   |   |   |   |   |   |   |   |   |   |   |   |   |   |   |   |   |   |   |   |   |   |   |                                                       S                                                             \n",
      " |   |   |   |   |   |   |   |   |   |   |   |   |   |   |   |   |   |   |   |   |   |   |   |   |   |   |   |   |   |   |   |   |   |   |   |   |   |   |   |   |   |   |   |   |   |   |   |   |   |   |   |    ___________________________________________________|___                                                           \n",
      " |   |   |   |   |   |   |   |   |   |   |   |   |   |   |   |   |   |   |   |   |   |   |   |   |   |   |   |   |   |   |   |   |   |   |   |   |   |   |   |   |   |   |   |   |   |   |   |   |   |   |   |   |   |                                                   S                                                         \n",
      " |   |   |   |   |   |   |   |   |   |   |   |   |   |   |   |   |   |   |   |   |   |   |   |   |   |   |   |   |   |   |   |   |   |   |   |   |   |   |   |   |   |   |   |   |   |   |   |   |   |   |   |   |   |    _______________________________________________|___                                                       \n",
      " |   |   |   |   |   |   |   |   |   |   |   |   |   |   |   |   |   |   |   |   |   |   |   |   |   |   |   |   |   |   |   |   |   |   |   |   |   |   |   |   |   |   |   |   |   |   |   |   |   |   |   |   |   |   |   |                                               S                                                     \n",
      " |   |   |   |   |   |   |   |   |   |   |   |   |   |   |   |   |   |   |   |   |   |   |   |   |   |   |   |   |   |   |   |   |   |   |   |   |   |   |   |   |   |   |   |   |   |   |   |   |   |   |   |   |   |   |   |    ___________________________________________|___                                                   \n",
      " |   |   |   |   |   |   |   |   |   |   |   |   |   |   |   |   |   |   |   |   |   |   |   |   |   |   |   |   |   |   |   |   |   |   |   |   |   |   |   |   |   |   |   |   |   |   |   |   |   |   |   |   |   |   |   |   |   |                                           S                                                 \n",
      " |   |   |   |   |   |   |   |   |   |   |   |   |   |   |   |   |   |   |   |   |   |   |   |   |   |   |   |   |   |   |   |   |   |   |   |   |   |   |   |   |   |   |   |   |   |   |   |   |   |   |   |   |   |   |   |   |   |    _______________________________________|___                                               \n",
      " |   |   |   |   |   |   |   |   |   |   |   |   |   |   |   |   |   |   |   |   |   |   |   |   |   |   |   |   |   |   |   |   |   |   |   |   |   |   |   |   |   |   |   |   |   |   |   |   |   |   |   |   |   |   |   |   |   |   |   |                                       S                                             \n",
      " |   |   |   |   |   |   |   |   |   |   |   |   |   |   |   |   |   |   |   |   |   |   |   |   |   |   |   |   |   |   |   |   |   |   |   |   |   |   |   |   |   |   |   |   |   |   |   |   |   |   |   |   |   |   |   |   |   |   |   |    ___________________________________|___                                           \n",
      " |   |   |   |   |   |   |   |   |   |   |   |   |   |   |   |   |   |   |   |   |   |   |   |   |   |   |   |   |   |   |   |   |   |   |   |   |   |   |   |   |   |   |   |   |   |   |   |   |   |   |   |   |   |   |   |   |   |   |   |   |   |                                   S                                         \n",
      " |   |   |   |   |   |   |   |   |   |   |   |   |   |   |   |   |   |   |   |   |   |   |   |   |   |   |   |   |   |   |   |   |   |   |   |   |   |   |   |   |   |   |   |   |   |   |   |   |   |   |   |   |   |   |   |   |   |   |   |   |   |    _______________________________|___                                       \n",
      " |   |   |   |   |   |   |   |   |   |   |   |   |   |   |   |   |   |   |   |   |   |   |   |   |   |   |   |   |   |   |   |   |   |   |   |   |   |   |   |   |   |   |   |   |   |   |   |   |   |   |   |   |   |   |   |   |   |   |   |   |   |   |   |                               S                                     \n",
      " |   |   |   |   |   |   |   |   |   |   |   |   |   |   |   |   |   |   |   |   |   |   |   |   |   |   |   |   |   |   |   |   |   |   |   |   |   |   |   |   |   |   |   |   |   |   |   |   |   |   |   |   |   |   |   |   |   |   |   |   |   |   |   |    ___________________________|___                                   \n",
      " |   |   |   |   |   |   |   |   |   |   |   |   |   |   |   |   |   |   |   |   |   |   |   |   |   |   |   |   |   |   |   |   |   |   |   |   |   |   |   |   |   |   |   |   |   |   |   |   |   |   |   |   |   |   |   |   |   |   |   |   |   |   |   |   |   |                           S                                 \n",
      " |   |   |   |   |   |   |   |   |   |   |   |   |   |   |   |   |   |   |   |   |   |   |   |   |   |   |   |   |   |   |   |   |   |   |   |   |   |   |   |   |   |   |   |   |   |   |   |   |   |   |   |   |   |   |   |   |   |   |   |   |   |   |   |   |   |    _______________________|___                               \n",
      " |   |   |   |   |   |   |   |   |   |   |   |   |   |   |   |   |   |   |   |   |   |   |   |   |   |   |   |   |   |   |   |   |   |   |   |   |   |   |   |   |   |   |   |   |   |   |   |   |   |   |   |   |   |   |   |   |   |   |   |   |   |   |   |   |   |   |   |                       S                             \n",
      " |   |   |   |   |   |   |   |   |   |   |   |   |   |   |   |   |   |   |   |   |   |   |   |   |   |   |   |   |   |   |   |   |   |   |   |   |   |   |   |   |   |   |   |   |   |   |   |   |   |   |   |   |   |   |   |   |   |   |   |   |   |   |   |   |   |   |   |    ___________________|___                           \n",
      " |   |   |   |   |   |   |   |   |   |   |   |   |   |   |   |   |   |   |   |   |   |   |   |   |   |   |   |   |   |   |   |   |   |   |   |   |   |   |   |   |   |   |   |   |   |   |   |   |   |   |   |   |   |   |   |   |   |   |   |   |   |   |   |   |   |   |   |   |   |                   S                         \n",
      " |   |   |   |   |   |   |   |   |   |   |   |   |   |   |   |   |   |   |   |   |   |   |   |   |   |   |   |   |   |   |   |   |   |   |   |   |   |   |   |   |   |   |   |   |   |   |   |   |   |   |   |   |   |   |   |   |   |   |   |   |   |   |   |   |   |   |   |   |   |    _______________|___                       \n",
      " |   |   |   |   |   |   |   |   |   |   |   |   |   |   |   |   |   |   |   |   |   |   |   |   |   |   |   |   |   |   |   |   |   |   |   |   |   |   |   |   |   |   |   |   |   |   |   |   |   |   |   |   |   |   |   |   |   |   |   |   |   |   |   |   |   |   |   |   |   |   |   |               S                     \n",
      " |   |   |   |   |   |   |   |   |   |   |   |   |   |   |   |   |   |   |   |   |   |   |   |   |   |   |   |   |   |   |   |   |   |   |   |   |   |   |   |   |   |   |   |   |   |   |   |   |   |   |   |   |   |   |   |   |   |   |   |   |   |   |   |   |   |   |   |   |   |   |   |    ___________|___                   \n",
      " |   |   |   |   |   |   |   |   |   |   |   |   |   |   |   |   |   |   |   |   |   |   |   |   |   |   |   |   |   |   |   |   |   |   |   |   |   |   |   |   |   |   |   |   |   |   |   |   |   |   |   |   |   |   |   |   |   |   |   |   |   |   |   |   |   |   |   |   |   |   |   |   |   |           S                 \n",
      " |   |   |   |   |   |   |   |   |   |   |   |   |   |   |   |   |   |   |   |   |   |   |   |   |   |   |   |   |   |   |   |   |   |   |   |   |   |   |   |   |   |   |   |   |   |   |   |   |   |   |   |   |   |   |   |   |   |   |   |   |   |   |   |   |   |   |   |   |   |   |   |   |   |    _______|___               \n",
      " |   |   |   |   |   |   |   |   |   |   |   |   |   |   |   |   |   |   |   |   |   |   |   |   |   |   |   |   |   |   |   |   |   |   |   |   |   |   |   |   |   |   |   |   |   |   |   |   |   |   |   |   |   |   |   |   |   |   |   |   |   |   |   |   |   |   |   |   |   |   |   |   |   |   |   |       S             \n",
      " |   |   |   |   |   |   |   |   |   |   |   |   |   |   |   |   |   |   |   |   |   |   |   |   |   |   |   |   |   |   |   |   |   |   |   |   |   |   |   |   |   |   |   |   |   |   |   |   |   |   |   |   |   |   |   |   |   |   |   |   |   |   |   |   |   |   |   |   |   |   |   |   |   |   |   |    ___|_______       \n",
      " |   |   |   |   |   |   |   |   |   |   |   |   |   |   |   |   |   |   |   |   |   |   |   |   |   |   |   |   |   |   |   |   |   |   |   |   |   |   |   |   |   |   |   |   |   |   |   |   |   |   |   |   |   |   |   |   |   |   |   |   |   |   |   |   |   |   |   |   |   |   |   |   |   |   |   |   |   |       S     \n",
      " |   |   |   |   |   |   |   |   |   |   |   |   |   |   |   |   |   |   |   |   |   |   |   |   |   |   |   |   |   |   |   |   |   |   |   |   |   |   |   |   |   |   |   |   |   |   |   |   |   |   |   |   |   |   |   |   |   |   |   |   |   |   |   |   |   |   |   |   |   |   |   |   |   |   |   |   |   |    ___|___   \n",
      " |   |   |   |   |   |   |   |   |   |   |   |   |   |   |   |   |   |   |   |   |   |   |   |   |   |   |   |   |   |   |   |   |   |   |   |   |   |   |   |   |   |   |   |   |   |   |   |   |   |   |   |   |   |   |   |   |   |   |   |   |   |   |   |   |   |   |   |   |   |   |   |   |   |   |   |   |   |   A       B \n",
      " |   |   |   |   |   |   |   |   |   |   |   |   |   |   |   |   |   |   |   |   |   |   |   |   |   |   |   |   |   |   |   |   |   |   |   |   |   |   |   |   |   |   |   |   |   |   |   |   |   |   |   |   |   |   |   |   |   |   |   |   |   |   |   |   |   |   |   |   |   |   |   |   |   |   |   |   |   |   |       |  \n",
      " a   b   a   b   a   b   a   b   a   b   a   b   a   b   a   b   a   b   a   b   a   b   a   b   a   b   a   b   a   b   a   b   a   b   a   b   a   b   a   b   a   b   a   b   a   b   a   b   a   b   a   b   a   b   a   b   a   b   a   b   a   b   a   b   a   b   a   b   a   b   a   b   a   b   a   b   a   b   a       b \n",
      "\n"
     ]
    }
   ],
   "source": [
    "prob.pintar_estado(ans.estado)"
   ]
  },
  {
   "cell_type": "code",
   "execution_count": 18,
   "id": "18d45081",
   "metadata": {},
   "outputs": [
    {
     "data": {
      "text/plain": [
       "<busqueda.Nodo at 0x7f2adb48c850>"
      ]
     },
     "execution_count": 18,
     "metadata": {},
     "output_type": "execute_result"
    }
   ],
   "source": [
    "ans = breadth_first_search(prob  = prob)\n",
    "ans"
   ]
  },
  {
   "cell_type": "code",
   "execution_count": 19,
   "id": "bc7aac6c",
   "metadata": {},
   "outputs": [
    {
     "data": {
      "text/plain": [
       "<busqueda.Nodo at 0x7f2adb495f10>"
      ]
     },
     "execution_count": 19,
     "metadata": {},
     "output_type": "execute_result"
    }
   ],
   "source": [
    "ans = depth_limited_search(prob = prob, l = len(w)*1)\n",
    "ans"
   ]
  },
  {
   "cell_type": "code",
   "execution_count": 20,
   "id": "edf556cf",
   "metadata": {},
   "outputs": [
    {
     "data": {
      "text/plain": [
       "<busqueda.Nodo at 0x7f2adb354400>"
      ]
     },
     "execution_count": 20,
     "metadata": {},
     "output_type": "execute_result"
    }
   ],
   "source": [
    "ans = greedy_search(prob, error_function)\n",
    "ans"
   ]
  },
  {
   "cell_type": "code",
   "execution_count": null,
   "id": "0b72f945",
   "metadata": {},
   "outputs": [],
   "source": []
  },
  {
   "cell_type": "markdown",
   "id": "1a7088bd",
   "metadata": {},
   "source": [
    "## GRÁFICAS"
   ]
  },
  {
   "cell_type": "code",
   "execution_count": 22,
   "id": "5c58480d",
   "metadata": {},
   "outputs": [
    {
     "name": "stdout",
     "output_type": "stream",
     "text": [
      "The autoreload extension is already loaded. To reload it, use:\n",
      "  %reload_ext autoreload\n"
     ]
    }
   ],
   "source": [
    "%load_ext autoreload\n",
    "%autoreload 2\n",
    "from example_grammars import ExampleGrammars\n",
    "from tiempos import *\n",
    "from random import sample\n",
    "import warnings\n",
    "warnings.filterwarnings('ignore')"
   ]
  },
  {
   "cell_type": "code",
   "execution_count": null,
   "id": "b66c5a24",
   "metadata": {},
   "outputs": [],
   "source": [
    "e = ExampleGrammars()\n",
    "\n",
    "funs = [\n",
    "        lambda x: best_first_search(x, costs),\n",
    "        lambda x: greedy_search(x, error_function),\n",
    "        lambda x: depth_limited_search(x, len(x.w)),\n",
    "        lambda x: breadth_first_search(x)\n",
    "       ]\n",
    "\n",
    "nombres = [\n",
    "            'Best friend', \n",
    "            'Greedy friend',\n",
    "            'Depth search',\n",
    "            'Breadth search'\n",
    "          ]\n",
    "\n",
    "word_interval_len = (50, 100)\n",
    "n_times = 5\n",
    "args = []\n",
    "\n",
    "for i in range(n_times):\n",
    "\n",
    "    grammar_n = choice((1, 2, 3, 4))\n",
    "    \n",
    "    grammar = e.get_grammar(grammar_num = grammar_n)\n",
    "    w = e.generate_word(grammar_num = grammar_n,\n",
    "                        word_interval_len = word_interval_len)\n",
    "    \n",
    "    args.append(Parser(grammar, w))\n",
    "\n",
    "data = compara_funciones_sobreargumentos(funs=funs, args=args, nombres=nombres)\n",
    "\n",
    "# Graficando\n",
    "fig, ax = plt.subplots(1,1, figsize=(3*len(funs),3), tight_layout=True)\n",
    "sns.boxplot(data=data, x='Función', y='Tiempo')\n",
    "sns.swarmplot(data=data, x='Función', y='Tiempo', color='black', alpha = 0.5, ax=ax);\n",
    "\n",
    "# Anova diferencia de medias\n",
    "model = ols('Tiempo ~ C(Función)', data=data).fit()\n",
    "anova_table = sm.stats.anova_lm(model, typ=2)\n",
    "print(anova_table)"
   ]
  },
  {
   "cell_type": "code",
   "execution_count": null,
   "id": "d1de2b2c",
   "metadata": {},
   "outputs": [],
   "source": []
  }
 ],
 "metadata": {
  "kernelspec": {
   "display_name": "Python 3 (ipykernel)",
   "language": "python",
   "name": "python3"
  },
  "language_info": {
   "codemirror_mode": {
    "name": "ipython",
    "version": 3
   },
   "file_extension": ".py",
   "mimetype": "text/x-python",
   "name": "python",
   "nbconvert_exporter": "python",
   "pygments_lexer": "ipython3",
   "version": "3.9.12"
  }
 },
 "nbformat": 4,
 "nbformat_minor": 5
}
