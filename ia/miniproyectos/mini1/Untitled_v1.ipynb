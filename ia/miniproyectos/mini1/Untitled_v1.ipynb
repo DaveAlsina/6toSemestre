{
 "cells": [
  {
   "cell_type": "code",
   "execution_count": null,
   "id": "30a4a8a9",
   "metadata": {},
   "outputs": [],
   "source": [
    "%load_ext autoreload\n",
    "%autoreload 2\n",
    "import matplotlib as mpl\n",
    "from AmbientesMP import *\n",
    "from random import choice\n",
    "from busqueda import Nodo , nodo_hijo\n",
    "\n",
    "mpl.rcParams['figure.dpi'] = 300"
   ]
  },
  {
   "cell_type": "markdown",
   "id": "c22804ea",
   "metadata": {},
   "source": [
    "## BREAD FIRST SEARCH"
   ]
  },
  {
   "cell_type": "code",
   "execution_count": 2,
   "id": "d9506fe8",
   "metadata": {},
   "outputs": [],
   "source": [
    "def breadth_first_search(prob):\n",
    "    \n",
    "    node = Nodo(estado = prob.estado_inicial,\n",
    "                madre  = None, \n",
    "                accion = None, \n",
    "                costo_camino = 0, \n",
    "                codigo = \"origin\")\n",
    "    \n",
    "    if prob.test_objetivo(node.estado):\n",
    "        return node\n",
    "    \n",
    "    frontier = [node]\n",
    "    explored = []  \n",
    "    \n",
    "        \n",
    "    while len(frontier) > 0:\n",
    "        node = frontier.pop(0)\n",
    "        explored.append(node.codigo)\n",
    "        \n",
    "        for action in prob.acciones_aplicables(node.estado):\n",
    "            child = nodo_hijo(prob, node, action)\n",
    "            \n",
    "            if prob.test_objetivo(child.estado):\n",
    "                return child\n",
    "            if child.codigo not in explored:\n",
    "                frontier.append(child)\n",
    "\n",
    "            \n",
    "    return False"
   ]
  },
  {
   "cell_type": "markdown",
   "id": "0defd905",
   "metadata": {},
   "source": [
    "## DEPTH LIMITED SEARCH"
   ]
  },
  {
   "cell_type": "code",
   "execution_count": 3,
   "id": "2f97d9af",
   "metadata": {},
   "outputs": [],
   "source": [
    "def get_codes(node: Nodo):\n",
    "    \n",
    "    if node.madre == None:\n",
    "        return [node.codigo]\n",
    "    \n",
    "    return  [] + [node.codigo] + get_codes(node.madre)"
   ]
  },
  {
   "cell_type": "code",
   "execution_count": 4,
   "id": "eb87774c",
   "metadata": {},
   "outputs": [],
   "source": [
    "def is_cycle(node: Nodo):\n",
    "    \n",
    "    return len( set(get_codes(node)) ) != len(get_codes(node))"
   ]
  },
  {
   "cell_type": "code",
   "execution_count": 5,
   "id": "f140b52f",
   "metadata": {},
   "outputs": [],
   "source": [
    "def expand(problema, node):\n",
    "    \n",
    "    state = node.estado\n",
    "    nodes = []\n",
    "    \n",
    "    for action in problema.acciones_aplicables(state):\n",
    "        child = nodo_hijo(problema, node, action)\n",
    "        nodes.append(child)\n",
    "        \n",
    "    return nodes"
   ]
  },
  {
   "cell_type": "code",
   "execution_count": 6,
   "id": "7c773a1d",
   "metadata": {},
   "outputs": [],
   "source": [
    "def depth_(node):\n",
    "    \n",
    "    if node.madre == None:\n",
    "        return 0\n",
    "    \n",
    "    return 1 + depth_(node.madre) "
   ]
  },
  {
   "cell_type": "code",
   "execution_count": 7,
   "id": "384aa5d5",
   "metadata": {},
   "outputs": [],
   "source": [
    "def depth_limited_search(prob, l):\n",
    "    \n",
    "    node = Nodo(estado = prob.estado_inicial,\n",
    "                madre  = None,\n",
    "                accion = None, \n",
    "                costo_camino = 0,\n",
    "                codigo = 'origin')\n",
    "    \n",
    "    frontier  = [node]\n",
    "    result = \"falla\"\n",
    "    \n",
    "    while len(frontier) > 0:\n",
    "        \n",
    "        node = frontier.pop()\n",
    "        \n",
    "        if prob.test_objetivo(node.estado):\n",
    "            return node\n",
    "        \n",
    "        if depth_(node) >= l:\n",
    "            continue\n",
    "            #return \"cutoff\"\n",
    "        \n",
    "        elif not is_cycle(node):\n",
    "            \n",
    "            for child in expand(prob, node):\n",
    "                frontier.append(child)\n",
    "                \n",
    "    return result"
   ]
  },
  {
   "cell_type": "markdown",
   "id": "962ccd67",
   "metadata": {},
   "source": [
    "## BEST FIRST SEARCH"
   ]
  },
  {
   "cell_type": "code",
   "execution_count": 8,
   "id": "f85b7144",
   "metadata": {},
   "outputs": [],
   "source": [
    "import numpy as np\n",
    "\n",
    "class ListaPrioritaria():\n",
    "    \n",
    "    def __init__(self):\n",
    "        self.diccionario = {}\n",
    "        \n",
    "    def __str__(self):\n",
    "        cadena = '['\n",
    "        inicial = True\n",
    "        for costo in self.diccionario:\n",
    "            elementos = self.diccionario[costo]\n",
    "            for elemento in elementos:\n",
    "                if inicial:\n",
    "                    cadena += '(' + str(elemento) + ',' + str(costo) + ')'\n",
    "                    inicial = False\n",
    "                else:\n",
    "                    cadena += ', (' + str(elemento) + ',' + str(costo) + ')'\n",
    "\n",
    "        return cadena + ']'\n",
    "    \n",
    "    def push(self, elemento, costo):\n",
    "        try:\n",
    "            self.diccionario[costo].append(elemento)\n",
    "        except:\n",
    "            self.diccionario[costo] = [elemento]\n",
    "            \n",
    "    def pop(self):\n",
    "        min_costo  = min(list(self.diccionario.keys()))\n",
    "        candidatos = self.diccionario[min_costo]\n",
    "        elemento   = candidatos.pop()\n",
    "        \n",
    "        if len(candidatos) == 0:\n",
    "            del self.diccionario[min_costo]\n",
    "        return elemento\n",
    "    \n",
    "    def is_empty(self):\n",
    "        return len(self.diccionario) == 0"
   ]
  },
  {
   "cell_type": "code",
   "execution_count": 9,
   "id": "5143be35",
   "metadata": {},
   "outputs": [],
   "source": [
    "def expand(problema, node):\n",
    "    \n",
    "    state = node.estado\n",
    "    nodes = []\n",
    "    \n",
    "    for action in problema.acciones_aplicables(state):\n",
    "        child = nodo_hijo(problema, node, action)\n",
    "        nodes.append(child)\n",
    "        \n",
    "    return nodes"
   ]
  },
  {
   "cell_type": "code",
   "execution_count": 10,
   "id": "56656aa6",
   "metadata": {},
   "outputs": [],
   "source": [
    "def costs(self, state, action):\n",
    "    \n",
    "    \"\"\"\n",
    "        INPUT:\n",
    "                action: tupla de la forma ('S', 'aSb'), por ejemplo.\n",
    "                \n",
    "        OUTPUT:\n",
    "                costo de tomar la acción (dependerá de que tan largo \n",
    "                sea el string, y esto lo hacemos para incentivar\n",
    "                que acabe rápido)\n",
    "    \"\"\"\n",
    "\n",
    "    return len(action[1])"
   ]
  },
  {
   "cell_type": "code",
   "execution_count": 11,
   "id": "d96ef43f",
   "metadata": {},
   "outputs": [],
   "source": [
    "from types import MethodType\n",
    "\n",
    "def best_first_search(problem, fun):\n",
    "    \n",
    "    #asigna la función \"fun\" como función de costo\n",
    "    problem.costo = MethodType(fun, problem)\n",
    "    \n",
    "    state = problem.estado_inicial\n",
    "    code  = problem.codigo(state)\n",
    "    node  = Nodo(estado = state,\n",
    "                 madre  = None,\n",
    "                 accion = None, \n",
    "                 costo_camino = 0,\n",
    "                 codigo = 'origin')\n",
    "    \n",
    "    # pongo primer elemento en la frontera\n",
    "    frontier = ListaPrioritaria()\n",
    "    frontier.push(elemento = node,\n",
    "                  costo    = 0)\n",
    "    \n",
    "    #explored dict\n",
    "    explored = {}\n",
    "    explored[code] = 0\n",
    "    \n",
    "    while not frontier.is_empty():\n",
    "        \n",
    "        node = frontier.pop()\n",
    "        \n",
    "        if problem.test_objetivo(node.estado):\n",
    "            return node\n",
    "    \n",
    "        for child in expand(problem, node):\n",
    "                \n",
    "            state = child.estado\n",
    "            code  = problem.codigo(state)\n",
    "            cost  = child.costo_camino\n",
    "            \n",
    "            if len(child.codigo) > len(problem.w):\n",
    "                continue\n",
    "            \n",
    "            if (code not in explored.keys()) or (cost < explored[code]):\n",
    "                frontier.push(child, cost)\n",
    "                explored[code]  = cost\n",
    "                \n",
    "    return \"falla\""
   ]
  },
  {
   "cell_type": "markdown",
   "id": "f39d7c57",
   "metadata": {},
   "source": [
    "## GREEDY SEARCH"
   ]
  },
  {
   "cell_type": "code",
   "execution_count": 12,
   "id": "d063abbf",
   "metadata": {},
   "outputs": [],
   "source": [
    "def error_function(state: str, obj: str) -> int:\n",
    "    \n",
    "    \"\"\"\n",
    "        Input:\n",
    "            state: String de la forma \"aaSbb\" o \"aabb\" por ejemplo.\n",
    "            \n",
    "        Output:\n",
    "            nuestra loca euristica (int)\n",
    "    \"\"\"\n",
    "\n",
    "    if len(obj) == len(state):\n",
    "        char_distance = sum([ 1 for l1, l2 in zip(list(obj), list(state))  if l1 != l2])**2\n",
    "    \n",
    "    else:\n",
    "        char_distance = len(obj)**2\n",
    "        \n",
    "    lenght_distance = ( (len(obj) - len(state))**2 )\n",
    "\n",
    "    return lenght_distance + char_distance"
   ]
  },
  {
   "cell_type": "code",
   "execution_count": 13,
   "id": "ec6c71e4",
   "metadata": {},
   "outputs": [],
   "source": [
    "def greedy_search(problema, f):\n",
    "    \n",
    "    state = problema.estado_inicial\n",
    "    node  = Nodo(estado = state, \n",
    "                 madre  = None, \n",
    "                 accion = None,\n",
    "                 costo_camino = 0, \n",
    "                 codigo = \"orgin\")\n",
    "    \n",
    "    cost = f(problema.codigo(state), problema.w)\n",
    "    \n",
    "    frontier = ListaPrioritaria()\n",
    "    frontier.push(node, cost)\n",
    "    \n",
    "    code = problema.codigo(state)\n",
    "    explored = [code]\n",
    "    \n",
    "    while not frontier.is_empty():\n",
    "        node = frontier.pop()\n",
    "\n",
    "        if problema.test_objetivo(node.estado):\n",
    "            return node\n",
    "        \n",
    "        for child in expand(problema, node):\n",
    "\n",
    "            state = child.estado\n",
    "            code  = problema.codigo(state)\n",
    "            \n",
    "            if len(code) > len(problema.w):\n",
    "                continue\n",
    "\n",
    "            if code not in explored:\n",
    "                cost  = f(problema.codigo(state), problema.w)\n",
    "                frontier.push(child, cost)\n",
    "                explored.append(code)\n",
    "    \n",
    "    return None"
   ]
  },
  {
   "cell_type": "code",
   "execution_count": null,
   "id": "da5572df",
   "metadata": {},
   "outputs": [],
   "source": []
  },
  {
   "cell_type": "markdown",
   "id": "5f1a0b79",
   "metadata": {},
   "source": [
    "## PRUEBAS"
   ]
  },
  {
   "cell_type": "code",
   "execution_count": 14,
   "id": "d901030a",
   "metadata": {},
   "outputs": [
    {
     "name": "stdout",
     "output_type": "stream",
     "text": [
      "The autoreload extension is already loaded. To reload it, use:\n",
      "  %reload_ext autoreload\n"
     ]
    }
   ],
   "source": [
    "%load_ext autoreload\n",
    "%autoreload 2\n",
    "from example_grammars import ExampleGrammars"
   ]
  },
  {
   "cell_type": "code",
   "execution_count": 98,
   "id": "55dd201a",
   "metadata": {},
   "outputs": [
    {
     "name": "stdout",
     "output_type": "stream",
     "text": [
      "0000000000000000000000000000111111111111111111111111110000000000000000000000000000 82\n"
     ]
    }
   ],
   "source": [
    "e = ExampleGrammars()\n",
    "\n",
    "grammar_n = 4\n",
    "gramatica = e.get_grammar(grammar_num = grammar_n)\n",
    "\n",
    "w = e.generate_word(grammar_num = grammar_n,\n",
    "                    word_interval_len = (50, 100))\n",
    "prob = Parser(gramatica, w)\n",
    "print(w, len(w))"
   ]
  },
  {
   "cell_type": "code",
   "execution_count": null,
   "id": "e3de4288",
   "metadata": {},
   "outputs": [],
   "source": []
  },
  {
   "cell_type": "code",
   "execution_count": 16,
   "id": "4f9cc104",
   "metadata": {},
   "outputs": [
    {
     "data": {
      "text/plain": [
       "<busqueda.Nodo at 0x7fc8c11ae280>"
      ]
     },
     "execution_count": 16,
     "metadata": {},
     "output_type": "execute_result"
    }
   ],
   "source": [
    "ans = best_first_search(problem = prob, fun = costs)\n",
    "ans"
   ]
  },
  {
   "cell_type": "code",
   "execution_count": 17,
   "id": "55faf65b",
   "metadata": {},
   "outputs": [
    {
     "name": "stdout",
     "output_type": "stream",
     "text": [
      "         S         \n",
      "  _______|___       \n",
      " |           A     \n",
      " |        ___|___   \n",
      " |       S       | \n",
      " |    ___|___    |  \n",
      " C   D       D   C \n",
      " |   |       |   |  \n",
      " 1   0       0   1 \n",
      "\n"
     ]
    }
   ],
   "source": [
    "prob.pintar_estado(ans.estado)"
   ]
  },
  {
   "cell_type": "code",
   "execution_count": 18,
   "id": "18d45081",
   "metadata": {},
   "outputs": [
    {
     "data": {
      "text/plain": [
       "<busqueda.Nodo at 0x7fc8c0f23eb0>"
      ]
     },
     "execution_count": 18,
     "metadata": {},
     "output_type": "execute_result"
    }
   ],
   "source": [
    "ans = breadth_first_search(prob  = prob)\n",
    "ans"
   ]
  },
  {
   "cell_type": "code",
   "execution_count": 19,
   "id": "bc7aac6c",
   "metadata": {},
   "outputs": [
    {
     "data": {
      "text/plain": [
       "'falla'"
      ]
     },
     "execution_count": 19,
     "metadata": {},
     "output_type": "execute_result"
    }
   ],
   "source": [
    "ans = depth_limited_search(prob = prob, l = len(w)*1)\n",
    "ans"
   ]
  },
  {
   "cell_type": "code",
   "execution_count": 99,
   "id": "edf556cf",
   "metadata": {},
   "outputs": [
    {
     "ename": "KeyboardInterrupt",
     "evalue": "",
     "output_type": "error",
     "traceback": [
      "\u001b[0;31m---------------------------------------------------------------------------\u001b[0m",
      "\u001b[0;31mKeyboardInterrupt\u001b[0m                         Traceback (most recent call last)",
      "Input \u001b[0;32mIn [99]\u001b[0m, in \u001b[0;36m<cell line: 1>\u001b[0;34m()\u001b[0m\n\u001b[0;32m----> 1\u001b[0m ans \u001b[38;5;241m=\u001b[39m \u001b[43mgreedy_search\u001b[49m\u001b[43m(\u001b[49m\u001b[43mprob\u001b[49m\u001b[43m,\u001b[49m\u001b[43m \u001b[49m\u001b[43merror_function\u001b[49m\u001b[43m)\u001b[49m\n\u001b[1;32m      2\u001b[0m ans\n",
      "Input \u001b[0;32mIn [13]\u001b[0m, in \u001b[0;36mgreedy_search\u001b[0;34m(problema, f)\u001b[0m\n\u001b[1;32m     21\u001b[0m \u001b[38;5;28;01mif\u001b[39;00m problema\u001b[38;5;241m.\u001b[39mtest_objetivo(node\u001b[38;5;241m.\u001b[39mestado):\n\u001b[1;32m     22\u001b[0m     \u001b[38;5;28;01mreturn\u001b[39;00m node\n\u001b[0;32m---> 24\u001b[0m \u001b[38;5;28;01mfor\u001b[39;00m child \u001b[38;5;129;01min\u001b[39;00m \u001b[43mexpand\u001b[49m\u001b[43m(\u001b[49m\u001b[43mproblema\u001b[49m\u001b[43m,\u001b[49m\u001b[43m \u001b[49m\u001b[43mnode\u001b[49m\u001b[43m)\u001b[49m:\n\u001b[1;32m     26\u001b[0m     state \u001b[38;5;241m=\u001b[39m child\u001b[38;5;241m.\u001b[39mestado\n\u001b[1;32m     27\u001b[0m     code  \u001b[38;5;241m=\u001b[39m problema\u001b[38;5;241m.\u001b[39mcodigo(state)\n",
      "Input \u001b[0;32mIn [9]\u001b[0m, in \u001b[0;36mexpand\u001b[0;34m(problema, node)\u001b[0m\n\u001b[1;32m      4\u001b[0m nodes \u001b[38;5;241m=\u001b[39m []\n\u001b[1;32m      6\u001b[0m \u001b[38;5;28;01mfor\u001b[39;00m action \u001b[38;5;129;01min\u001b[39;00m problema\u001b[38;5;241m.\u001b[39macciones_aplicables(state):\n\u001b[0;32m----> 7\u001b[0m     child \u001b[38;5;241m=\u001b[39m \u001b[43mnodo_hijo\u001b[49m\u001b[43m(\u001b[49m\u001b[43mproblema\u001b[49m\u001b[43m,\u001b[49m\u001b[43m \u001b[49m\u001b[43mnode\u001b[49m\u001b[43m,\u001b[49m\u001b[43m \u001b[49m\u001b[43maction\u001b[49m\u001b[43m)\u001b[49m\n\u001b[1;32m      8\u001b[0m     nodes\u001b[38;5;241m.\u001b[39mappend(child)\n\u001b[1;32m     10\u001b[0m \u001b[38;5;28;01mreturn\u001b[39;00m nodes\n",
      "File \u001b[0;32m~/Documents/univ/6toSemestre/ia/miniproyectos/mini1/busqueda.py:20\u001b[0m, in \u001b[0;36mnodo_hijo\u001b[0;34m(problema, madre, accion)\u001b[0m\n\u001b[1;32m     12\u001b[0m \u001b[38;5;28;01mdef\u001b[39;00m \u001b[38;5;21mnodo_hijo\u001b[39m(problema, madre, accion):\n\u001b[1;32m     13\u001b[0m \n\u001b[1;32m     14\u001b[0m     \u001b[38;5;66;03m# Función para crear un nuevo nodo\u001b[39;00m\n\u001b[0;32m   (...)\u001b[0m\n\u001b[1;32m     17\u001b[0m     \u001b[38;5;66;03m#        accion, que es una acción que da lugar al estado del nuevo nodo\u001b[39;00m\n\u001b[1;32m     18\u001b[0m     \u001b[38;5;66;03m# Output: nodo\u001b[39;00m\n\u001b[0;32m---> 20\u001b[0m     estado \u001b[38;5;241m=\u001b[39m \u001b[43mproblema\u001b[49m\u001b[38;5;241;43m.\u001b[39;49m\u001b[43mtransicion\u001b[49m\u001b[43m(\u001b[49m\u001b[43mmadre\u001b[49m\u001b[38;5;241;43m.\u001b[39;49m\u001b[43mestado\u001b[49m\u001b[43m,\u001b[49m\u001b[43m \u001b[49m\u001b[43maccion\u001b[49m\u001b[43m)\u001b[49m\n\u001b[1;32m     21\u001b[0m     costo_camino \u001b[38;5;241m=\u001b[39m madre\u001b[38;5;241m.\u001b[39mcosto_camino \u001b[38;5;241m+\u001b[39m problema\u001b[38;5;241m.\u001b[39mcosto(madre\u001b[38;5;241m.\u001b[39mestado, accion)\n\u001b[1;32m     22\u001b[0m     codigo \u001b[38;5;241m=\u001b[39m problema\u001b[38;5;241m.\u001b[39mcodigo(estado)\n",
      "File \u001b[0;32m~/Documents/univ/6toSemestre/ia/miniproyectos/mini1/AmbientesMP.py:1568\u001b[0m, in \u001b[0;36mParser.transicion\u001b[0;34m(self, estado, accion)\u001b[0m\n\u001b[1;32m   1567\u001b[0m \u001b[38;5;28;01mdef\u001b[39;00m \u001b[38;5;21mtransicion\u001b[39m(\u001b[38;5;28mself\u001b[39m, estado, accion):\n\u001b[0;32m-> 1568\u001b[0m     es_accion \u001b[38;5;241m=\u001b[39m \u001b[43mcopy\u001b[49m\u001b[38;5;241;43m.\u001b[39;49m\u001b[43mdeepcopy\u001b[49m\u001b[43m(\u001b[49m\u001b[43mestado\u001b[49m\u001b[43m)\u001b[49m\n\u001b[1;32m   1569\u001b[0m     es_accion[accion[\u001b[38;5;241m0\u001b[39m]][\u001b[38;5;241m1\u001b[39m]\u001b[38;5;241m.\u001b[39mclear()\n\u001b[1;32m   1571\u001b[0m     \u001b[38;5;28;01mfor\u001b[39;00m sim \u001b[38;5;129;01min\u001b[39;00m \u001b[38;5;28mlist\u001b[39m(accion[\u001b[38;5;241m1\u001b[39m]):\n",
      "File \u001b[0;32m~/anaconda3/lib/python3.9/copy.py:146\u001b[0m, in \u001b[0;36mdeepcopy\u001b[0;34m(x, memo, _nil)\u001b[0m\n\u001b[1;32m    144\u001b[0m copier \u001b[38;5;241m=\u001b[39m _deepcopy_dispatch\u001b[38;5;241m.\u001b[39mget(\u001b[38;5;28mcls\u001b[39m)\n\u001b[1;32m    145\u001b[0m \u001b[38;5;28;01mif\u001b[39;00m copier \u001b[38;5;129;01mis\u001b[39;00m \u001b[38;5;129;01mnot\u001b[39;00m \u001b[38;5;28;01mNone\u001b[39;00m:\n\u001b[0;32m--> 146\u001b[0m     y \u001b[38;5;241m=\u001b[39m \u001b[43mcopier\u001b[49m\u001b[43m(\u001b[49m\u001b[43mx\u001b[49m\u001b[43m,\u001b[49m\u001b[43m \u001b[49m\u001b[43mmemo\u001b[49m\u001b[43m)\u001b[49m\n\u001b[1;32m    147\u001b[0m \u001b[38;5;28;01melse\u001b[39;00m:\n\u001b[1;32m    148\u001b[0m     \u001b[38;5;28;01mif\u001b[39;00m \u001b[38;5;28missubclass\u001b[39m(\u001b[38;5;28mcls\u001b[39m, \u001b[38;5;28mtype\u001b[39m):\n",
      "File \u001b[0;32m~/anaconda3/lib/python3.9/copy.py:230\u001b[0m, in \u001b[0;36m_deepcopy_dict\u001b[0;34m(x, memo, deepcopy)\u001b[0m\n\u001b[1;32m    228\u001b[0m memo[\u001b[38;5;28mid\u001b[39m(x)] \u001b[38;5;241m=\u001b[39m y\n\u001b[1;32m    229\u001b[0m \u001b[38;5;28;01mfor\u001b[39;00m key, value \u001b[38;5;129;01min\u001b[39;00m x\u001b[38;5;241m.\u001b[39mitems():\n\u001b[0;32m--> 230\u001b[0m     y[deepcopy(key, memo)] \u001b[38;5;241m=\u001b[39m \u001b[43mdeepcopy\u001b[49m\u001b[43m(\u001b[49m\u001b[43mvalue\u001b[49m\u001b[43m,\u001b[49m\u001b[43m \u001b[49m\u001b[43mmemo\u001b[49m\u001b[43m)\u001b[49m\n\u001b[1;32m    231\u001b[0m \u001b[38;5;28;01mreturn\u001b[39;00m y\n",
      "File \u001b[0;32m~/anaconda3/lib/python3.9/copy.py:144\u001b[0m, in \u001b[0;36mdeepcopy\u001b[0;34m(x, memo, _nil)\u001b[0m\n\u001b[1;32m    140\u001b[0m     \u001b[38;5;28;01mreturn\u001b[39;00m y\n\u001b[1;32m    142\u001b[0m \u001b[38;5;28mcls\u001b[39m \u001b[38;5;241m=\u001b[39m \u001b[38;5;28mtype\u001b[39m(x)\n\u001b[0;32m--> 144\u001b[0m copier \u001b[38;5;241m=\u001b[39m \u001b[43m_deepcopy_dispatch\u001b[49m\u001b[38;5;241m.\u001b[39mget(\u001b[38;5;28mcls\u001b[39m)\n\u001b[1;32m    145\u001b[0m \u001b[38;5;28;01mif\u001b[39;00m copier \u001b[38;5;129;01mis\u001b[39;00m \u001b[38;5;129;01mnot\u001b[39;00m \u001b[38;5;28;01mNone\u001b[39;00m:\n\u001b[1;32m    146\u001b[0m     y \u001b[38;5;241m=\u001b[39m copier(x, memo)\n",
      "\u001b[0;31mKeyboardInterrupt\u001b[0m: "
     ]
    }
   ],
   "source": [
    "ans = greedy_search(prob, error_function)\n",
    "ans"
   ]
  },
  {
   "cell_type": "code",
   "execution_count": null,
   "id": "0b72f945",
   "metadata": {},
   "outputs": [],
   "source": []
  },
  {
   "cell_type": "markdown",
   "id": "1a7088bd",
   "metadata": {},
   "source": [
    "## GRÁFICAS"
   ]
  },
  {
   "cell_type": "code",
   "execution_count": 116,
   "id": "5c58480d",
   "metadata": {},
   "outputs": [
    {
     "name": "stdout",
     "output_type": "stream",
     "text": [
      "The autoreload extension is already loaded. To reload it, use:\n",
      "  %reload_ext autoreload\n"
     ]
    }
   ],
   "source": [
    "%load_ext autoreload\n",
    "%autoreload 2\n",
    "from example_grammars import ExampleGrammars\n",
    "from tiempos import *\n",
    "from random import sample\n",
    "import warnings\n",
    "warnings.filterwarnings('ignore')"
   ]
  },
  {
   "cell_type": "code",
   "execution_count": 132,
   "id": "b66c5a24",
   "metadata": {
    "scrolled": true
   },
   "outputs": [
    {
     "name": "stdout",
     "output_type": "stream",
     "text": [
      "g: 1 || w: aaaaaaaaaaabbbbbbbbbbb\n",
      "g: 2 || w: aaaaaaaaaabbbbbbbcccccccdddddddddd\n",
      "g: 3 || w: aaaaaaaaaaaaaaaaaaaaaaabbbbbbbbbbbbbbb\n",
      "g: 2 || w: aaaaaaaabbbbbbbcccccccdddddddd\n",
      "g: 2 || w: aaaaaabbbbbbbbccccccccdddddd\n"
     ]
    }
   ],
   "source": [
    "e = ExampleGrammars()\n",
    "\n",
    "funs = [\n",
    "        lambda x: best_first_search(x, costs),\n",
    "        lambda x: greedy_search(x, error_function),\n",
    "        lambda x: depth_limited_search(x, len(x.w)),\n",
    "        lambda x: breadth_first_search(x)\n",
    "       ]\n",
    "\n",
    "nombres = [\n",
    "            'Best friend', \n",
    "            'Greedy friend',\n",
    "            'Depth search',\n",
    "            'Breadth search'\n",
    "          ]\n",
    "\n",
    "word_interval_len = (20, 50)\n",
    "n_times = 5 #4\n",
    "args = []\n",
    "chosen_grammars = []\n",
    "\n",
    "for i in range(n_times):\n",
    "\n",
    "    grammar_n = choice((1, 2, 3))\n",
    "    \n",
    "    grammar = e.get_grammar(grammar_num = grammar_n)\n",
    "    w = e.generate_word(grammar_num = grammar_n,\n",
    "                        word_interval_len = word_interval_len)\n",
    "    \n",
    "    chosen_grammars.append((grammar_n, w))\n",
    "    args.append(Parser(grammar, w))\n",
    "\n",
    "\n",
    "for grammar, ex in chosen_grammars:\n",
    "    print(\"g: {0} || w: {1}\".format(grammar, ex))\n",
    "    \n"
   ]
  },
  {
   "cell_type": "code",
   "execution_count": null,
   "id": "2318bc6a",
   "metadata": {},
   "outputs": [
    {
     "data": {
      "application/vnd.jupyter.widget-view+json": {
       "model_id": "c3f4fac65d0042ea880de10d84a53f2d",
       "version_major": 2,
       "version_minor": 0
      },
      "text/plain": [
       "\r",
       "Comparando funciones:   0%|          | 0/4 [00:00<?, ?it/s]"
      ]
     },
     "metadata": {},
     "output_type": "display_data"
    },
    {
     "data": {
      "application/vnd.jupyter.widget-view+json": {
       "model_id": "d5a0ab7e97c74109bcd42249e1f51a38",
       "version_major": 2,
       "version_minor": 0
      },
      "text/plain": [
       "\r",
       "Probando función seleccionada iter. 0:   0%|          | 0/4 [00:00<?, ?it/s]"
      ]
     },
     "metadata": {},
     "output_type": "display_data"
    },
    {
     "data": {
      "application/vnd.jupyter.widget-view+json": {
       "model_id": "e49472f2f59541be8466b5647602b96e",
       "version_major": 2,
       "version_minor": 0
      },
      "text/plain": [
       "\r",
       "Probando función seleccionada iter. 1:   0%|          | 0/4 [00:00<?, ?it/s]"
      ]
     },
     "metadata": {},
     "output_type": "display_data"
    },
    {
     "data": {
      "application/vnd.jupyter.widget-view+json": {
       "model_id": "3d80834cb3b64e2cb511c2462a62e577",
       "version_major": 2,
       "version_minor": 0
      },
      "text/plain": [
       "\r",
       "Probando función seleccionada iter. 2:   0%|          | 0/4 [00:00<?, ?it/s]"
      ]
     },
     "metadata": {},
     "output_type": "display_data"
    }
   ],
   "source": [
    "data = compara_funciones_sobreargumentos(funs=funs, args=args, nombres=nombres)\n",
    "\n",
    "# Graficando\n",
    "fig, ax = plt.subplots(1,1, figsize=(3*len(funs),3), tight_layout=True)\n",
    "sns.boxplot(data=data, x='Función', y='Tiempo')\n",
    "sns.swarmplot(data=data, x='Función', y='Tiempo', color='black', alpha = 0.5, ax=ax);\n",
    "\n",
    "# Anova diferencia de medias\n",
    "model = ols('Tiempo ~ C(Función)', data=data).fit()\n",
    "anova_table = sm.stats.anova_lm(model, typ=2)\n",
    "print(anova_table)"
   ]
  },
  {
   "cell_type": "code",
   "execution_count": null,
   "id": "d1de2b2c",
   "metadata": {},
   "outputs": [],
   "source": [
    "me fui al baño por si algo uwu"
   ]
  }
 ],
 "metadata": {
  "kernelspec": {
   "display_name": "Python 3 (ipykernel)",
   "language": "python",
   "name": "python3"
  },
  "language_info": {
   "codemirror_mode": {
    "name": "ipython",
    "version": 3
   },
   "file_extension": ".py",
   "mimetype": "text/x-python",
   "name": "python",
   "nbconvert_exporter": "python",
   "pygments_lexer": "ipython3",
   "version": "3.9.12"
  }
 },
 "nbformat": 4,
 "nbformat_minor": 5
}
