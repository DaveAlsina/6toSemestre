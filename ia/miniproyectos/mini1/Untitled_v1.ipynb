{
 "cells": [
  {
   "cell_type": "code",
   "execution_count": 1,
   "id": "30a4a8a9",
   "metadata": {},
   "outputs": [],
   "source": [
    "%load_ext autoreload\n",
    "%autoreload 2\n",
    "import matplotlib as mpl\n",
    "from AmbientesMP import *\n",
    "from random import choice\n",
    "from busqueda import Nodo , nodo_hijo\n",
    "\n",
    "mpl.rcParams['figure.dpi'] = 300"
   ]
  },
  {
   "cell_type": "markdown",
   "id": "c22804ea",
   "metadata": {},
   "source": [
    "## BREAD FIRST SEARCH"
   ]
  },
  {
   "cell_type": "code",
   "execution_count": 2,
   "id": "d9506fe8",
   "metadata": {},
   "outputs": [],
   "source": [
    "def breadth_first_search(prob):\n",
    "    \n",
    "    node = Nodo(estado = prob.estado_inicial,\n",
    "                madre  = None, \n",
    "                accion = None, \n",
    "                costo_camino = 0, \n",
    "                codigo = \"origin\")\n",
    "    \n",
    "    if prob.test_objetivo(node.estado):\n",
    "        return node\n",
    "    \n",
    "    frontier = [node]\n",
    "    explored = []  \n",
    "    \n",
    "        \n",
    "    while len(frontier) > 0:\n",
    "        node = frontier.pop(0)\n",
    "        explored.append(node.codigo)\n",
    "        \n",
    "        for action in prob.acciones_aplicables(node.estado):\n",
    "            child = nodo_hijo(prob, node, action)\n",
    "            \n",
    "            if prob.test_objetivo(child.estado):\n",
    "                return child\n",
    "            if child.codigo not in explored:\n",
    "                frontier.append(child)\n",
    "\n",
    "            \n",
    "    return False"
   ]
  },
  {
   "cell_type": "markdown",
   "id": "0defd905",
   "metadata": {},
   "source": [
    "## DEPTH LIMITED SEARCH"
   ]
  },
  {
   "cell_type": "code",
   "execution_count": 3,
   "id": "2f97d9af",
   "metadata": {},
   "outputs": [],
   "source": [
    "def get_codes(node: Nodo):\n",
    "    \n",
    "    if node.madre == None:\n",
    "        return [node.codigo]\n",
    "    \n",
    "    return  [] + [node.codigo] + get_codes(node.madre)"
   ]
  },
  {
   "cell_type": "code",
   "execution_count": 4,
   "id": "eb87774c",
   "metadata": {},
   "outputs": [],
   "source": [
    "def is_cycle(node: Nodo):\n",
    "    \n",
    "    return len( set(get_codes(node)) ) != len(get_codes(node))"
   ]
  },
  {
   "cell_type": "code",
   "execution_count": 5,
   "id": "f140b52f",
   "metadata": {},
   "outputs": [],
   "source": [
    "def expand(problema, node):\n",
    "    \n",
    "    state = node.estado\n",
    "    nodes = []\n",
    "    \n",
    "    for action in problema.acciones_aplicables(state):\n",
    "        child = nodo_hijo(problema, node, action)\n",
    "        nodes.append(child)\n",
    "        \n",
    "    return nodes"
   ]
  },
  {
   "cell_type": "code",
   "execution_count": 6,
   "id": "7c773a1d",
   "metadata": {},
   "outputs": [],
   "source": [
    "def depth_(node):\n",
    "    \n",
    "    if node.madre == None:\n",
    "        return 0\n",
    "    \n",
    "    return 1 + depth_(node.madre) "
   ]
  },
  {
   "cell_type": "code",
   "execution_count": 7,
   "id": "384aa5d5",
   "metadata": {},
   "outputs": [],
   "source": [
    "def depth_limited_search(prob, l):\n",
    "    \n",
    "    node = Nodo(estado = prob.estado_inicial,\n",
    "                madre  = None,\n",
    "                accion = None, \n",
    "                costo_camino = 0,\n",
    "                codigo = 'origin')\n",
    "    \n",
    "    frontier  = [node]\n",
    "    result = \"falla\"\n",
    "    \n",
    "    while len(frontier) > 0:\n",
    "        \n",
    "        node = frontier.pop()\n",
    "        \n",
    "        if prob.test_objetivo(node.estado):\n",
    "            return node\n",
    "        \n",
    "        if depth_(node) >= l:\n",
    "            continue\n",
    "            #return \"cutoff\"\n",
    "        \n",
    "        elif not is_cycle(node):\n",
    "            \n",
    "            for child in expand(prob, node):\n",
    "                frontier.append(child)\n",
    "                \n",
    "    return result"
   ]
  },
  {
   "cell_type": "markdown",
   "id": "962ccd67",
   "metadata": {},
   "source": [
    "## BEST FIRST SEARCH"
   ]
  },
  {
   "cell_type": "code",
   "execution_count": 8,
   "id": "f85b7144",
   "metadata": {},
   "outputs": [],
   "source": [
    "import numpy as np\n",
    "\n",
    "class ListaPrioritaria():\n",
    "    \n",
    "    def __init__(self):\n",
    "        self.diccionario = {}\n",
    "        \n",
    "    def __str__(self):\n",
    "        cadena = '['\n",
    "        inicial = True\n",
    "        for costo in self.diccionario:\n",
    "            elementos = self.diccionario[costo]\n",
    "            for elemento in elementos:\n",
    "                if inicial:\n",
    "                    cadena += '(' + str(elemento) + ',' + str(costo) + ')'\n",
    "                    inicial = False\n",
    "                else:\n",
    "                    cadena += ', (' + str(elemento) + ',' + str(costo) + ')'\n",
    "\n",
    "        return cadena + ']'\n",
    "    \n",
    "    def push(self, elemento, costo):\n",
    "        try:\n",
    "            self.diccionario[costo].append(elemento)\n",
    "        except:\n",
    "            self.diccionario[costo] = [elemento]\n",
    "            \n",
    "    def pop(self):\n",
    "        min_costo  = min(list(self.diccionario.keys()))\n",
    "        candidatos = self.diccionario[min_costo]\n",
    "        elemento   = candidatos.pop()\n",
    "        \n",
    "        if len(candidatos) == 0:\n",
    "            del self.diccionario[min_costo]\n",
    "        return elemento\n",
    "    \n",
    "    def is_empty(self):\n",
    "        return len(self.diccionario) == 0"
   ]
  },
  {
   "cell_type": "code",
   "execution_count": 9,
   "id": "5143be35",
   "metadata": {},
   "outputs": [],
   "source": [
    "def expand(problema, node):\n",
    "    \n",
    "    state = node.estado\n",
    "    nodes = []\n",
    "    \n",
    "    for action in problema.acciones_aplicables(state):\n",
    "        child = nodo_hijo(problema, node, action)\n",
    "        nodes.append(child)\n",
    "        \n",
    "    return nodes"
   ]
  },
  {
   "cell_type": "code",
   "execution_count": 10,
   "id": "d063abbf",
   "metadata": {},
   "outputs": [],
   "source": [
    "def error_function(state: str, obj: str) -> int:\n",
    "    \n",
    "    \"\"\"\n",
    "        Input:\n",
    "            state: String de la forma \"aaSbb\" o \"aabb\" por ejemplo.\n",
    "            \n",
    "        Output:\n",
    "            nuestra loca euristica (int)\n",
    "    \"\"\"\n",
    "\n",
    "    if len(obj) == len(state):\n",
    "        char_distance = sum([ 1 for l1, l2 in zip(list(obj), list(state))  if l1 != l2])**2\n",
    "    \n",
    "    else:\n",
    "        char_distance = len(obj)**2\n",
    "        \n",
    "    lenght_distance = ( (len(obj) - len(state))**2 )\n",
    "\n",
    "    return lenght_distance + char_distance"
   ]
  },
  {
   "cell_type": "code",
   "execution_count": 11,
   "id": "56656aa6",
   "metadata": {},
   "outputs": [],
   "source": [
    "def costs(action: tuple)-> int:\n",
    "    \n",
    "    \"\"\"\n",
    "        INPUT:\n",
    "                action: tupla de la forma ('S', 'aSb'), por ejemplo.\n",
    "                \n",
    "        OUTPUT:\n",
    "                costo de tomar la acción (dependerá de que tan largo \n",
    "                sea el string, y esto lo hacemos para incentivar\n",
    "                que acabe rápido)\n",
    "    \"\"\"\n",
    "\n",
    "    return len(action[0])"
   ]
  },
  {
   "cell_type": "code",
   "execution_count": 12,
   "id": "d96ef43f",
   "metadata": {},
   "outputs": [],
   "source": [
    "from types import MethodType\n",
    "\n",
    "def best_first_search(problem, fun):\n",
    "      \n",
    "    state = problem.estado_inicial\n",
    "    code  = problem.codigo(state)\n",
    "    node  = Nodo(estado = state,\n",
    "                 madre  = None,\n",
    "                 accion = None, \n",
    "                 costo_camino = 0,\n",
    "                 codigo = 'origin')\n",
    "    \n",
    "    # pongo primer elemento en la frontera\n",
    "    frontier = ListaPrioritaria()\n",
    "    frontier.push(elemento = node,\n",
    "                  costo    = 0)\n",
    "    \n",
    "    #explored dict\n",
    "    explored = {}\n",
    "    explored[code] = 0\n",
    "    \n",
    "    while not frontier.is_empty():\n",
    "        \n",
    "        node = frontier.pop()\n",
    "        \n",
    "        if problem.test_objetivo(node.estado):\n",
    "            return node\n",
    "    \n",
    "        for child in expand(problem, node):\n",
    "                \n",
    "            state = child.estado\n",
    "            code  = problem.codigo(state)\n",
    "            cost  = fun(problem.codigo(state), problem.w)\n",
    "            #cost = fun(child.accion)\n",
    "            \n",
    "            if len(child.codigo) > len(problem.w):\n",
    "                continue\n",
    "            \n",
    "            if (code not in explored.keys()) or (cost < explored[code]):\n",
    "                frontier.push(child, cost)\n",
    "                explored[code]  = cost\n",
    "                \n",
    "    return \"falla\""
   ]
  },
  {
   "cell_type": "markdown",
   "id": "f39d7c57",
   "metadata": {},
   "source": [
    "## GREEDY SEARCH"
   ]
  },
  {
   "cell_type": "code",
   "execution_count": 13,
   "id": "ec6c71e4",
   "metadata": {},
   "outputs": [],
   "source": [
    "def greedy_search(problema, f):\n",
    "    \n",
    "    state = problema.estado_inicial\n",
    "    node  = Nodo(estado = state, \n",
    "                 madre  = None, \n",
    "                 accion = None,\n",
    "                 costo_camino = 0, \n",
    "                 codigo = \"orgin\")\n",
    "    \n",
    "    cost = f(problema.codigo(state), problema.w)\n",
    "    \n",
    "    frontier = ListaPrioritaria()\n",
    "    frontier.push(node, cost)\n",
    "    \n",
    "    code = problema.codigo(state)\n",
    "    explored = [code]\n",
    "    \n",
    "    while not frontier.is_empty():\n",
    "        node = frontier.pop()\n",
    "\n",
    "        if problema.test_objetivo(node.estado):\n",
    "            return node\n",
    "        \n",
    "        for child in expand(problema, node):\n",
    "\n",
    "            state = child.estado\n",
    "            code  = problema.codigo(state)\n",
    "            \n",
    "            if len(code) > len(problema.w):\n",
    "                continue\n",
    "\n",
    "            if code not in explored:\n",
    "                cost  = f(problema.codigo(state), problema.w)\n",
    "                frontier.push(child, cost)\n",
    "                explored.append(code)\n",
    "    \n",
    "    return None"
   ]
  },
  {
   "cell_type": "code",
   "execution_count": null,
   "id": "da5572df",
   "metadata": {},
   "outputs": [],
   "source": []
  },
  {
   "cell_type": "markdown",
   "id": "5f1a0b79",
   "metadata": {},
   "source": [
    "## PRUEBAS"
   ]
  },
  {
   "cell_type": "code",
   "execution_count": 14,
   "id": "d901030a",
   "metadata": {},
   "outputs": [
    {
     "name": "stdout",
     "output_type": "stream",
     "text": [
      "The autoreload extension is already loaded. To reload it, use:\n",
      "  %reload_ext autoreload\n"
     ]
    }
   ],
   "source": [
    "%load_ext autoreload\n",
    "%autoreload 2\n",
    "from example_grammars import ExampleGrammars"
   ]
  },
  {
   "cell_type": "code",
   "execution_count": 27,
   "id": "55dd201a",
   "metadata": {},
   "outputs": [
    {
     "name": "stdout",
     "output_type": "stream",
     "text": [
      "aaaaaaaaaaaabbbbbbbb 20\n"
     ]
    }
   ],
   "source": [
    "e = ExampleGrammars()\n",
    "\n",
    "grammar_n = 3\n",
    "gramatica = e.get_grammar(grammar_num = grammar_n)\n",
    "\n",
    "w = e.generate_word(grammar_num = grammar_n,\n",
    "                    word_interval_len = (10, 20))\n",
    "prob = Parser(gramatica, w)\n",
    "print(w, len(w))"
   ]
  },
  {
   "cell_type": "code",
   "execution_count": null,
   "id": "e3de4288",
   "metadata": {},
   "outputs": [],
   "source": []
  },
  {
   "cell_type": "code",
   "execution_count": 28,
   "id": "4f9cc104",
   "metadata": {},
   "outputs": [
    {
     "data": {
      "text/plain": [
       "<busqueda.Nodo at 0x7f4064075280>"
      ]
     },
     "execution_count": 28,
     "metadata": {},
     "output_type": "execute_result"
    }
   ],
   "source": [
    "ans = best_first_search(problem = prob, fun = error_function)\n",
    "ans"
   ]
  },
  {
   "cell_type": "code",
   "execution_count": 29,
   "id": "18d45081",
   "metadata": {},
   "outputs": [
    {
     "data": {
      "text/plain": [
       "<busqueda.Nodo at 0x7f406261aca0>"
      ]
     },
     "execution_count": 29,
     "metadata": {},
     "output_type": "execute_result"
    }
   ],
   "source": [
    "ans = breadth_first_search(prob  = prob)\n",
    "ans"
   ]
  },
  {
   "cell_type": "code",
   "execution_count": 30,
   "id": "bc7aac6c",
   "metadata": {},
   "outputs": [
    {
     "data": {
      "text/plain": [
       "<busqueda.Nodo at 0x7f4064075e50>"
      ]
     },
     "execution_count": 30,
     "metadata": {},
     "output_type": "execute_result"
    }
   ],
   "source": [
    "ans = depth_limited_search(prob = prob, l = len(w)*1)\n",
    "ans"
   ]
  },
  {
   "cell_type": "code",
   "execution_count": 31,
   "id": "edf556cf",
   "metadata": {},
   "outputs": [
    {
     "data": {
      "text/plain": [
       "<busqueda.Nodo at 0x7f406407a4f0>"
      ]
     },
     "execution_count": 31,
     "metadata": {},
     "output_type": "execute_result"
    }
   ],
   "source": [
    "ans = greedy_search(prob, error_function)\n",
    "ans"
   ]
  },
  {
   "cell_type": "code",
   "execution_count": null,
   "id": "0b72f945",
   "metadata": {},
   "outputs": [],
   "source": []
  },
  {
   "cell_type": "markdown",
   "id": "1a7088bd",
   "metadata": {},
   "source": [
    "## GRÁFICAS"
   ]
  },
  {
   "cell_type": "code",
   "execution_count": 55,
   "id": "5c58480d",
   "metadata": {},
   "outputs": [
    {
     "name": "stdout",
     "output_type": "stream",
     "text": [
      "The autoreload extension is already loaded. To reload it, use:\n",
      "  %reload_ext autoreload\n"
     ]
    }
   ],
   "source": [
    "%load_ext autoreload\n",
    "%autoreload 2\n",
    "from example_grammars import ExampleGrammars\n",
    "from tiempos import *\n",
    "from random import sample\n",
    "import warnings\n",
    "warnings.filterwarnings('ignore')"
   ]
  },
  {
   "cell_type": "code",
   "execution_count": 63,
   "id": "b66c5a24",
   "metadata": {
    "scrolled": true
   },
   "outputs": [
    {
     "name": "stdout",
     "output_type": "stream",
     "text": [
      "g: 3 || w: aaaaaaabbb\n",
      "g: 2 || w: aabcdd\n",
      "g: 1 || w: aaaabbbb\n",
      "g: 3 || w: aaaaaabbb\n"
     ]
    }
   ],
   "source": [
    "e = ExampleGrammars()\n",
    "\n",
    "funs = [\n",
    "        lambda x: best_first_search(x, error_function),\n",
    "        lambda x: greedy_search(x, error_function),\n",
    "        lambda x: depth_limited_search(x, len(x.w)),\n",
    "        lambda x: breadth_first_search(x)\n",
    "       ]\n",
    "\n",
    "nombres = [\n",
    "            'Best first search (lenght and char diff.)', \n",
    "            'Greedy search (lenght and char diff.)',\n",
    "            'Depth limited search',\n",
    "            'Breadth first search'\n",
    "          ]\n",
    "\n",
    "word_interval_len = (5, 10)\n",
    "n_times = 4 #4\n",
    "args = []\n",
    "chosen_grammars = []\n",
    "\n",
    "for i in range(n_times):\n",
    "\n",
    "    grammar_n = choice((1, 2, 3))\n",
    "    \n",
    "    grammar = e.get_grammar(grammar_num = grammar_n)\n",
    "    w = e.generate_word(grammar_num = grammar_n,\n",
    "                        word_interval_len = word_interval_len)\n",
    "    \n",
    "    chosen_grammars.append((grammar_n, w))\n",
    "    args.append(Parser(grammar, w))\n",
    "\n",
    "\n",
    "for grammar, ex in chosen_grammars:\n",
    "    print(\"g: {0} || w: {1}\".format(grammar, ex))\n",
    "    \n"
   ]
  },
  {
   "cell_type": "code",
   "execution_count": 64,
   "id": "e99d2382",
   "metadata": {
    "scrolled": false
   },
   "outputs": [
    {
     "data": {
      "application/vnd.jupyter.widget-view+json": {
       "model_id": "196b8d98a1d84a6284cb4e63e3b9b601",
       "version_major": 2,
       "version_minor": 0
      },
      "text/plain": [
       "\r",
       "Comparando funciones:   0%|          | 0/4 [00:00<?, ?it/s]"
      ]
     },
     "metadata": {},
     "output_type": "display_data"
    },
    {
     "data": {
      "application/vnd.jupyter.widget-view+json": {
       "model_id": "60d6b28ae0a44cbdbd9453cadaf7231e",
       "version_major": 2,
       "version_minor": 0
      },
      "text/plain": [
       "\r",
       "Probando función seleccionada iter. 0:   0%|          | 0/4 [00:00<?, ?it/s]"
      ]
     },
     "metadata": {},
     "output_type": "display_data"
    },
    {
     "data": {
      "application/vnd.jupyter.widget-view+json": {
       "model_id": "ff06e887f1854256827e44047b551a97",
       "version_major": 2,
       "version_minor": 0
      },
      "text/plain": [
       "\r",
       "Probando función seleccionada iter. 1:   0%|          | 0/4 [00:00<?, ?it/s]"
      ]
     },
     "metadata": {},
     "output_type": "display_data"
    },
    {
     "data": {
      "application/vnd.jupyter.widget-view+json": {
       "model_id": "c239264eb563407b8eb1230bc80f8a3b",
       "version_major": 2,
       "version_minor": 0
      },
      "text/plain": [
       "\r",
       "Probando función seleccionada iter. 2:   0%|          | 0/4 [00:00<?, ?it/s]"
      ]
     },
     "metadata": {},
     "output_type": "display_data"
    },
    {
     "data": {
      "application/vnd.jupyter.widget-view+json": {
       "model_id": "1360f7b77d504082bf6475a2ad007ffe",
       "version_major": 2,
       "version_minor": 0
      },
      "text/plain": [
       "\r",
       "Probando función seleccionada iter. 3:   0%|          | 0/4 [00:00<?, ?it/s]"
      ]
     },
     "metadata": {},
     "output_type": "display_data"
    }
   ],
   "source": [
    "data = compara_funciones_sobreargumentos(funs=funs, args=args, nombres=nombres)"
   ]
  },
  {
   "cell_type": "code",
   "execution_count": 61,
   "id": "6d690973",
   "metadata": {},
   "outputs": [
    {
     "data": {
      "text/html": [
       "<div>\n",
       "<style scoped>\n",
       "    .dataframe tbody tr th:only-of-type {\n",
       "        vertical-align: middle;\n",
       "    }\n",
       "\n",
       "    .dataframe tbody tr th {\n",
       "        vertical-align: top;\n",
       "    }\n",
       "\n",
       "    .dataframe thead th {\n",
       "        text-align: right;\n",
       "    }\n",
       "</style>\n",
       "<table border=\"1\" class=\"dataframe\">\n",
       "  <thead>\n",
       "    <tr style=\"text-align: right;\">\n",
       "      <th></th>\n",
       "      <th>Función</th>\n",
       "      <th>Num_argumento</th>\n",
       "      <th>Tiempo</th>\n",
       "    </tr>\n",
       "  </thead>\n",
       "  <tbody>\n",
       "    <tr>\n",
       "      <th>0</th>\n",
       "      <td>Best friend</td>\n",
       "      <td>0</td>\n",
       "      <td>0.000784</td>\n",
       "    </tr>\n",
       "    <tr>\n",
       "      <th>1</th>\n",
       "      <td>Best friend</td>\n",
       "      <td>0</td>\n",
       "      <td>0.000578</td>\n",
       "    </tr>\n",
       "    <tr>\n",
       "      <th>2</th>\n",
       "      <td>Best friend</td>\n",
       "      <td>0</td>\n",
       "      <td>0.000567</td>\n",
       "    </tr>\n",
       "    <tr>\n",
       "      <th>3</th>\n",
       "      <td>Best friend</td>\n",
       "      <td>0</td>\n",
       "      <td>0.000600</td>\n",
       "    </tr>\n",
       "    <tr>\n",
       "      <th>4</th>\n",
       "      <td>Best friend</td>\n",
       "      <td>0</td>\n",
       "      <td>0.000560</td>\n",
       "    </tr>\n",
       "    <tr>\n",
       "      <th>...</th>\n",
       "      <td>...</td>\n",
       "      <td>...</td>\n",
       "      <td>...</td>\n",
       "    </tr>\n",
       "    <tr>\n",
       "      <th>35</th>\n",
       "      <td>Breadth search</td>\n",
       "      <td>3</td>\n",
       "      <td>0.329760</td>\n",
       "    </tr>\n",
       "    <tr>\n",
       "      <th>36</th>\n",
       "      <td>Breadth search</td>\n",
       "      <td>3</td>\n",
       "      <td>0.335547</td>\n",
       "    </tr>\n",
       "    <tr>\n",
       "      <th>37</th>\n",
       "      <td>Breadth search</td>\n",
       "      <td>3</td>\n",
       "      <td>0.331770</td>\n",
       "    </tr>\n",
       "    <tr>\n",
       "      <th>38</th>\n",
       "      <td>Breadth search</td>\n",
       "      <td>3</td>\n",
       "      <td>0.313539</td>\n",
       "    </tr>\n",
       "    <tr>\n",
       "      <th>39</th>\n",
       "      <td>Breadth search</td>\n",
       "      <td>3</td>\n",
       "      <td>0.300963</td>\n",
       "    </tr>\n",
       "  </tbody>\n",
       "</table>\n",
       "<p>160 rows × 3 columns</p>\n",
       "</div>"
      ],
      "text/plain": [
       "           Función  Num_argumento    Tiempo\n",
       "0      Best friend              0  0.000784\n",
       "1      Best friend              0  0.000578\n",
       "2      Best friend              0  0.000567\n",
       "3      Best friend              0  0.000600\n",
       "4      Best friend              0  0.000560\n",
       "..             ...            ...       ...\n",
       "35  Breadth search              3  0.329760\n",
       "36  Breadth search              3  0.335547\n",
       "37  Breadth search              3  0.331770\n",
       "38  Breadth search              3  0.313539\n",
       "39  Breadth search              3  0.300963\n",
       "\n",
       "[160 rows x 3 columns]"
      ]
     },
     "execution_count": 61,
     "metadata": {},
     "output_type": "execute_result"
    }
   ],
   "source": [
    "data"
   ]
  },
  {
   "cell_type": "code",
   "execution_count": 62,
   "id": "eda18554",
   "metadata": {},
   "outputs": [
    {
     "name": "stdout",
     "output_type": "stream",
     "text": [
      "              sum_sq     df          F        PR(>F)\n",
      "C(Función)  0.185589    3.0  12.738617  1.721444e-07\n",
      "Residual    0.757587  156.0        NaN           NaN\n"
     ]
    },
    {
     "data": {
      "image/png": "[encoded data removed]",
      "text/plain": [
       "<Figure size 3600x900 with 1 Axes>"
      ]
     },
     "metadata": {
      "needs_background": "light"
     },
     "output_type": "display_data"
    }
   ],
   "source": [
    "# Graficando\n",
    "fig, ax = plt.subplots(1,1, figsize=(3*len(funs),3), tight_layout=True)\n",
    "sns.boxplot(data=data, x='Función', y='Tiempo')\n",
    "sns.swarmplot(data=data, x='Función', y='Tiempo', color='black', alpha = 0.5, ax=ax);\n",
    "\n",
    "# Anova diferencia de medias\n",
    "model = ols('Tiempo ~ C(Función)', data=data).fit()\n",
    "anova_table = sm.stats.anova_lm(model, typ=2)\n",
    "print(anova_table)"
   ]
  },
  {
   "cell_type": "code",
   "execution_count": null,
   "id": "d1de2b2c",
   "metadata": {},
   "outputs": [],
   "source": [
    "me fui al baño por si algo uwu"
   ]
  }
 ],
 "metadata": {
  "kernelspec": {
   "display_name": "Python 3 (ipykernel)",
   "language": "python",
   "name": "python3"
  },
  "language_info": {
   "codemirror_mode": {
    "name": "ipython",
    "version": 3
   },
   "file_extension": ".py",
   "mimetype": "text/x-python",
   "name": "python",
   "nbconvert_exporter": "python",
   "pygments_lexer": "ipython3",
   "version": "3.9.12"
  }
 },
 "nbformat": 4,
 "nbformat_minor": 5
}
