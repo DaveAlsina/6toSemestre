{
 "cells": [
  {
   "cell_type": "code",
   "execution_count": 1,
   "id": "1259fbfd",
   "metadata": {},
   "outputs": [],
   "source": [
    "%load_ext autoreload\n",
    "%autoreload 2\n",
    "from AmbientesMP import *\n",
    "from random import choice\n",
    "from busqueda import Nodo , nodo_hijo"
   ]
  },
  {
   "cell_type": "markdown",
   "id": "4da48b50",
   "metadata": {},
   "source": [
    "## Back tracking"
   ]
  },
  {
   "cell_type": "code",
   "execution_count": 2,
   "id": "97ee4e9e",
   "metadata": {},
   "outputs": [],
   "source": [
    "def back_tracking(prob, state):\n",
    "    \n",
    "    \n",
    "    if prob.test_objetivo(state):\n",
    "        return [state]\n",
    "    \n",
    "    for action in prob.acciones_aplicables(state):\n",
    "        \n",
    "        new_state = prob.transicion(estado = state,\n",
    "                                    accion = action)\n",
    "        \n",
    "        result = back_tracking(prob, new_state)\n",
    "        \n",
    "        if result != False:\n",
    "            return  [new_state] + result\n",
    "        \n",
    "    \n",
    "    return False"
   ]
  },
  {
   "cell_type": "markdown",
   "id": "66705476",
   "metadata": {},
   "source": [
    "## Bread first search"
   ]
  },
  {
   "cell_type": "code",
   "execution_count": 3,
   "id": "c59dc75d",
   "metadata": {},
   "outputs": [],
   "source": [
    "def bread_first_search(prob, state):\n",
    "    \n",
    "    frontier = [state]\n",
    "    \n",
    "    if prob.test_objetivo(state):\n",
    "        return state\n",
    "    \n",
    "    while len(frontier) > 0:\n",
    "        \n",
    "        state = frontier.pop(0)\n",
    "        \n",
    "        for action in prob.acciones_aplicables(state):\n",
    "            child = prob.transicion(state, action)\n",
    "            \n",
    "            if prob.test_objetivo(child):\n",
    "                return child\n",
    "            \n",
    "            frontier.append(child)\n",
    "            \n",
    "    return False"
   ]
  },
  {
   "cell_type": "markdown",
   "id": "0688b2e4",
   "metadata": {},
   "source": [
    "## Depth limited search"
   ]
  },
  {
   "cell_type": "code",
   "execution_count": 4,
   "id": "8872e9d7",
   "metadata": {},
   "outputs": [],
   "source": [
    "def get_codes(node: Nodo):\n",
    "    \n",
    "    if node.madre == None:\n",
    "        return [node.codigo]\n",
    "    \n",
    "    return  [] + [node.codigo] + get_codes(node.madre)"
   ]
  },
  {
   "cell_type": "code",
   "execution_count": 6,
   "id": "7e54d1a8",
   "metadata": {},
   "outputs": [],
   "source": [
    "def is_cycle(node: Nodo):\n",
    "    \n",
    "    return len( set(get_codes(node)) ) != len(get_codes(node))"
   ]
  },
  {
   "cell_type": "code",
   "execution_count": 7,
   "id": "bcae37ff",
   "metadata": {},
   "outputs": [],
   "source": [
    "def expand(problema, node):\n",
    "    \n",
    "    state = node.estado\n",
    "    nodes = []\n",
    "    \n",
    "    for action in problema.acciones_aplicables(state):\n",
    "        child = nodo_hijo(problema, node, action)\n",
    "        nodes.append(child)\n",
    "        \n",
    "    return nodes\n",
    "    "
   ]
  },
  {
   "cell_type": "code",
   "execution_count": 8,
   "id": "52bb8287",
   "metadata": {},
   "outputs": [],
   "source": [
    "def depth_(node):\n",
    "    \n",
    "    if node.madre == None:\n",
    "        return 0\n",
    "    \n",
    "    return 1 + depth_(node.madre)   "
   ]
  },
  {
   "cell_type": "code",
   "execution_count": 9,
   "id": "adba8581",
   "metadata": {},
   "outputs": [],
   "source": [
    "def depth_limited_search(prob, l):\n",
    "    \n",
    "    node = Nodo(estado = prob.estado_inicial,\n",
    "                madre  = None,\n",
    "                accion = None, \n",
    "                costo_camino = 0,\n",
    "                codigo = 'origin')\n",
    "    \n",
    "    frontier  = [node]\n",
    "    result = \"falla\"\n",
    "    counter = \"0\"\n",
    "    \n",
    "    while len(frontier) > 0:\n",
    "        \n",
    "        node = frontier.pop()\n",
    "        \n",
    "        if prob.test_objetivo(node.estado):\n",
    "            return node\n",
    "        \n",
    "        if depth_(node) >= l:\n",
    "            return \"cutoff\"\n",
    "        \n",
    "        elif not is_cycle(node):\n",
    "            \n",
    "            for child in expand(prob, node):\n",
    "                frontier.append(child)\n",
    "                \n",
    "    return result"
   ]
  },
  {
   "cell_type": "markdown",
   "id": "e04b4e2c",
   "metadata": {},
   "source": [
    "## best friend :D"
   ]
  },
  {
   "cell_type": "code",
   "execution_count": 10,
   "id": "062217e8",
   "metadata": {},
   "outputs": [],
   "source": [
    "import numpy as np\n",
    "\n",
    "class ListaPrioritaria():\n",
    "    \n",
    "    def __init__(self):\n",
    "        self.diccionario = {}\n",
    "        \n",
    "    def __str__(self):\n",
    "        cadena = '['\n",
    "        inicial = True\n",
    "        for costo in self.diccionario:\n",
    "            elementos = self.diccionario[costo]\n",
    "            for elemento in elementos:\n",
    "                if inicial:\n",
    "                    cadena += '(' + str(elemento) + ',' + str(costo) + ')'\n",
    "                    inicial = False\n",
    "                else:\n",
    "                    cadena += ', (' + str(elemento) + ',' + str(costo) + ')'\n",
    "\n",
    "        return cadena + ']'\n",
    "    \n",
    "    def push(self, elemento, costo):\n",
    "        try:\n",
    "            self.diccionario[costo].append(elemento)\n",
    "        except:\n",
    "            self.diccionario[costo] = [elemento]\n",
    "            \n",
    "    def pop(self):\n",
    "        min_costo  = min(list(self.diccionario.keys()))\n",
    "        candidatos = self.diccionario[min_costo]\n",
    "        elemento   = candidatos.pop()\n",
    "        \n",
    "        if len(candidatos) == 0:\n",
    "            del self.diccionario[min_costo]\n",
    "        return elemento\n",
    "    \n",
    "    def is_empty(self):\n",
    "        return len(self.diccionario) == 0\n",
    "        "
   ]
  },
  {
   "cell_type": "code",
   "execution_count": 11,
   "id": "d943c6bb",
   "metadata": {},
   "outputs": [],
   "source": [
    "def costs(self, state, action):\n",
    "    \n",
    "    \"\"\"\n",
    "        INPUT:\n",
    "                action: tupla de la forma ('S', 'aSb'), por ejemplo.\n",
    "                \n",
    "        OUTPUT:\n",
    "                costo de tomar la acción (dependerá de que tan largo \n",
    "                sea el string, y esto lo hacemos para incentivar\n",
    "                que acabe rápido)\n",
    "    \"\"\"\n",
    "\n",
    "    return len(action[1])"
   ]
  },
  {
   "cell_type": "code",
   "execution_count": 12,
   "id": "6ba4200a",
   "metadata": {},
   "outputs": [],
   "source": [
    "from types import MethodType\n",
    "\n",
    "def best_first_search(problem, fun):\n",
    "    \n",
    "    #asigna la función \"fun\" como función de costo\n",
    "    problem.costo = MethodType(fun, problem)\n",
    "    \n",
    "    state = problem.estado_inicial\n",
    "    code  = problem.codigo(s)\n",
    "    node  = Nodo(estado = state,\n",
    "                 madre  = None,\n",
    "                 accion = None, \n",
    "                 costo_camino = 0,\n",
    "                 codigo = 'origin')\n",
    "    \n",
    "    # pongo primer elemento en la frontera\n",
    "    frontier = ListaPrioritaria()\n",
    "    frontier.push(elemento = node,\n",
    "                  costo    = 0)\n",
    "    \n",
    "    #explored dict\n",
    "    explored = {code: 0}\n",
    "    \n",
    "    while not frontier.is_empty():\n",
    "        \n",
    "        node = frontier.pop()\n",
    "        \n",
    "        if problem.test_objetivo(node.estado):\n",
    "            return node\n",
    "    \n",
    "        for child in expand(problem, node):\n",
    "            state = child.estado\n",
    "            code  = problem.codigo(state)\n",
    "            cost  = child.costo_camino\n",
    "            \n",
    "            if (code not in explored.keys()) or (cost < explored[code]):\n",
    "                frontier.push(child, cost)\n",
    "                explored[code]  = cost\n",
    "                \n",
    "    return \"falla\""
   ]
  },
  {
   "cell_type": "markdown",
   "id": "dbb31ef0",
   "metadata": {},
   "source": [
    "## Greedy friend :C"
   ]
  },
  {
   "cell_type": "code",
   "execution_count": 13,
   "id": "d4fb43e5",
   "metadata": {},
   "outputs": [],
   "source": [
    "def error_function(state: str, obj: str) -> int:\n",
    "    \n",
    "    \"\"\"\n",
    "        Input:\n",
    "            state: String de la forma \"aaSbb\" o \"aabb\" por ejemplo.\n",
    "            \n",
    "        Output:\n",
    "            nuestra loca euristica (int)\n",
    "    \"\"\"\n",
    "    \n",
    "    lenght_distance = ( (len(obj) - len(state))**2 )\n",
    "    \n",
    "    if len(state) > len(obj):\n",
    "        char_distance   = len(state)**2\n",
    "    else:\n",
    "        char_distance   = sum([ 1 for l1, l2 in zip(list(obj), list(state))  if l1 != l2])**2\n",
    "\n",
    "    return lenght_distance + char_distance"
   ]
  },
  {
   "cell_type": "code",
   "execution_count": 13,
   "id": "8f66fe56",
   "metadata": {},
   "outputs": [],
   "source": [
    "def greedy_search(problema, f):\n",
    "    \n",
    "    \n",
    "    # INCLUYA AQUÍ SU CÓDIGO\n",
    "    state = problema.estado_inicial\n",
    "    node  = Nodo(estado = state, \n",
    "                 madre  = None, \n",
    "                 accion = None,\n",
    "                 costo_camino = 0, \n",
    "                 codigo = \"orgin\")\n",
    "    \n",
    "    cost = f(problema.codigo(state), problema.w)\n",
    "    \n",
    "    frontier = ListaPrioritaria()\n",
    "    frontier.push(node, cost)\n",
    "    \n",
    "    code = problema.codigo(state)\n",
    "    explored = [code]\n",
    "    \n",
    "    while not frontier.is_empty():\n",
    "        node = frontier.pop()\n",
    "\n",
    "        if problema.test_objetivo(node.estado):\n",
    "            return node\n",
    "        \n",
    "        for child in expand(problema, node):\n",
    "            state = child.estado\n",
    "            code  = problema.codigo(state)\n",
    "            \n",
    "            if code not in explored:\n",
    "                cost  = f(problema.codigo(state), problema.w)\n",
    "                frontier.push(child, cost)\n",
    "                explored.append(code)\n",
    "    \n",
    "    return None\n",
    "    \n",
    "    # AQUÍ TERMINA SU CÓDIGO"
   ]
  },
  {
   "cell_type": "code",
   "execution_count": null,
   "id": "29052bbe",
   "metadata": {},
   "outputs": [],
   "source": []
  },
  {
   "cell_type": "markdown",
   "id": "15989a1d",
   "metadata": {},
   "source": [
    "## Pruebitas"
   ]
  },
  {
   "cell_type": "code",
   "execution_count": 14,
   "id": "1a4c0796",
   "metadata": {},
   "outputs": [],
   "source": [
    "regla1 = ('S', 'aSb')\n",
    "regla2 = ('S', 'AB')\n",
    "regla3 = ('A', 'a')\n",
    "regla4 = ('B', 'b')\n",
    "gramatica = [regla1, regla2, regla3, regla4]\n",
    "\n",
    "w = \"aaaaaaaaaaaaaaabbbbbbbbbbbbbbb\"\n",
    "prob = Parser(gramatica, w)\n",
    "s = prob.estado_inicial"
   ]
  },
  {
   "cell_type": "code",
   "execution_count": null,
   "id": "a94a0b0a",
   "metadata": {},
   "outputs": [],
   "source": [
    "\"\"\"\n",
    "Note que si ponemos una palabra no satisfacible por la gramática, entonces no podremos \n",
    "solucionar el problema y se va a aquedar eternamente buscando solución.\n",
    "\n",
    "Luego debemos darle la condición de parada, si |codigo| > |w| --> paila.\n",
    "\"\"\""
   ]
  },
  {
   "cell_type": "code",
   "execution_count": 15,
   "id": "f42dd3a2",
   "metadata": {},
   "outputs": [],
   "source": [
    "ans = best_first_search(problem = prob, fun = costs)"
   ]
  },
  {
   "cell_type": "code",
   "execution_count": 16,
   "id": "efdb4c44",
   "metadata": {},
   "outputs": [
    {
     "name": "stdout",
     "output_type": "stream",
     "text": [
      "                                                         S                                                                 \n",
      "  _______________________________________________________|___                                                               \n",
      " |   |                                                       S                                                             \n",
      " |   |    ___________________________________________________|___                                                           \n",
      " |   |   |   |                                                   S                                                         \n",
      " |   |   |   |    _______________________________________________|___                                                       \n",
      " |   |   |   |   |   |                                               S                                                     \n",
      " |   |   |   |   |   |    ___________________________________________|___                                                   \n",
      " |   |   |   |   |   |   |   |                                           S                                                 \n",
      " |   |   |   |   |   |   |   |    _______________________________________|___                                               \n",
      " |   |   |   |   |   |   |   |   |   |                                       S                                             \n",
      " |   |   |   |   |   |   |   |   |   |    ___________________________________|___                                           \n",
      " |   |   |   |   |   |   |   |   |   |   |   |                                   S                                         \n",
      " |   |   |   |   |   |   |   |   |   |   |   |    _______________________________|___                                       \n",
      " |   |   |   |   |   |   |   |   |   |   |   |   |   |                               S                                     \n",
      " |   |   |   |   |   |   |   |   |   |   |   |   |   |    ___________________________|___                                   \n",
      " |   |   |   |   |   |   |   |   |   |   |   |   |   |   |   |                           S                                 \n",
      " |   |   |   |   |   |   |   |   |   |   |   |   |   |   |   |    _______________________|___                               \n",
      " |   |   |   |   |   |   |   |   |   |   |   |   |   |   |   |   |   |                       S                             \n",
      " |   |   |   |   |   |   |   |   |   |   |   |   |   |   |   |   |   |    ___________________|___                           \n",
      " |   |   |   |   |   |   |   |   |   |   |   |   |   |   |   |   |   |   |   |                   S                         \n",
      " |   |   |   |   |   |   |   |   |   |   |   |   |   |   |   |   |   |   |   |    _______________|___                       \n",
      " |   |   |   |   |   |   |   |   |   |   |   |   |   |   |   |   |   |   |   |   |   |               S                     \n",
      " |   |   |   |   |   |   |   |   |   |   |   |   |   |   |   |   |   |   |   |   |   |    ___________|___                   \n",
      " |   |   |   |   |   |   |   |   |   |   |   |   |   |   |   |   |   |   |   |   |   |   |   |           S                 \n",
      " |   |   |   |   |   |   |   |   |   |   |   |   |   |   |   |   |   |   |   |   |   |   |   |    _______|___               \n",
      " |   |   |   |   |   |   |   |   |   |   |   |   |   |   |   |   |   |   |   |   |   |   |   |   |   |       S             \n",
      " |   |   |   |   |   |   |   |   |   |   |   |   |   |   |   |   |   |   |   |   |   |   |   |   |   |    ___|_______       \n",
      " |   |   |   |   |   |   |   |   |   |   |   |   |   |   |   |   |   |   |   |   |   |   |   |   |   |   |   |       S     \n",
      " |   |   |   |   |   |   |   |   |   |   |   |   |   |   |   |   |   |   |   |   |   |   |   |   |   |   |   |    ___|___   \n",
      " |   |   |   |   |   |   |   |   |   |   |   |   |   |   |   |   |   |   |   |   |   |   |   |   |   |   |   |   A       B \n",
      " |   |   |   |   |   |   |   |   |   |   |   |   |   |   |   |   |   |   |   |   |   |   |   |   |   |   |   |   |       |  \n",
      " a   b   a   b   a   b   a   b   a   b   a   b   a   b   a   b   a   b   a   b   a   b   a   b   a   b   a   b   a       b \n",
      "\n"
     ]
    }
   ],
   "source": [
    "prob.pintar_estado(ans.estado)"
   ]
  },
  {
   "cell_type": "code",
   "execution_count": null,
   "id": "4e5b4511",
   "metadata": {},
   "outputs": [],
   "source": []
  },
  {
   "cell_type": "code",
   "execution_count": 17,
   "id": "8e408dec",
   "metadata": {},
   "outputs": [],
   "source": [
    "ans = depth_limited_search(prob = prob, l = len(w))"
   ]
  },
  {
   "cell_type": "code",
   "execution_count": 18,
   "id": "95dd79f1",
   "metadata": {},
   "outputs": [
    {
     "name": "stdout",
     "output_type": "stream",
     "text": [
      "                                                         S                                                                 \n",
      "  _______________________________________________________|___                                                               \n",
      " |   |                                                       S                                                             \n",
      " |   |    ___________________________________________________|___                                                           \n",
      " |   |   |   |                                                   S                                                         \n",
      " |   |   |   |    _______________________________________________|___                                                       \n",
      " |   |   |   |   |   |                                               S                                                     \n",
      " |   |   |   |   |   |    ___________________________________________|___                                                   \n",
      " |   |   |   |   |   |   |   |                                           S                                                 \n",
      " |   |   |   |   |   |   |   |    _______________________________________|___                                               \n",
      " |   |   |   |   |   |   |   |   |   |                                       S                                             \n",
      " |   |   |   |   |   |   |   |   |   |    ___________________________________|___                                           \n",
      " |   |   |   |   |   |   |   |   |   |   |   |                                   S                                         \n",
      " |   |   |   |   |   |   |   |   |   |   |   |    _______________________________|___                                       \n",
      " |   |   |   |   |   |   |   |   |   |   |   |   |   |                               S                                     \n",
      " |   |   |   |   |   |   |   |   |   |   |   |   |   |    ___________________________|___                                   \n",
      " |   |   |   |   |   |   |   |   |   |   |   |   |   |   |   |                           S                                 \n",
      " |   |   |   |   |   |   |   |   |   |   |   |   |   |   |   |    _______________________|___                               \n",
      " |   |   |   |   |   |   |   |   |   |   |   |   |   |   |   |   |   |                       S                             \n",
      " |   |   |   |   |   |   |   |   |   |   |   |   |   |   |   |   |   |    ___________________|___                           \n",
      " |   |   |   |   |   |   |   |   |   |   |   |   |   |   |   |   |   |   |   |                   S                         \n",
      " |   |   |   |   |   |   |   |   |   |   |   |   |   |   |   |   |   |   |   |    _______________|___                       \n",
      " |   |   |   |   |   |   |   |   |   |   |   |   |   |   |   |   |   |   |   |   |   |               S                     \n",
      " |   |   |   |   |   |   |   |   |   |   |   |   |   |   |   |   |   |   |   |   |   |    ___________|___                   \n",
      " |   |   |   |   |   |   |   |   |   |   |   |   |   |   |   |   |   |   |   |   |   |   |   |           S                 \n",
      " |   |   |   |   |   |   |   |   |   |   |   |   |   |   |   |   |   |   |   |   |   |   |   |    _______|___               \n",
      " |   |   |   |   |   |   |   |   |   |   |   |   |   |   |   |   |   |   |   |   |   |   |   |   |   |       S             \n",
      " |   |   |   |   |   |   |   |   |   |   |   |   |   |   |   |   |   |   |   |   |   |   |   |   |   |    ___|_______       \n",
      " |   |   |   |   |   |   |   |   |   |   |   |   |   |   |   |   |   |   |   |   |   |   |   |   |   |   |   |       S     \n",
      " |   |   |   |   |   |   |   |   |   |   |   |   |   |   |   |   |   |   |   |   |   |   |   |   |   |   |   |    ___|___   \n",
      " |   |   |   |   |   |   |   |   |   |   |   |   |   |   |   |   |   |   |   |   |   |   |   |   |   |   |   |   A       B \n",
      " |   |   |   |   |   |   |   |   |   |   |   |   |   |   |   |   |   |   |   |   |   |   |   |   |   |   |   |   |       |  \n",
      " a   b   a   b   a   b   a   b   a   b   a   b   a   b   a   b   a   b   a   b   a   b   a   b   a   b   a   b   a       b \n",
      "\n"
     ]
    }
   ],
   "source": [
    "prob.pintar_estado(ans.estado)"
   ]
  },
  {
   "cell_type": "code",
   "execution_count": null,
   "id": "bcb09752",
   "metadata": {},
   "outputs": [],
   "source": []
  },
  {
   "cell_type": "code",
   "execution_count": 19,
   "id": "779768a1",
   "metadata": {},
   "outputs": [],
   "source": [
    "ans = bread_first_search(prob  = prob, \n",
    "                         state = s)"
   ]
  },
  {
   "cell_type": "code",
   "execution_count": 20,
   "id": "1ed3028e",
   "metadata": {
    "scrolled": false
   },
   "outputs": [
    {
     "name": "stdout",
     "output_type": "stream",
     "text": [
      "                                                         S                                                                 \n",
      "  _______________________________________________________|___                                                               \n",
      " |   |                                                       S                                                             \n",
      " |   |    ___________________________________________________|___                                                           \n",
      " |   |   |   |                                                   S                                                         \n",
      " |   |   |   |    _______________________________________________|___                                                       \n",
      " |   |   |   |   |   |                                               S                                                     \n",
      " |   |   |   |   |   |    ___________________________________________|___                                                   \n",
      " |   |   |   |   |   |   |   |                                           S                                                 \n",
      " |   |   |   |   |   |   |   |    _______________________________________|___                                               \n",
      " |   |   |   |   |   |   |   |   |   |                                       S                                             \n",
      " |   |   |   |   |   |   |   |   |   |    ___________________________________|___                                           \n",
      " |   |   |   |   |   |   |   |   |   |   |   |                                   S                                         \n",
      " |   |   |   |   |   |   |   |   |   |   |   |    _______________________________|___                                       \n",
      " |   |   |   |   |   |   |   |   |   |   |   |   |   |                               S                                     \n",
      " |   |   |   |   |   |   |   |   |   |   |   |   |   |    ___________________________|___                                   \n",
      " |   |   |   |   |   |   |   |   |   |   |   |   |   |   |   |                           S                                 \n",
      " |   |   |   |   |   |   |   |   |   |   |   |   |   |   |   |    _______________________|___                               \n",
      " |   |   |   |   |   |   |   |   |   |   |   |   |   |   |   |   |   |                       S                             \n",
      " |   |   |   |   |   |   |   |   |   |   |   |   |   |   |   |   |   |    ___________________|___                           \n",
      " |   |   |   |   |   |   |   |   |   |   |   |   |   |   |   |   |   |   |   |                   S                         \n",
      " |   |   |   |   |   |   |   |   |   |   |   |   |   |   |   |   |   |   |   |    _______________|___                       \n",
      " |   |   |   |   |   |   |   |   |   |   |   |   |   |   |   |   |   |   |   |   |   |               S                     \n",
      " |   |   |   |   |   |   |   |   |   |   |   |   |   |   |   |   |   |   |   |   |   |    ___________|___                   \n",
      " |   |   |   |   |   |   |   |   |   |   |   |   |   |   |   |   |   |   |   |   |   |   |   |           S                 \n",
      " |   |   |   |   |   |   |   |   |   |   |   |   |   |   |   |   |   |   |   |   |   |   |   |    _______|___               \n",
      " |   |   |   |   |   |   |   |   |   |   |   |   |   |   |   |   |   |   |   |   |   |   |   |   |   |       S             \n",
      " |   |   |   |   |   |   |   |   |   |   |   |   |   |   |   |   |   |   |   |   |   |   |   |   |   |    ___|_______       \n",
      " |   |   |   |   |   |   |   |   |   |   |   |   |   |   |   |   |   |   |   |   |   |   |   |   |   |   |   |       S     \n",
      " |   |   |   |   |   |   |   |   |   |   |   |   |   |   |   |   |   |   |   |   |   |   |   |   |   |   |   |    ___|___   \n",
      " |   |   |   |   |   |   |   |   |   |   |   |   |   |   |   |   |   |   |   |   |   |   |   |   |   |   |   |   A       B \n",
      " |   |   |   |   |   |   |   |   |   |   |   |   |   |   |   |   |   |   |   |   |   |   |   |   |   |   |   |   |       |  \n",
      " a   b   a   b   a   b   a   b   a   b   a   b   a   b   a   b   a   b   a   b   a   b   a   b   a   b   a   b   a       b \n",
      "\n"
     ]
    }
   ],
   "source": [
    "prob.pintar_estado(ans)"
   ]
  },
  {
   "cell_type": "code",
   "execution_count": null,
   "id": "780d548a",
   "metadata": {},
   "outputs": [],
   "source": []
  },
  {
   "cell_type": "code",
   "execution_count": 21,
   "id": "7745f63f",
   "metadata": {},
   "outputs": [],
   "source": [
    "ans = greedy_search(prob, error_function)"
   ]
  },
  {
   "cell_type": "code",
   "execution_count": 22,
   "id": "c9c73ae5",
   "metadata": {
    "scrolled": true
   },
   "outputs": [
    {
     "name": "stdout",
     "output_type": "stream",
     "text": [
      "                                                         S                                                                 \n",
      "  _______________________________________________________|___                                                               \n",
      " |   |                                                       S                                                             \n",
      " |   |    ___________________________________________________|___                                                           \n",
      " |   |   |   |                                                   S                                                         \n",
      " |   |   |   |    _______________________________________________|___                                                       \n",
      " |   |   |   |   |   |                                               S                                                     \n",
      " |   |   |   |   |   |    ___________________________________________|___                                                   \n",
      " |   |   |   |   |   |   |   |                                           S                                                 \n",
      " |   |   |   |   |   |   |   |    _______________________________________|___                                               \n",
      " |   |   |   |   |   |   |   |   |   |                                       S                                             \n",
      " |   |   |   |   |   |   |   |   |   |    ___________________________________|___                                           \n",
      " |   |   |   |   |   |   |   |   |   |   |   |                                   S                                         \n",
      " |   |   |   |   |   |   |   |   |   |   |   |    _______________________________|___                                       \n",
      " |   |   |   |   |   |   |   |   |   |   |   |   |   |                               S                                     \n",
      " |   |   |   |   |   |   |   |   |   |   |   |   |   |    ___________________________|___                                   \n",
      " |   |   |   |   |   |   |   |   |   |   |   |   |   |   |   |                           S                                 \n",
      " |   |   |   |   |   |   |   |   |   |   |   |   |   |   |   |    _______________________|___                               \n",
      " |   |   |   |   |   |   |   |   |   |   |   |   |   |   |   |   |   |                       S                             \n",
      " |   |   |   |   |   |   |   |   |   |   |   |   |   |   |   |   |   |    ___________________|___                           \n",
      " |   |   |   |   |   |   |   |   |   |   |   |   |   |   |   |   |   |   |   |                   S                         \n",
      " |   |   |   |   |   |   |   |   |   |   |   |   |   |   |   |   |   |   |   |    _______________|___                       \n",
      " |   |   |   |   |   |   |   |   |   |   |   |   |   |   |   |   |   |   |   |   |   |               S                     \n",
      " |   |   |   |   |   |   |   |   |   |   |   |   |   |   |   |   |   |   |   |   |   |    ___________|___                   \n",
      " |   |   |   |   |   |   |   |   |   |   |   |   |   |   |   |   |   |   |   |   |   |   |   |           S                 \n",
      " |   |   |   |   |   |   |   |   |   |   |   |   |   |   |   |   |   |   |   |   |   |   |   |    _______|___               \n",
      " |   |   |   |   |   |   |   |   |   |   |   |   |   |   |   |   |   |   |   |   |   |   |   |   |   |       S             \n",
      " |   |   |   |   |   |   |   |   |   |   |   |   |   |   |   |   |   |   |   |   |   |   |   |   |   |    ___|_______       \n",
      " |   |   |   |   |   |   |   |   |   |   |   |   |   |   |   |   |   |   |   |   |   |   |   |   |   |   |   |       S     \n",
      " |   |   |   |   |   |   |   |   |   |   |   |   |   |   |   |   |   |   |   |   |   |   |   |   |   |   |   |    ___|___   \n",
      " |   |   |   |   |   |   |   |   |   |   |   |   |   |   |   |   |   |   |   |   |   |   |   |   |   |   |   |   A       B \n",
      " |   |   |   |   |   |   |   |   |   |   |   |   |   |   |   |   |   |   |   |   |   |   |   |   |   |   |   |   |       |  \n",
      " a   b   a   b   a   b   a   b   a   b   a   b   a   b   a   b   a   b   a   b   a   b   a   b   a   b   a   b   a       b \n",
      "\n"
     ]
    }
   ],
   "source": [
    "prob.pintar_estado(ans.estado)"
   ]
  }
 ],
 "metadata": {
  "kernelspec": {
   "display_name": "Python 3 (ipykernel)",
   "language": "python",
   "name": "python3"
  },
  "language_info": {
   "codemirror_mode": {
    "name": "ipython",
    "version": 3
   },
   "file_extension": ".py",
   "mimetype": "text/x-python",
   "name": "python",
   "nbconvert_exporter": "python",
   "pygments_lexer": "ipython3",
   "version": "3.9.7"
  }
 },
 "nbformat": 4,
 "nbformat_minor": 5
}
