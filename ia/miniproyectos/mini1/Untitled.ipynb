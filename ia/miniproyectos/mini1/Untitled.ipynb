{
 "cells": [
  {
   "cell_type": "code",
   "execution_count": 46,
   "id": "dc12bc84",
   "metadata": {},
   "outputs": [
    {
     "name": "stdout",
     "output_type": "stream",
     "text": [
      "The autoreload extension is already loaded. To reload it, use:\n",
      "  %reload_ext autoreload\n"
     ]
    }
   ],
   "source": [
    "%load_ext autoreload\n",
    "%autoreload 2\n",
    "from AmbientesMP import *\n",
    "from random import choice\n",
    "from busqueda import Nodo , nodo_hijo"
   ]
  },
  {
   "cell_type": "code",
   "execution_count": 33,
   "id": "89ca7210",
   "metadata": {},
   "outputs": [],
   "source": [
    "regla1 = ('S', 'aSb')\n",
    "regla2 = ('S', 'AB')\n",
    "regla3 = ('A', 'a')\n",
    "regla4 = ('B', 'b')\n",
    "gramatica = [regla1, regla2, regla3, regla4]\n",
    "\n",
    "w = \"aabb\"\n",
    "prob = Parser(gramatica, w)\n",
    "s = prob.estado_inicial"
   ]
  },
  {
   "cell_type": "markdown",
   "id": "8f75056d",
   "metadata": {},
   "source": [
    "## Back tracking"
   ]
  },
  {
   "cell_type": "code",
   "execution_count": 34,
   "id": "f6d49ad2",
   "metadata": {},
   "outputs": [],
   "source": [
    "def back_tracking(prob, state):\n",
    "    \n",
    "    \n",
    "    if prob.test_objetivo(state):\n",
    "        return [state]\n",
    "    \n",
    "    for action in prob.acciones_aplicables(state):\n",
    "        \n",
    "        new_state = prob.transicion(estado = state,\n",
    "                                    accion = action)\n",
    "        \n",
    "        result = back_tracking(prob, new_state)\n",
    "        \n",
    "        if result != False:\n",
    "            return  [new_state] + result\n",
    "        \n",
    "    \n",
    "    return False"
   ]
  },
  {
   "cell_type": "markdown",
   "id": "dee5ef0c",
   "metadata": {},
   "source": [
    "## Bread first search"
   ]
  },
  {
   "cell_type": "code",
   "execution_count": 35,
   "id": "f0107f3b",
   "metadata": {},
   "outputs": [],
   "source": [
    "def bread_first_search(prob, state):\n",
    "    \n",
    "    frontier = [state]\n",
    "    \n",
    "    if prob.test_objetivo(state):\n",
    "        return state\n",
    "    \n",
    "    while len(frontier) > 0:\n",
    "        \n",
    "        state = frontier.pop(0)\n",
    "        \n",
    "        for action in prob.acciones_aplicables(state):\n",
    "            child = prob.transicion(state, action)\n",
    "            \n",
    "            if prob.test_objetivo(child):\n",
    "                return child\n",
    "            \n",
    "            frontier.append(child)\n",
    "            \n",
    "    return False"
   ]
  },
  {
   "cell_type": "markdown",
   "id": "4414459d",
   "metadata": {},
   "source": [
    "## Depth limited search"
   ]
  },
  {
   "cell_type": "code",
   "execution_count": 40,
   "id": "f0e2eda8",
   "metadata": {},
   "outputs": [],
   "source": [
    "def get_codes(node: Nodo):\n",
    "    \n",
    "    if node.madre == None:\n",
    "        return [node.codigo]\n",
    "    \n",
    "    return  [] + [node.codigo] + get_codes(node.madre)"
   ]
  },
  {
   "cell_type": "code",
   "execution_count": 41,
   "id": "65ca4dd1",
   "metadata": {},
   "outputs": [],
   "source": [
    "def is_cycle(node: Nodo):\n",
    "    \n",
    "    return len( set(get_codes(node)) ) != len(get_codes(node))"
   ]
  },
  {
   "cell_type": "code",
   "execution_count": 42,
   "id": "ed835066",
   "metadata": {},
   "outputs": [],
   "source": [
    "def expand(problema, node):\n",
    "    \n",
    "    state = node.estado\n",
    "    nodes = []\n",
    "    \n",
    "    for action in problema.acciones_aplicables(state):\n",
    "        child = nodo_hijo(problema, node, action)\n",
    "        nodes.append(child)\n",
    "        \n",
    "    return nodes\n",
    "    "
   ]
  },
  {
   "cell_type": "code",
   "execution_count": 43,
   "id": "6ac56507",
   "metadata": {},
   "outputs": [],
   "source": [
    "def depth_(node):\n",
    "    \n",
    "    if node.madre == None:\n",
    "        return 0\n",
    "    \n",
    "    return 1 + depth_(node.madre)   "
   ]
  },
  {
   "cell_type": "code",
   "execution_count": 44,
   "id": "1cac00a0",
   "metadata": {},
   "outputs": [],
   "source": [
    "def depth_limited_search(prob, l):\n",
    "    \n",
    "    node = Nodo(estado = prob.estado_inicial,\n",
    "                madre  = None,\n",
    "                accion = None, \n",
    "                costo_camino = 0,\n",
    "                codigo = 'origin')\n",
    "    \n",
    "    frontier  = [node]\n",
    "    result = \"falla\"\n",
    "    \n",
    "    while len(frontier) > 0:\n",
    "        \n",
    "        node = frontier.pop(0)\n",
    "        \n",
    "        if prob.test_objetivo(node.estado):\n",
    "            return node\n",
    "        \n",
    "        if depth_(node) >= l:\n",
    "            return \"cutoff\"\n",
    "        \n",
    "        elif not is_cycle(node):\n",
    "            \n",
    "            for child in expand(prob, node):\n",
    "                frontier.append(child)\n",
    "                \n",
    "    return result"
   ]
  },
  {
   "cell_type": "markdown",
   "id": "7a0adaf6",
   "metadata": {},
   "source": [
    "## Pruebitas"
   ]
  },
  {
   "cell_type": "code",
   "execution_count": 47,
   "id": "1cd85053",
   "metadata": {},
   "outputs": [
    {
     "ename": "AttributeError",
     "evalue": "'Parser' object has no attribute 'codigo'",
     "output_type": "error",
     "traceback": [
      "\u001b[0;31m---------------------------------------------------------------------------\u001b[0m",
      "\u001b[0;31mAttributeError\u001b[0m                            Traceback (most recent call last)",
      "\u001b[0;32m/tmp/ipykernel_407994/1850286388.py\u001b[0m in \u001b[0;36m<module>\u001b[0;34m\u001b[0m\n\u001b[0;32m----> 1\u001b[0;31m \u001b[0mdepth_limited_search\u001b[0m\u001b[0;34m(\u001b[0m\u001b[0mprob\u001b[0m \u001b[0;34m=\u001b[0m \u001b[0mprob\u001b[0m\u001b[0;34m,\u001b[0m \u001b[0ml\u001b[0m \u001b[0;34m=\u001b[0m \u001b[0mlen\u001b[0m\u001b[0;34m(\u001b[0m\u001b[0mw\u001b[0m\u001b[0;34m)\u001b[0m\u001b[0;34m)\u001b[0m\u001b[0;34m\u001b[0m\u001b[0;34m\u001b[0m\u001b[0m\n\u001b[0m",
      "\u001b[0;32m/tmp/ipykernel_407994/4250271826.py\u001b[0m in \u001b[0;36mdepth_limited_search\u001b[0;34m(prob, l)\u001b[0m\n\u001b[1;32m     22\u001b[0m         \u001b[0;32melif\u001b[0m \u001b[0;32mnot\u001b[0m \u001b[0mis_cycle\u001b[0m\u001b[0;34m(\u001b[0m\u001b[0mnode\u001b[0m\u001b[0;34m)\u001b[0m\u001b[0;34m:\u001b[0m\u001b[0;34m\u001b[0m\u001b[0;34m\u001b[0m\u001b[0m\n\u001b[1;32m     23\u001b[0m \u001b[0;34m\u001b[0m\u001b[0m\n\u001b[0;32m---> 24\u001b[0;31m             \u001b[0;32mfor\u001b[0m \u001b[0mchild\u001b[0m \u001b[0;32min\u001b[0m \u001b[0mexpand\u001b[0m\u001b[0;34m(\u001b[0m\u001b[0mprob\u001b[0m\u001b[0;34m,\u001b[0m \u001b[0mnode\u001b[0m\u001b[0;34m)\u001b[0m\u001b[0;34m:\u001b[0m\u001b[0;34m\u001b[0m\u001b[0;34m\u001b[0m\u001b[0m\n\u001b[0m\u001b[1;32m     25\u001b[0m                 \u001b[0mfrontier\u001b[0m\u001b[0;34m.\u001b[0m\u001b[0mappend\u001b[0m\u001b[0;34m(\u001b[0m\u001b[0mchild\u001b[0m\u001b[0;34m)\u001b[0m\u001b[0;34m\u001b[0m\u001b[0;34m\u001b[0m\u001b[0m\n\u001b[1;32m     26\u001b[0m \u001b[0;34m\u001b[0m\u001b[0m\n",
      "\u001b[0;32m/tmp/ipykernel_407994/259626093.py\u001b[0m in \u001b[0;36mexpand\u001b[0;34m(problema, node)\u001b[0m\n\u001b[1;32m      5\u001b[0m \u001b[0;34m\u001b[0m\u001b[0m\n\u001b[1;32m      6\u001b[0m     \u001b[0;32mfor\u001b[0m \u001b[0maction\u001b[0m \u001b[0;32min\u001b[0m \u001b[0mproblema\u001b[0m\u001b[0;34m.\u001b[0m\u001b[0macciones_aplicables\u001b[0m\u001b[0;34m(\u001b[0m\u001b[0mstate\u001b[0m\u001b[0;34m)\u001b[0m\u001b[0;34m:\u001b[0m\u001b[0;34m\u001b[0m\u001b[0;34m\u001b[0m\u001b[0m\n\u001b[0;32m----> 7\u001b[0;31m         \u001b[0mchild\u001b[0m \u001b[0;34m=\u001b[0m \u001b[0mnodo_hijo\u001b[0m\u001b[0;34m(\u001b[0m\u001b[0mproblema\u001b[0m\u001b[0;34m,\u001b[0m \u001b[0mnode\u001b[0m\u001b[0;34m,\u001b[0m \u001b[0maction\u001b[0m\u001b[0;34m)\u001b[0m\u001b[0;34m\u001b[0m\u001b[0;34m\u001b[0m\u001b[0m\n\u001b[0m\u001b[1;32m      8\u001b[0m         \u001b[0mnodes\u001b[0m\u001b[0;34m.\u001b[0m\u001b[0mappend\u001b[0m\u001b[0;34m(\u001b[0m\u001b[0mchild\u001b[0m\u001b[0;34m)\u001b[0m\u001b[0;34m\u001b[0m\u001b[0;34m\u001b[0m\u001b[0m\n\u001b[1;32m      9\u001b[0m \u001b[0;34m\u001b[0m\u001b[0m\n",
      "\u001b[0;32m~/Documents/univ/6toSemestre/ia/miniproyectos/mini1/busqueda.py\u001b[0m in \u001b[0;36mnodo_hijo\u001b[0;34m(problema, madre, accion)\u001b[0m\n\u001b[1;32m     20\u001b[0m     \u001b[0mestado\u001b[0m \u001b[0;34m=\u001b[0m \u001b[0mproblema\u001b[0m\u001b[0;34m.\u001b[0m\u001b[0mtransicion\u001b[0m\u001b[0;34m(\u001b[0m\u001b[0mmadre\u001b[0m\u001b[0;34m.\u001b[0m\u001b[0mestado\u001b[0m\u001b[0;34m,\u001b[0m \u001b[0maccion\u001b[0m\u001b[0;34m)\u001b[0m\u001b[0;34m\u001b[0m\u001b[0;34m\u001b[0m\u001b[0m\n\u001b[1;32m     21\u001b[0m     \u001b[0mcosto_camino\u001b[0m \u001b[0;34m=\u001b[0m \u001b[0mmadre\u001b[0m\u001b[0;34m.\u001b[0m\u001b[0mcosto_camino\u001b[0m \u001b[0;34m+\u001b[0m \u001b[0mproblema\u001b[0m\u001b[0;34m.\u001b[0m\u001b[0mcosto\u001b[0m\u001b[0;34m(\u001b[0m\u001b[0mmadre\u001b[0m\u001b[0;34m.\u001b[0m\u001b[0mestado\u001b[0m\u001b[0;34m,\u001b[0m \u001b[0maccion\u001b[0m\u001b[0;34m)\u001b[0m\u001b[0;34m\u001b[0m\u001b[0;34m\u001b[0m\u001b[0m\n\u001b[0;32m---> 22\u001b[0;31m     \u001b[0mcodigo\u001b[0m \u001b[0;34m=\u001b[0m \u001b[0mproblema\u001b[0m\u001b[0;34m.\u001b[0m\u001b[0mcodigo\u001b[0m\u001b[0;34m(\u001b[0m\u001b[0mestado\u001b[0m\u001b[0;34m)\u001b[0m\u001b[0;34m\u001b[0m\u001b[0;34m\u001b[0m\u001b[0m\n\u001b[0m\u001b[1;32m     23\u001b[0m     \u001b[0;32mreturn\u001b[0m \u001b[0mNodo\u001b[0m\u001b[0;34m(\u001b[0m\u001b[0mestado\u001b[0m\u001b[0;34m,\u001b[0m \u001b[0mmadre\u001b[0m\u001b[0;34m,\u001b[0m \u001b[0maccion\u001b[0m\u001b[0;34m,\u001b[0m \u001b[0mcosto_camino\u001b[0m\u001b[0;34m,\u001b[0m \u001b[0mcodigo\u001b[0m\u001b[0;34m)\u001b[0m\u001b[0;34m\u001b[0m\u001b[0;34m\u001b[0m\u001b[0m\n\u001b[1;32m     24\u001b[0m \u001b[0;34m\u001b[0m\u001b[0m\n",
      "\u001b[0;31mAttributeError\u001b[0m: 'Parser' object has no attribute 'codigo'"
     ]
    }
   ],
   "source": [
    "depth_limited_search(prob = prob, l = len(w))"
   ]
  },
  {
   "cell_type": "code",
   "execution_count": null,
   "id": "487e40eb",
   "metadata": {},
   "outputs": [],
   "source": []
  },
  {
   "cell_type": "code",
   "execution_count": 14,
   "id": "703c0f74",
   "metadata": {},
   "outputs": [],
   "source": [
    "ans = bread_first_search(prob  = prob, \n",
    "                         state = s)"
   ]
  },
  {
   "cell_type": "code",
   "execution_count": 15,
   "id": "18f79171",
   "metadata": {},
   "outputs": [
    {
     "name": "stdout",
     "output_type": "stream",
     "text": [
      "     S             \n",
      "  ___|_______       \n",
      " |   |       S     \n",
      " |   |    ___|___   \n",
      " |   |   A       B \n",
      " |   |   |       |  \n",
      " a   b   a       b \n",
      "\n"
     ]
    }
   ],
   "source": [
    "prob.pintar_estado(ans)"
   ]
  }
 ],
 "metadata": {
  "kernelspec": {
   "display_name": "Python 3 (ipykernel)",
   "language": "python",
   "name": "python3"
  },
  "language_info": {
   "codemirror_mode": {
    "name": "ipython",
    "version": 3
   },
   "file_extension": ".py",
   "mimetype": "text/x-python",
   "name": "python",
   "nbconvert_exporter": "python",
   "pygments_lexer": "ipython3",
   "version": "3.9.7"
  }
 },
 "nbformat": 4,
 "nbformat_minor": 5
}
